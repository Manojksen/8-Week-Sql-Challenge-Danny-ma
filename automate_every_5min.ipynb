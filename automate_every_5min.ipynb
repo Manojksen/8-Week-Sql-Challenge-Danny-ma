{
  "cells": [
    {
      "cell_type": "markdown",
      "metadata": {
        "id": "view-in-github",
        "colab_type": "text"
      },
      "source": [
        "<a href=\"https://colab.research.google.com/github/Manojksen/8-Week-Sql-Challenge-Danny-ma/blob/main/automate_every_5min.ipynb\" target=\"_parent\"><img src=\"https://colab.research.google.com/assets/colab-badge.svg\" alt=\"Open In Colab\"/></a>"
      ]
    },
    {
      "cell_type": "code",
      "execution_count": null,
      "metadata": {
        "colab": {
          "base_uri": "https://localhost:8080/"
        },
        "id": "OzN1H2cXmw5_",
        "outputId": "19faef41-69b3-48d2-bfa6-8794c6d017cc"
      },
      "outputs": [
        {
          "name": "stdout",
          "output_type": "stream",
          "text": [
            "Requirement already satisfied: yfinance in /usr/local/lib/python3.11/dist-packages (0.2.65)\n",
            "Requirement already satisfied: pandas>=1.3.0 in /usr/local/lib/python3.11/dist-packages (from yfinance) (2.2.2)\n",
            "Requirement already satisfied: numpy>=1.16.5 in /usr/local/lib/python3.11/dist-packages (from yfinance) (2.0.2)\n",
            "Requirement already satisfied: requests>=2.31 in /usr/local/lib/python3.11/dist-packages (from yfinance) (2.32.3)\n",
            "Requirement already satisfied: multitasking>=0.0.7 in /usr/local/lib/python3.11/dist-packages (from yfinance) (0.0.12)\n",
            "Requirement already satisfied: platformdirs>=2.0.0 in /usr/local/lib/python3.11/dist-packages (from yfinance) (4.3.8)\n",
            "Requirement already satisfied: pytz>=2022.5 in /usr/local/lib/python3.11/dist-packages (from yfinance) (2025.2)\n",
            "Requirement already satisfied: frozendict>=2.3.4 in /usr/local/lib/python3.11/dist-packages (from yfinance) (2.4.6)\n",
            "Requirement already satisfied: peewee>=3.16.2 in /usr/local/lib/python3.11/dist-packages (from yfinance) (3.18.2)\n",
            "Requirement already satisfied: beautifulsoup4>=4.11.1 in /usr/local/lib/python3.11/dist-packages (from yfinance) (4.13.4)\n",
            "Requirement already satisfied: curl_cffi>=0.7 in /usr/local/lib/python3.11/dist-packages (from yfinance) (0.13.0)\n",
            "Requirement already satisfied: protobuf>=3.19.0 in /usr/local/lib/python3.11/dist-packages (from yfinance) (5.29.5)\n",
            "Requirement already satisfied: websockets>=13.0 in /usr/local/lib/python3.11/dist-packages (from yfinance) (15.0.1)\n",
            "Requirement already satisfied: soupsieve>1.2 in /usr/local/lib/python3.11/dist-packages (from beautifulsoup4>=4.11.1->yfinance) (2.7)\n",
            "Requirement already satisfied: typing-extensions>=4.0.0 in /usr/local/lib/python3.11/dist-packages (from beautifulsoup4>=4.11.1->yfinance) (4.14.1)\n",
            "Requirement already satisfied: cffi>=1.12.0 in /usr/local/lib/python3.11/dist-packages (from curl_cffi>=0.7->yfinance) (1.17.1)\n",
            "Requirement already satisfied: certifi>=2024.2.2 in /usr/local/lib/python3.11/dist-packages (from curl_cffi>=0.7->yfinance) (2025.8.3)\n",
            "Requirement already satisfied: python-dateutil>=2.8.2 in /usr/local/lib/python3.11/dist-packages (from pandas>=1.3.0->yfinance) (2.9.0.post0)\n",
            "Requirement already satisfied: tzdata>=2022.7 in /usr/local/lib/python3.11/dist-packages (from pandas>=1.3.0->yfinance) (2025.2)\n",
            "Requirement already satisfied: charset-normalizer<4,>=2 in /usr/local/lib/python3.11/dist-packages (from requests>=2.31->yfinance) (3.4.2)\n",
            "Requirement already satisfied: idna<4,>=2.5 in /usr/local/lib/python3.11/dist-packages (from requests>=2.31->yfinance) (3.10)\n",
            "Requirement already satisfied: urllib3<3,>=1.21.1 in /usr/local/lib/python3.11/dist-packages (from requests>=2.31->yfinance) (2.5.0)\n",
            "Requirement already satisfied: pycparser in /usr/local/lib/python3.11/dist-packages (from cffi>=1.12.0->curl_cffi>=0.7->yfinance) (2.22)\n",
            "Requirement already satisfied: six>=1.5 in /usr/local/lib/python3.11/dist-packages (from python-dateutil>=2.8.2->pandas>=1.3.0->yfinance) (1.17.0)\n"
          ]
        }
      ],
      "source": [
        "!pip install yfinance --upgrade\n",
        "import yfinance as yf\n",
        "import pandas as pd"
      ]
    },
    {
      "cell_type": "code",
      "execution_count": null,
      "metadata": {
        "id": "fP3ZVfNpwBfX"
      },
      "outputs": [],
      "source": []
    },
    {
      "cell_type": "code",
      "execution_count": null,
      "metadata": {
        "id": "RClexcWKwCLJ"
      },
      "outputs": [],
      "source": []
    },
    {
      "cell_type": "code",
      "execution_count": null,
      "metadata": {
        "id": "6k6NLd2ql_FI"
      },
      "outputs": [],
      "source": []
    },
    {
      "cell_type": "code",
      "execution_count": null,
      "metadata": {
        "id": "Fq_EYqhhKYIO"
      },
      "outputs": [],
      "source": []
    },
    {
      "cell_type": "code",
      "execution_count": null,
      "metadata": {
        "id": "twEenrBc7q6F"
      },
      "outputs": [],
      "source": []
    },
    {
      "cell_type": "code",
      "execution_count": null,
      "metadata": {
        "id": "UuvImwUxn-lS"
      },
      "outputs": [],
      "source": [
        "df = pd.read_csv(\"/content/FNO Stocks - All FO Stocks List, Technical Analysis Scanner.csv\")\n",
        "tickers = df['Symbol'].tolist()\n",
        "tickers = [ticker + '.NS' for ticker in tickers]\n",
        "all_tickers=tickers\n"
      ]
    },
    {
      "cell_type": "code",
      "execution_count": null,
      "metadata": {
        "id": "v8mJjJ1hoEwF"
      },
      "outputs": [],
      "source": [
        "all_tickers= [\"AARTIIND.NS\",\"ABBOTINDIA.NS\",\"ABFRL.NS\",\n",
        "    'ADANIENT.NS','ADANIGREEN.NS', 'ADANIPORTS.NS', 'ADANIPOWER.NS', 'AMBUJACEM.NS', 'ABB.NS',\n",
        "    'HDFCLIFE.NS', 'ANGELONE.NS', 'APOLLOHOSP.NS', 'ASIANPAINT.NS', 'AUBANK.NS', 'AUROPHARMA.NS',\n",
        "    'AXISBANK.NS', 'BAJAJ-AUTO.NS', 'BAJAJFINSV.NS', 'BAJFINANCE.NS', 'BALKRISIND.NS', 'BANDHANBNK.NS',\n",
        "    'BANKBARODA.NS', 'BEL.NS', 'BERGEPAINT.NS', 'BHARTIARTL.NS', 'BIOCON.NS', 'BOSCHLTD.NS',\n",
        "    'BPCL.NS', 'BRITANNIA.NS', 'CANBK.NS', 'CHOLAFIN.NS', 'CIPLA.NS', 'COALINDIA.NS',\n",
        "    'COLPAL.NS', 'CONCOR.NS', 'CROMPTON.NS', 'CUB.NS', 'CUMMINSIND.NS', 'DABUR.NS',\n",
        "    'DALBHARAT.NS', 'DEEPAKNTR.NS', 'DIVISLAB.NS', 'DLF.NS', 'DRREDDY.NS', 'EICHERMOT.NS',\n",
        "    'ESCORTS.NS', 'EXIDEIND.NS', 'FEDERALBNK.NS', 'GAIL.NS', 'GODREJCP.NS', 'GODREJPROP.NS',\n",
        "    'GRASIM.NS', 'HAVELLS.NS', 'HCLTECH.NS', 'HDFCBANK.NS', 'HEROMOTOCO.NS', 'HINDALCO.NS',\n",
        "    'HINDPETRO.NS', 'HINDUNILVR.NS', 'ICICIBANK.NS', 'ICICIGI.NS', 'ICICIPRULI.NS', 'IDEA.NS',\n",
        "    'IDFCFIRSTB.NS', 'IGL.NS', 'INDHOTEL.NS', 'INDIGO.NS',\"INOXWIND.NS\", 'INDUSINDBK.NS', 'INDUSTOWER.NS',\n",
        "    'INFY.NS', 'IOC.NS', 'IRCTC.NS', 'ITC.NS', 'JINDALSTEL.NS', 'JSWSTEEL.NS', 'JUBLFOOD.NS',\n",
        "    'KOTAKBANK.NS', 'GLENMARK.NS', 'LALPATHLAB.NS', 'LICHSGFIN.NS', 'LT.NS', 'LTIM.NS', 'LTTS.NS',\n",
        "    'LUPIN.NS', 'M&M.NS', 'MARICO.NS', 'MARUTI.NS', 'MUTHOOTFIN.NS',\"MANKIND.NS\", 'NAUKRI.NS', 'NAVINFLUOR.NS',\"NBCC.NS\",\n",
        "    'NESTLEIND.NS', 'NMDC.NS', 'NTPC.NS', 'OBEROIRLTY.NS', 'ONGC.NS', 'PAGEIND.NS', 'PEL.NS',\n",
        "    'PETRONET.NS', 'PIDILITIND.NS', 'PIIND.NS', 'PNB.NS', 'POLYCAB.NS', 'POWERGRID.NS', 'RECLTD.NS',\n",
        "    'RELIANCE.NS', 'SAIL.NS', 'SBILIFE.NS', 'SBIN.NS', 'SHREECEM.NS', 'SIEMENS.NS', 'SRF.NS',\n",
        "    'SUNPHARMA.NS', 'TATACHEM.NS', 'TATACOMM.NS', 'TATACONSUM.NS', 'TATAMOTORS.NS', 'TATAPOWER.NS',\n",
        "    'TATASTEEL.NS', 'TCS.NS', 'TECHM.NS', 'TITAN.NS', 'TORNTPHARM.NS', 'TRENT.NS', 'TVSMOTOR.NS',\n",
        "    'UBL.NS', 'ULTRACEMCO.NS', 'UPL.NS', 'VEDL.NS', 'VOLTAS.NS', 'WIPRO.NS', 'ZEEL.NS', 'ZYDUSLIFE.NS'\n",
        "]"
      ]
    },
    {
      "cell_type": "code",
      "execution_count": null,
      "metadata": {
        "id": "55BOSTPOoE__"
      },
      "outputs": [],
      "source": []
    },
    {
      "cell_type": "code",
      "execution_count": null,
      "metadata": {
        "colab": {
          "base_uri": "https://localhost:8080/"
        },
        "id": "pI_gIUpknkmY",
        "outputId": "6bc34521-901c-48cc-cdbf-a950cb98d0c2"
      },
      "outputs": [
        {
          "name": "stdout",
          "output_type": "stream",
          "text": [
            "\n",
            "🕒 Running Screener at 2025-08-13 09:12:49 IST\n"
          ]
        },
        {
          "name": "stderr",
          "output_type": "stream",
          "text": [
            "/tmp/ipython-input-2225652310.py:48: FutureWarning: YF.download() has changed argument auto_adjust default to True\n",
            "  data = yf.download(all_tickers, period=\"7d\", interval=\"5m\", group_by='ticker', threads=True)\n",
            "[**********************69%********               ]  154 of 222 completedERROR:yfinance:HTTP Error 404: \n",
            "[**********************72%**********             ]  159 of 222 completedERROR:yfinance:HTTP Error 404: \n",
            "[*********************100%***********************]  222 of 222 completed\n",
            "ERROR:yfinance:\n",
            "2 Failed downloads:\n",
            "ERROR:yfinance:['BANKNIFTY.NS', 'NIFTY.NS']: YFPricesMissingError('possibly delisted; no price data found  (period=7d) (Yahoo error = \"No data found, symbol may be delisted\")')\n"
          ]
        },
        {
          "name": "stdout",
          "output_type": "stream",
          "text": [
            "BANKNIFTY.NS: Not enough data after ATR, skipping\n",
            "NIFTY.NS: Not enough data after ATR, skipping\n",
            "\n",
            "📌 Final Signals:\n",
            "          Ticker        entry_time direction        entry   sl-m\n",
            "0     HDFCAMC.NS  2025-08-13 09:12      SELL  5454.000000  13.34\n",
            "1  MUTHOOTFIN.NS  2025-08-13 09:12      SELL  2514.899902   8.38\n",
            "2        RVNL.NS  2025-08-13 09:12      SELL   323.450012   4.75\n",
            "⏳ Waiting 100 seconds until next 5-min mark...\n",
            "\n",
            "🛑 Screener manually stopped.\n"
          ]
        }
      ],
      "source": [
        "import yfinance as yf\n",
        "import pandas as pd\n",
        "from datetime import datetime, timedelta\n",
        "import pytz\n",
        "import time\n",
        "import threading\n",
        "\n",
        "# Timezone\n",
        "ist = pytz.timezone('Asia/Kolkata')\n",
        "\n",
        "\n",
        "df = pd.read_csv(\"/content/FNO Stocks - All FO Stocks List, Technical Analysis Scanner.csv\")\n",
        "tickers = df['Symbol'].tolist()\n",
        "tickers = [ticker + '.NS' for ticker in tickers]\n",
        "all_tickers=tickers\n",
        "\n",
        "\n",
        "\n",
        "# ATR Calculation\n",
        "def compute_atr(df, period=14):\n",
        "    high_low = df['High'] - df['Low']\n",
        "    high_close = (df['High'] - df['Close'].shift()).abs()\n",
        "    low_close = (df['Low'] - df['Close'].shift()).abs()\n",
        "    tr = pd.concat([high_low, high_close, low_close], axis=1).max(axis=1)\n",
        "    atr = tr.rolling(window=period).mean()\n",
        "    return atr\n",
        "\n",
        "# Check if last candle is complete\n",
        "def is_last_candle_complete(last_timestamp):\n",
        "    now_ist = datetime.now(ist)\n",
        "    return (now_ist - last_timestamp) > timedelta(minutes=5)\n",
        "\n",
        "\n",
        "# Manual stop flag\n",
        "stop_flag = False\n",
        "\n",
        "# Manual Stop Handler in background\n",
        "def listen_for_stop():\n",
        "    global stop_flag\n",
        "    input(\"🛑 Press ENTER to stop the screener anytime...\\n\")\n",
        "    stop_flag = True\n",
        "\n",
        "# Screener function\n",
        "def run_screener():\n",
        "    now_ist = datetime.now(ist)\n",
        "    print(f\"\\n🕒 Running Screener at {now_ist.strftime('%Y-%m-%d %H:%M:%S')} IST\")\n",
        "\n",
        "    data = yf.download(all_tickers, period=\"7d\", interval=\"5m\", group_by='ticker', threads=True)\n",
        "\n",
        "    buy_signals = []\n",
        "    sell_signals = []\n",
        "\n",
        "    for ticker in all_tickers:\n",
        "        try:\n",
        "            df = data[ticker].copy().sort_index()\n",
        "\n",
        "            if len(df) < 241:\n",
        "                print(f\"{ticker}: Not enough data ({len(df)} rows), skipping\")\n",
        "                continue\n",
        "\n",
        "            last_timestamp = df.index[-1].to_pydatetime().astimezone(ist)\n",
        "            if not is_last_candle_complete(last_timestamp):\n",
        "                df = df.iloc[:-1]\n",
        "\n",
        "            df['ATR_14'] = compute_atr(df)\n",
        "            df.dropna(inplace=True)\n",
        "\n",
        "            if len(df) < 241:\n",
        "                print(f\"{ticker}: Not enough data after ATR, skipping\")\n",
        "                continue\n",
        "\n",
        "            current_close = df['Close'].iloc[-1]\n",
        "            current_volume = df['Volume'].iloc[-1]\n",
        "            current_atr = df['ATR_14'].iloc[-1]\n",
        "\n",
        "            prev_240 = df.iloc[-241:-1]\n",
        "            max_close_240 = prev_240['Close'].max()\n",
        "            min_close_240 = prev_240['Close'].min()\n",
        "            avg_vol_240 = prev_240['Volume'].mean()\n",
        "\n",
        "            # Buy logic\n",
        "            if (\n",
        "                current_close > max_close_240 and\n",
        "                current_volume > 2 * avg_vol_240 and\n",
        "                current_close > 5\n",
        "            ):\n",
        "                buy_signals.append({\n",
        "                    \"Ticker\": ticker,\n",
        "                    \"Current Close\": current_close,\n",
        "                    \"Prev 240 Max Close\": max_close_240,\n",
        "                    \"Current Volume\": current_volume,\n",
        "                    \"Prev 240 Avg Volume\": avg_vol_240,\n",
        "                    \"ATR(14) 5min\": current_atr\n",
        "                })\n",
        "\n",
        "            # Sell logic\n",
        "            if (\n",
        "                current_close < min_close_240 and\n",
        "                current_volume > 2 * avg_vol_240 and\n",
        "                current_close > 5\n",
        "            ):\n",
        "                sell_signals.append({\n",
        "                    \"Ticker\": ticker,\n",
        "                    \"Current Close\": current_close,\n",
        "                    \"Prev 240 Min Close\": min_close_240,\n",
        "                    \"Current Volume\": current_volume,\n",
        "                    \"Prev 240 Avg Volume\": avg_vol_240,\n",
        "                    \"ATR(14) 5min\": current_atr\n",
        "                })\n",
        "\n",
        "        except Exception as e:\n",
        "            print(f\"Error processing {ticker}: {e}\")\n",
        "\n",
        "    buy_df = pd.DataFrame(buy_signals)\n",
        "    sell_df = pd.DataFrame(sell_signals)\n",
        "\n",
        "    combined_df = pd.DataFrame()\n",
        "    if not buy_df.empty:\n",
        "        buy_df['direction'] = 'BUY'\n",
        "        combined_df = pd.concat([combined_df, buy_df], ignore_index=True)\n",
        "\n",
        "    if not sell_df.empty:\n",
        "        sell_df['direction'] = 'SELL'\n",
        "        combined_df = pd.concat([combined_df, sell_df], ignore_index=True)\n",
        "\n",
        "    if not combined_df.empty:\n",
        "        now_ist_str = now_ist.strftime(\"%Y-%m-%d %H:%M\")\n",
        "        combined_df['entry_time'] = now_ist_str\n",
        "        combined_df['entry'] = combined_df['Current Close']\n",
        "        combined_df['sl-m'] = (combined_df['ATR(14) 5min'] * 1.5).round(2)\n",
        "\n",
        "        result_df = combined_df[['Ticker', 'entry_time', 'direction', 'entry', 'sl-m']]\n",
        "        print(\"\\n📌 Final Signals:\")\n",
        "        print(result_df)\n",
        "    else:\n",
        "        print(\"🔍 No signals this round.\")\n",
        "\n",
        "# ====================\n",
        "# 🔁 Aligned 5-min Loop\n",
        "# ====================\n",
        "threading.Thread(target=listen_for_stop, daemon=True).start()\n",
        "\n",
        "try:\n",
        "    while not stop_flag:\n",
        "        run_screener()\n",
        "\n",
        "        # Wait till next 5-minute multiple\n",
        "        now = datetime.now(ist)\n",
        "        seconds_to_next_5min = 300 - ((now.minute * 60 + now.second) % 300)\n",
        "        print(f\"⏳ Waiting {seconds_to_next_5min} seconds until next 5-min mark...\\n\")\n",
        "        time.sleep(seconds_to_next_5min)\n",
        "\n",
        "except KeyboardInterrupt:\n",
        "    print(\"🛑 Screener manually stopped.\")\n",
        "\n"
      ]
    },
    {
      "cell_type": "code",
      "execution_count": null,
      "metadata": {
        "id": "ppQ4H58v-pyU"
      },
      "outputs": [],
      "source": []
    },
    {
      "cell_type": "code",
      "execution_count": null,
      "metadata": {
        "id": "U7LWhMg3pY1z"
      },
      "outputs": [],
      "source": []
    },
    {
      "cell_type": "code",
      "execution_count": null,
      "metadata": {
        "colab": {
          "background_save": true,
          "base_uri": "https://localhost:8080/"
        },
        "id": "e1wgNqv8OT4k",
        "outputId": "8938eba6-3bd2-482a-9fae-229c18ec0245"
      },
      "outputs": [
        {
          "name": "stderr",
          "output_type": "stream",
          "text": [
            "/tmp/ipython-input-176237620.py:51: FutureWarning: YF.download() has changed argument auto_adjust default to True\n",
            "  data = yf.download(all_tickers, period=\"7d\", interval=\"5m\", group_by='ticker', threads=True)\n"
          ]
        },
        {
          "name": "stdout",
          "output_type": "stream",
          "text": [
            "\n",
            "🕒 Running Screener at 2025-08-13 09:21:02 IST\n"
          ]
        },
        {
          "name": "stderr",
          "output_type": "stream",
          "text": [
            "[********************  41%                       ]  90 of 222 completedERROR:yfinance:HTTP Error 404: \n",
            "[**********************63%*****                  ]  140 of 222 completedERROR:yfinance:HTTP Error 404: \n",
            "[*********************100%***********************]  222 of 222 completed\n",
            "ERROR:yfinance:\n",
            "2 Failed downloads:\n",
            "ERROR:yfinance:['NIFTY.NS', 'BANKNIFTY.NS']: YFPricesMissingError('possibly delisted; no price data found  (period=7d) (Yahoo error = \"No data found, symbol may be delisted\")')\n"
          ]
        },
        {
          "name": "stdout",
          "output_type": "stream",
          "text": [
            "BANKNIFTY.NS: Not enough data after ATR, skipping\n",
            "NIFTY.NS: Not enough data after ATR, skipping\n"
          ]
        },
        {
          "name": "stderr",
          "output_type": "stream",
          "text": [
            "/tmp/ipython-input-176237620.py:138: SettingWithCopyWarning: \n",
            "A value is trying to be set on a copy of a slice from a DataFrame.\n",
            "Try using .loc[row_indexer,col_indexer] = value instead\n",
            "\n",
            "See the caveats in the documentation: https://pandas.pydata.org/pandas-docs/stable/user_guide/indexing.html#returning-a-view-versus-a-copy\n",
            "  result_df['Symbol'] = result_df['Ticker'].str.replace('.NS', '', regex=False).str.upper()\n"
          ]
        },
        {
          "name": "stdout",
          "output_type": "stream",
          "text": [
            "\n",
            "📌 Final Signals with Weekly View and My Thought:\n",
            "           Ticker        entry_time direction        entry   sl-m   weekly  \\\n",
            "0   APOLLOHOSP.NS  2025-08-13 09:21       BUY  7599.000000  58.39  Bullish   \n",
            "1    POWERGRID.NS  2025-08-13 09:21       BUY   287.700012   0.86  Bullish   \n",
            "2        NYKAA.NS  2025-08-13 09:21       BUY   212.740005   2.02  Bullish   \n",
            "3        ALKEM.NS  2025-08-13 09:21       BUY  5286.000000  49.71  Bearish   \n",
            "4    MAXHEALTH.NS  2025-08-13 09:21       BUY  1284.800049   6.80      NaN   \n",
            "5   TORNTPOWER.NS  2025-08-13 09:21       BUY  1366.699951   5.86      NaN   \n",
            "6   TATAMOTORS.NS  2025-08-13 09:21       BUY   662.349976   2.36      NaN   \n",
            "7     HINDZINC.NS  2025-08-13 09:21       BUY   427.899994   1.85      NaN   \n",
            "8        PAYTM.NS  2025-08-13 09:21       BUY  1173.800049   9.44      NaN   \n",
            "9          MCX.NS  2025-08-13 09:21       BUY  8326.000000  45.00      NaN   \n",
            "10  ICICIPRULI.NS  2025-08-13 09:21       BUY   623.950012   2.62      NaN   \n",
            "11       CANBK.NS  2025-08-13 09:21       BUY   110.269997   0.34      NaN   \n",
            "12   BANKINDIA.NS  2025-08-13 09:21       BUY   114.290001   0.38      NaN   \n",
            "13        ONGC.NS  2025-08-13 09:21       BUY   237.279999   0.73      NaN   \n",
            "14        NMDC.NS  2025-08-13 09:21       BUY    72.010002   0.30      NaN   \n",
            "15       HUDCO.NS  2025-08-13 09:21       BUY   212.410004   1.14      NaN   \n",
            "16   DELHIVERY.NS  2025-08-13 09:21      SELL   459.049988   1.50      NaN   \n",
            "\n",
            "                            my thought  \n",
            "0   see chart bearish englfing on week  \n",
            "1                  if positive take it  \n",
            "2                  if positive take it  \n",
            "3                  if negative take it  \n",
            "4                                  NaN  \n",
            "5                                  NaN  \n",
            "6                                  NaN  \n",
            "7                                  NaN  \n",
            "8                                  NaN  \n",
            "9                                  NaN  \n",
            "10                                 NaN  \n",
            "11                                 NaN  \n",
            "12                                 NaN  \n",
            "13                                 NaN  \n",
            "14                                 NaN  \n",
            "15                                 NaN  \n",
            "16                                 NaN  \n",
            "⏳ Waiting 218 seconds until next 5-min mark...\n",
            "\n"
          ]
        },
        {
          "name": "stderr",
          "output_type": "stream",
          "text": [
            "/tmp/ipython-input-176237620.py:51: FutureWarning: YF.download() has changed argument auto_adjust default to True\n",
            "  data = yf.download(all_tickers, period=\"7d\", interval=\"5m\", group_by='ticker', threads=True)\n",
            "\r[                       0%                       ]"
          ]
        },
        {
          "name": "stdout",
          "output_type": "stream",
          "text": [
            "\n",
            "🕒 Running Screener at 2025-08-13 09:25:00 IST\n"
          ]
        },
        {
          "name": "stderr",
          "output_type": "stream",
          "text": [
            "[*********************100%***********************]  222 of 222 completed\n",
            "ERROR:yfinance:\n",
            "2 Failed downloads:\n",
            "ERROR:yfinance:['NIFTY.NS', 'BANKNIFTY.NS']: YFPricesMissingError('possibly delisted; no price data found  (period=7d) (Yahoo error = \"No data found, symbol may be delisted\")')\n"
          ]
        },
        {
          "name": "stdout",
          "output_type": "stream",
          "text": [
            "BANKNIFTY.NS: Not enough data after ATR, skipping\n",
            "NIFTY.NS: Not enough data after ATR, skipping\n"
          ]
        },
        {
          "name": "stderr",
          "output_type": "stream",
          "text": [
            "/tmp/ipython-input-176237620.py:138: SettingWithCopyWarning: \n",
            "A value is trying to be set on a copy of a slice from a DataFrame.\n",
            "Try using .loc[row_indexer,col_indexer] = value instead\n",
            "\n",
            "See the caveats in the documentation: https://pandas.pydata.org/pandas-docs/stable/user_guide/indexing.html#returning-a-view-versus-a-copy\n",
            "  result_df['Symbol'] = result_df['Ticker'].str.replace('.NS', '', regex=False).str.upper()\n"
          ]
        },
        {
          "name": "stdout",
          "output_type": "stream",
          "text": [
            "\n",
            "📌 Final Signals with Weekly View and My Thought:\n",
            "           Ticker        entry_time direction        entry   sl-m   weekly  \\\n",
            "0   APOLLOHOSP.NS  2025-08-13 09:25       BUY  7632.000000  61.66  Bullish   \n",
            "1        ALKEM.NS  2025-08-13 09:25       BUY  5297.000000  50.52  Bearish   \n",
            "2    MAXHEALTH.NS  2025-08-13 09:25       BUY  1288.000000   7.11      NaN   \n",
            "3     HINDZINC.NS  2025-08-13 09:25       BUY   428.700012   2.04      NaN   \n",
            "4        PAYTM.NS  2025-08-13 09:25       BUY  1180.000000  10.49      NaN   \n",
            "5         NHPC.NS  2025-08-13 09:25       BUY    84.940002   0.35      NaN   \n",
            "6          IEX.NS  2025-08-13 09:25       BUY   139.800003   0.59      NaN   \n",
            "7   JINDALSTEL.NS  2025-08-13 09:25       BUY  1003.049988   6.71      NaN   \n",
            "8        HUDCO.NS  2025-08-13 09:25       BUY   213.559998   1.25      NaN   \n",
            "9   INDUSINDBK.NS  2025-08-13 09:25      SELL   778.349976   2.72  Bearish   \n",
            "10       PIIND.NS  2025-08-13 09:25      SELL  3790.899902  28.01      NaN   \n",
            "\n",
            "                            my thought  \n",
            "0   see chart bearish englfing on week  \n",
            "1                  if negative take it  \n",
            "2                                  NaN  \n",
            "3                                  NaN  \n",
            "4                                  NaN  \n",
            "5                                  NaN  \n",
            "6                                  NaN  \n",
            "7                                  NaN  \n",
            "8                                  NaN  \n",
            "9                  if negative take it  \n",
            "10                                 NaN  \n",
            "⏳ Waiting 281 seconds until next 5-min mark...\n",
            "\n"
          ]
        },
        {
          "name": "stderr",
          "output_type": "stream",
          "text": [
            "/tmp/ipython-input-176237620.py:51: FutureWarning: YF.download() has changed argument auto_adjust default to True\n",
            "  data = yf.download(all_tickers, period=\"7d\", interval=\"5m\", group_by='ticker', threads=True)\n",
            "\r[                       0%                       ]"
          ]
        },
        {
          "name": "stdout",
          "output_type": "stream",
          "text": [
            "\n",
            "🕒 Running Screener at 2025-08-13 09:30:00 IST\n"
          ]
        },
        {
          "name": "stderr",
          "output_type": "stream",
          "text": [
            "[*********************100%***********************]  222 of 222 completed\n",
            "ERROR:yfinance:\n",
            "2 Failed downloads:\n",
            "ERROR:yfinance:['NIFTY.NS', 'BANKNIFTY.NS']: YFPricesMissingError('possibly delisted; no price data found  (period=7d) (Yahoo error = \"No data found, symbol may be delisted\")')\n"
          ]
        },
        {
          "name": "stdout",
          "output_type": "stream",
          "text": [
            "BANKNIFTY.NS: Not enough data after ATR, skipping\n",
            "NIFTY.NS: Not enough data after ATR, skipping\n"
          ]
        },
        {
          "name": "stderr",
          "output_type": "stream",
          "text": [
            "/tmp/ipython-input-176237620.py:138: SettingWithCopyWarning: \n",
            "A value is trying to be set on a copy of a slice from a DataFrame.\n",
            "Try using .loc[row_indexer,col_indexer] = value instead\n",
            "\n",
            "See the caveats in the documentation: https://pandas.pydata.org/pandas-docs/stable/user_guide/indexing.html#returning-a-view-versus-a-copy\n",
            "  result_df['Symbol'] = result_df['Ticker'].str.replace('.NS', '', regex=False).str.upper()\n"
          ]
        },
        {
          "name": "stdout",
          "output_type": "stream",
          "text": [
            "\n",
            "📌 Final Signals with Weekly View and My Thought:\n",
            "           Ticker        entry_time direction        entry   sl-m   weekly  \\\n",
            "0       INDIGO.NS  2025-08-13 09:30       BUY  5973.500000  21.59  Bullish   \n",
            "1         VEDL.NS  2025-08-13 09:30       BUY   439.600006   1.71  Bullish   \n",
            "2    MAXHEALTH.NS  2025-08-13 09:30       BUY  1292.000000   7.50      NaN   \n",
            "3   TORNTPOWER.NS  2025-08-13 09:30       BUY  1371.199951   6.08      NaN   \n",
            "4     AARTIIND.NS  2025-08-13 09:30       BUY   388.950012   2.96      NaN   \n",
            "5     HINDZINC.NS  2025-08-13 09:30       BUY   430.100006   2.24      NaN   \n",
            "6        PAYTM.NS  2025-08-13 09:30       BUY  1183.800049  10.93      NaN   \n",
            "7          MCX.NS  2025-08-13 09:30       BUY  8343.000000  48.96      NaN   \n",
            "8         NHPC.NS  2025-08-13 09:30       BUY    85.580002   0.44      NaN   \n",
            "9   INDUSINDBK.NS  2025-08-13 09:30      SELL   778.000000   2.75  Bearish   \n",
            "10   ICICIBANK.NS  2025-08-13 09:30      SELL  1419.699951   3.95  Bullish   \n",
            "11   TATAELXSI.NS  2025-08-13 09:30      SELL  5587.500000  24.64  Neutral   \n",
            "\n",
            "             my thought  \n",
            "0   if positive take it  \n",
            "1   if positive take it  \n",
            "2                   NaN  \n",
            "3                   NaN  \n",
            "4                   NaN  \n",
            "5                   NaN  \n",
            "6                   NaN  \n",
            "7                   NaN  \n",
            "8                   NaN  \n",
            "9   if negative take it  \n",
            "10                range  \n",
            "11                check  \n",
            "⏳ Waiting 279 seconds until next 5-min mark...\n",
            "\n",
            "\n",
            "🕒 Running Screener at 2025-08-13 09:35:00 IST\n"
          ]
        },
        {
          "name": "stderr",
          "output_type": "stream",
          "text": [
            "/tmp/ipython-input-176237620.py:51: FutureWarning: YF.download() has changed argument auto_adjust default to True\n",
            "  data = yf.download(all_tickers, period=\"7d\", interval=\"5m\", group_by='ticker', threads=True)\n",
            "[*********************100%***********************]  222 of 222 completed\n",
            "ERROR:yfinance:\n",
            "2 Failed downloads:\n",
            "ERROR:yfinance:['NIFTY.NS', 'BANKNIFTY.NS']: YFPricesMissingError('possibly delisted; no price data found  (period=7d) (Yahoo error = \"No data found, symbol may be delisted\")')\n"
          ]
        },
        {
          "name": "stdout",
          "output_type": "stream",
          "text": [
            "BANKNIFTY.NS: Not enough data after ATR, skipping\n",
            "NIFTY.NS: Not enough data after ATR, skipping\n"
          ]
        },
        {
          "name": "stderr",
          "output_type": "stream",
          "text": [
            "/tmp/ipython-input-176237620.py:138: SettingWithCopyWarning: \n",
            "A value is trying to be set on a copy of a slice from a DataFrame.\n",
            "Try using .loc[row_indexer,col_indexer] = value instead\n",
            "\n",
            "See the caveats in the documentation: https://pandas.pydata.org/pandas-docs/stable/user_guide/indexing.html#returning-a-view-versus-a-copy\n",
            "  result_df['Symbol'] = result_df['Ticker'].str.replace('.NS', '', regex=False).str.upper()\n"
          ]
        },
        {
          "name": "stdout",
          "output_type": "stream",
          "text": [
            "\n",
            "📌 Final Signals with Weekly View and My Thought:\n",
            "           Ticker        entry_time direction        entry   sl-m   weekly  \\\n",
            "0   LAURUSLABS.NS  2025-08-13 09:35       BUY   840.750000   3.69  Bullish   \n",
            "1       INDIGO.NS  2025-08-13 09:35       BUY  5977.000000  22.29  Bullish   \n",
            "2         VEDL.NS  2025-08-13 09:35       BUY   441.549988   1.88  Bullish   \n",
            "3   HEROMOTOCO.NS  2025-08-13 09:35       BUY  4701.399902  15.20      NaN   \n",
            "4     HINDALCO.NS  2025-08-13 09:35       BUY   690.650024   5.54      NaN   \n",
            "5     HINDZINC.NS  2025-08-13 09:35       BUY   430.649994   2.14      NaN   \n",
            "6      POLYCAB.NS  2025-08-13 09:35       BUY  6916.000000  29.25      NaN   \n",
            "7        DMART.NS  2025-08-13 09:35       BUY  4281.899902  11.68      NaN   \n",
            "8   NATIONALUM.NS  2025-08-13 09:35       BUY   191.160004   1.20      NaN   \n",
            "9         SAIL.NS  2025-08-13 09:35       BUY   123.809998   0.53      NaN   \n",
            "10  JINDALSTEL.NS  2025-08-13 09:35       BUY  1012.599976   7.62      NaN   \n",
            "11  INDUSINDBK.NS  2025-08-13 09:35      SELL   777.200012   2.89  Bearish   \n",
            "\n",
            "             my thought  \n",
            "0          full bullish  \n",
            "1   if positive take it  \n",
            "2   if positive take it  \n",
            "3                   NaN  \n",
            "4                   NaN  \n",
            "5                   NaN  \n",
            "6                   NaN  \n",
            "7                   NaN  \n",
            "8                   NaN  \n",
            "9                   NaN  \n",
            "10                  NaN  \n",
            "11  if negative take it  \n",
            "⏳ Waiting 281 seconds until next 5-min mark...\n",
            "\n"
          ]
        },
        {
          "name": "stderr",
          "output_type": "stream",
          "text": [
            "/tmp/ipython-input-176237620.py:51: FutureWarning: YF.download() has changed argument auto_adjust default to True\n",
            "  data = yf.download(all_tickers, period=\"7d\", interval=\"5m\", group_by='ticker', threads=True)\n",
            "\r[                       0%                       ]"
          ]
        },
        {
          "name": "stdout",
          "output_type": "stream",
          "text": [
            "\n",
            "🕒 Running Screener at 2025-08-13 09:40:00 IST\n"
          ]
        },
        {
          "name": "stderr",
          "output_type": "stream",
          "text": [
            "[*********************100%***********************]  222 of 222 completed\n",
            "ERROR:yfinance:\n",
            "2 Failed downloads:\n",
            "ERROR:yfinance:['NIFTY.NS', 'BANKNIFTY.NS']: YFPricesMissingError('possibly delisted; no price data found  (period=7d) (Yahoo error = \"No data found, symbol may be delisted\")')\n"
          ]
        },
        {
          "name": "stdout",
          "output_type": "stream",
          "text": [
            "BANKNIFTY.NS: Not enough data after ATR, skipping\n",
            "NIFTY.NS: Not enough data after ATR, skipping\n"
          ]
        },
        {
          "name": "stderr",
          "output_type": "stream",
          "text": [
            "/tmp/ipython-input-176237620.py:138: SettingWithCopyWarning: \n",
            "A value is trying to be set on a copy of a slice from a DataFrame.\n",
            "Try using .loc[row_indexer,col_indexer] = value instead\n",
            "\n",
            "See the caveats in the documentation: https://pandas.pydata.org/pandas-docs/stable/user_guide/indexing.html#returning-a-view-versus-a-copy\n",
            "  result_df['Symbol'] = result_df['Ticker'].str.replace('.NS', '', regex=False).str.upper()\n"
          ]
        },
        {
          "name": "stdout",
          "output_type": "stream",
          "text": [
            "\n",
            "📌 Final Signals with Weekly View and My Thought:\n",
            "          Ticker        entry_time direction        entry   sl-m   weekly  \\\n",
            "0  LAURUSLABS.NS  2025-08-13 09:40       BUY   840.950012   3.80  Bullish   \n",
            "1  APOLLOHOSP.NS  2025-08-13 09:40       BUY  7680.000000  73.50  Bullish   \n",
            "2       NYKAA.NS  2025-08-13 09:40       BUY   213.869995   2.93  Bullish   \n",
            "3       ALKEM.NS  2025-08-13 09:40       BUY  5298.000000  49.71  Bearish   \n",
            "4   MAXHEALTH.NS  2025-08-13 09:40       BUY  1293.000000   8.13      NaN   \n",
            "5  HEROMOTOCO.NS  2025-08-13 09:40       BUY  4708.600098  15.97      NaN   \n",
            "6    HINDALCO.NS  2025-08-13 09:40       BUY   690.750000   5.56      NaN   \n",
            "\n",
            "                           my thought  \n",
            "0                        full bullish  \n",
            "1  see chart bearish englfing on week  \n",
            "2                 if positive take it  \n",
            "3                 if negative take it  \n",
            "4                                 NaN  \n",
            "5                                 NaN  \n",
            "6                                 NaN  \n",
            "⏳ Waiting 279 seconds until next 5-min mark...\n",
            "\n"
          ]
        },
        {
          "name": "stderr",
          "output_type": "stream",
          "text": [
            "/tmp/ipython-input-176237620.py:51: FutureWarning: YF.download() has changed argument auto_adjust default to True\n",
            "  data = yf.download(all_tickers, period=\"7d\", interval=\"5m\", group_by='ticker', threads=True)\n",
            "\r[                       0%                       ]"
          ]
        },
        {
          "name": "stdout",
          "output_type": "stream",
          "text": [
            "\n",
            "🕒 Running Screener at 2025-08-13 09:45:00 IST\n"
          ]
        },
        {
          "name": "stderr",
          "output_type": "stream",
          "text": [
            "[*********************100%***********************]  222 of 222 completed\n",
            "ERROR:yfinance:\n",
            "2 Failed downloads:\n",
            "ERROR:yfinance:['NIFTY.NS', 'BANKNIFTY.NS']: YFPricesMissingError('possibly delisted; no price data found  (period=7d) (Yahoo error = \"No data found, symbol may be delisted\")')\n"
          ]
        },
        {
          "name": "stdout",
          "output_type": "stream",
          "text": [
            "BANKNIFTY.NS: Not enough data after ATR, skipping\n",
            "NIFTY.NS: Not enough data after ATR, skipping\n"
          ]
        },
        {
          "name": "stderr",
          "output_type": "stream",
          "text": [
            "/tmp/ipython-input-176237620.py:138: SettingWithCopyWarning: \n",
            "A value is trying to be set on a copy of a slice from a DataFrame.\n",
            "Try using .loc[row_indexer,col_indexer] = value instead\n",
            "\n",
            "See the caveats in the documentation: https://pandas.pydata.org/pandas-docs/stable/user_guide/indexing.html#returning-a-view-versus-a-copy\n",
            "  result_df['Symbol'] = result_df['Ticker'].str.replace('.NS', '', regex=False).str.upper()\n"
          ]
        },
        {
          "name": "stdout",
          "output_type": "stream",
          "text": [
            "\n",
            "📌 Final Signals with Weekly View and My Thought:\n",
            "           Ticker        entry_time direction        entry   sl-m   weekly  \\\n",
            "0   APOLLOHOSP.NS  2025-08-13 09:45       BUY  7682.000000  75.80  Bullish   \n",
            "1         VEDL.NS  2025-08-13 09:45       BUY   442.500000   2.19  Bullish   \n",
            "2        ALKEM.NS  2025-08-13 09:45       BUY  5311.000000  49.98  Bearish   \n",
            "3    MAXHEALTH.NS  2025-08-13 09:45       BUY  1294.500000   8.30      NaN   \n",
            "4     HINDALCO.NS  2025-08-13 09:45       BUY   694.950012   5.73      NaN   \n",
            "5          VBL.NS  2025-08-13 09:45       BUY   517.250000   2.26      NaN   \n",
            "6     HINDZINC.NS  2025-08-13 09:45       BUY   431.600006   2.21      NaN   \n",
            "7       FORTIS.NS  2025-08-13 09:45       BUY   944.900024   4.69      NaN   \n",
            "8         NMDC.NS  2025-08-13 09:45       BUY    72.099998   0.47      NaN   \n",
            "9   INDUSINDBK.NS  2025-08-13 09:45      SELL   775.650024   3.06  Bearish   \n",
            "10      COLPAL.NS  2025-08-13 09:45      SELL  2186.600098   5.97      NaN   \n",
            "11        RVNL.NS  2025-08-13 09:45      SELL   319.100006   7.17      NaN   \n",
            "12         OIL.NS  2025-08-13 09:45      SELL   417.100006   3.13      NaN   \n",
            "\n",
            "                            my thought  \n",
            "0   see chart bearish englfing on week  \n",
            "1                  if positive take it  \n",
            "2                  if negative take it  \n",
            "3                                  NaN  \n",
            "4                                  NaN  \n",
            "5                                  NaN  \n",
            "6                                  NaN  \n",
            "7                                  NaN  \n",
            "8                                  NaN  \n",
            "9                  if negative take it  \n",
            "10                                 NaN  \n",
            "11                                 NaN  \n",
            "12                                 NaN  \n",
            "⏳ Waiting 283 seconds until next 5-min mark...\n",
            "\n"
          ]
        },
        {
          "name": "stderr",
          "output_type": "stream",
          "text": [
            "/tmp/ipython-input-176237620.py:51: FutureWarning: YF.download() has changed argument auto_adjust default to True\n",
            "  data = yf.download(all_tickers, period=\"7d\", interval=\"5m\", group_by='ticker', threads=True)\n",
            "\r[                       0%                       ]"
          ]
        },
        {
          "name": "stdout",
          "output_type": "stream",
          "text": [
            "\n",
            "🕒 Running Screener at 2025-08-13 09:50:00 IST\n"
          ]
        },
        {
          "name": "stderr",
          "output_type": "stream",
          "text": [
            "[*********************100%***********************]  222 of 222 completed\n",
            "ERROR:yfinance:\n",
            "2 Failed downloads:\n",
            "ERROR:yfinance:['NIFTY.NS', 'BANKNIFTY.NS']: YFPricesMissingError('possibly delisted; no price data found  (period=7d) (Yahoo error = \"No data found, symbol may be delisted\")')\n"
          ]
        },
        {
          "name": "stdout",
          "output_type": "stream",
          "text": [
            "BANKNIFTY.NS: Not enough data after ATR, skipping\n",
            "NIFTY.NS: Not enough data after ATR, skipping\n"
          ]
        },
        {
          "name": "stderr",
          "output_type": "stream",
          "text": [
            "/tmp/ipython-input-176237620.py:138: SettingWithCopyWarning: \n",
            "A value is trying to be set on a copy of a slice from a DataFrame.\n",
            "Try using .loc[row_indexer,col_indexer] = value instead\n",
            "\n",
            "See the caveats in the documentation: https://pandas.pydata.org/pandas-docs/stable/user_guide/indexing.html#returning-a-view-versus-a-copy\n",
            "  result_df['Symbol'] = result_df['Ticker'].str.replace('.NS', '', regex=False).str.upper()\n"
          ]
        },
        {
          "name": "stdout",
          "output_type": "stream",
          "text": [
            "\n",
            "📌 Final Signals with Weekly View and My Thought:\n",
            "           Ticker        entry_time direction        entry   sl-m   weekly  \\\n",
            "0   LAURUSLABS.NS  2025-08-13 09:50       BUY   844.750000   4.17  Bullish   \n",
            "1   APOLLOHOSP.NS  2025-08-13 09:50       BUY  7692.500000  77.41  Bullish   \n",
            "2         VEDL.NS  2025-08-13 09:50       BUY   444.100006   2.39  Bullish   \n",
            "3        ALKEM.NS  2025-08-13 09:50       BUY  5320.000000  51.38  Bearish   \n",
            "4    MAXHEALTH.NS  2025-08-13 09:50       BUY  1296.000000   8.26      NaN   \n",
            "5     HINDALCO.NS  2025-08-13 09:50       BUY   695.750000   5.80      NaN   \n",
            "6    TATASTEEL.NS  2025-08-13 09:50       BUY   162.149994   0.63      NaN   \n",
            "7     HINDZINC.NS  2025-08-13 09:50       BUY   432.850006   2.32      NaN   \n",
            "8          IEX.NS  2025-08-13 09:50       BUY   140.110001   0.94      NaN   \n",
            "9          JSL.NS  2025-08-13 09:50       BUY   730.700012   4.85      NaN   \n",
            "10        NMDC.NS  2025-08-13 09:50       BUY    72.220001   0.50      NaN   \n",
            "11  JINDALSTEL.NS  2025-08-13 09:50       BUY  1015.549988   8.24      NaN   \n",
            "12  INDUSINDBK.NS  2025-08-13 09:50      SELL   775.250000   3.16  Bearish   \n",
            "\n",
            "                            my thought  \n",
            "0                         full bullish  \n",
            "1   see chart bearish englfing on week  \n",
            "2                  if positive take it  \n",
            "3                  if negative take it  \n",
            "4                                  NaN  \n",
            "5                                  NaN  \n",
            "6                                  NaN  \n",
            "7                                  NaN  \n",
            "8                                  NaN  \n",
            "9                                  NaN  \n",
            "10                                 NaN  \n",
            "11                                 NaN  \n",
            "12                 if negative take it  \n",
            "⏳ Waiting 281 seconds until next 5-min mark...\n",
            "\n"
          ]
        },
        {
          "name": "stderr",
          "output_type": "stream",
          "text": [
            "/tmp/ipython-input-176237620.py:51: FutureWarning: YF.download() has changed argument auto_adjust default to True\n",
            "  data = yf.download(all_tickers, period=\"7d\", interval=\"5m\", group_by='ticker', threads=True)\n",
            "\r[                       0%                       ]"
          ]
        },
        {
          "name": "stdout",
          "output_type": "stream",
          "text": [
            "\n",
            "🕒 Running Screener at 2025-08-13 09:55:00 IST\n"
          ]
        },
        {
          "name": "stderr",
          "output_type": "stream",
          "text": [
            "[*********************100%***********************]  222 of 222 completed\n",
            "ERROR:yfinance:\n",
            "2 Failed downloads:\n",
            "ERROR:yfinance:['NIFTY.NS', 'BANKNIFTY.NS']: YFPricesMissingError('possibly delisted; no price data found  (period=7d) (Yahoo error = \"No data found, symbol may be delisted\")')\n"
          ]
        },
        {
          "name": "stdout",
          "output_type": "stream",
          "text": [
            "BANKNIFTY.NS: Not enough data after ATR, skipping\n",
            "NIFTY.NS: Not enough data after ATR, skipping\n"
          ]
        },
        {
          "name": "stderr",
          "output_type": "stream",
          "text": [
            "/tmp/ipython-input-176237620.py:138: SettingWithCopyWarning: \n",
            "A value is trying to be set on a copy of a slice from a DataFrame.\n",
            "Try using .loc[row_indexer,col_indexer] = value instead\n",
            "\n",
            "See the caveats in the documentation: https://pandas.pydata.org/pandas-docs/stable/user_guide/indexing.html#returning-a-view-versus-a-copy\n",
            "  result_df['Symbol'] = result_df['Ticker'].str.replace('.NS', '', regex=False).str.upper()\n"
          ]
        },
        {
          "name": "stdout",
          "output_type": "stream",
          "text": [
            "\n",
            "📌 Final Signals with Weekly View and My Thought:\n",
            "          Ticker        entry_time direction        entry   sl-m   weekly  \\\n",
            "0  BHARATFORG.NS  2025-08-13 09:55       BUY  1180.000000   7.25  Bullish   \n",
            "1       ALKEM.NS  2025-08-13 09:55       BUY  5321.000000  51.48  Bearish   \n",
            "2    HINDALCO.NS  2025-08-13 09:55       BUY   695.849976   5.83      NaN   \n",
            "3         IEX.NS  2025-08-13 09:55       BUY   140.919998   1.06      NaN   \n",
            "\n",
            "            my thought  \n",
            "0       bearish candle  \n",
            "1  if negative take it  \n",
            "2                  NaN  \n",
            "3                  NaN  \n",
            "⏳ Waiting 280 seconds until next 5-min mark...\n",
            "\n"
          ]
        },
        {
          "name": "stderr",
          "output_type": "stream",
          "text": [
            "/tmp/ipython-input-176237620.py:51: FutureWarning: YF.download() has changed argument auto_adjust default to True\n",
            "  data = yf.download(all_tickers, period=\"7d\", interval=\"5m\", group_by='ticker', threads=True)\n",
            "\r[                       0%                       ]"
          ]
        },
        {
          "name": "stdout",
          "output_type": "stream",
          "text": [
            "\n",
            "🕒 Running Screener at 2025-08-13 10:00:00 IST\n"
          ]
        },
        {
          "name": "stderr",
          "output_type": "stream",
          "text": [
            "[*********************100%***********************]  222 of 222 completed\n",
            "ERROR:yfinance:\n",
            "2 Failed downloads:\n",
            "ERROR:yfinance:['NIFTY.NS', 'BANKNIFTY.NS']: YFPricesMissingError('possibly delisted; no price data found  (period=7d) (Yahoo error = \"No data found, symbol may be delisted\")')\n"
          ]
        },
        {
          "name": "stdout",
          "output_type": "stream",
          "text": [
            "BANKNIFTY.NS: Not enough data after ATR, skipping\n",
            "NIFTY.NS: Not enough data after ATR, skipping\n"
          ]
        },
        {
          "name": "stderr",
          "output_type": "stream",
          "text": [
            "/tmp/ipython-input-176237620.py:138: SettingWithCopyWarning: \n",
            "A value is trying to be set on a copy of a slice from a DataFrame.\n",
            "Try using .loc[row_indexer,col_indexer] = value instead\n",
            "\n",
            "See the caveats in the documentation: https://pandas.pydata.org/pandas-docs/stable/user_guide/indexing.html#returning-a-view-versus-a-copy\n",
            "  result_df['Symbol'] = result_df['Ticker'].str.replace('.NS', '', regex=False).str.upper()\n"
          ]
        },
        {
          "name": "stdout",
          "output_type": "stream",
          "text": [
            "\n",
            "📌 Final Signals with Weekly View and My Thought:\n",
            "         Ticker        entry_time direction        entry   sl-m weekly  \\\n",
            "0  EICHERMOT.NS  2025-08-13 10:00       BUY  5724.000000  16.88    NaN   \n",
            "1        VBL.NS  2025-08-13 10:00       BUY   518.799988   2.46    NaN   \n",
            "2        IEX.NS  2025-08-13 10:00       BUY   141.500000   1.12    NaN   \n",
            "3        OIL.NS  2025-08-13 10:00      SELL   415.100006   3.31    NaN   \n",
            "\n",
            "  my thought  \n",
            "0        NaN  \n",
            "1        NaN  \n",
            "2        NaN  \n",
            "3        NaN  \n",
            "⏳ Waiting 281 seconds until next 5-min mark...\n",
            "\n"
          ]
        },
        {
          "name": "stderr",
          "output_type": "stream",
          "text": [
            "/tmp/ipython-input-176237620.py:51: FutureWarning: YF.download() has changed argument auto_adjust default to True\n",
            "  data = yf.download(all_tickers, period=\"7d\", interval=\"5m\", group_by='ticker', threads=True)\n",
            "\r[                       0%                       ]"
          ]
        },
        {
          "name": "stdout",
          "output_type": "stream",
          "text": [
            "\n",
            "🕒 Running Screener at 2025-08-13 10:05:00 IST\n"
          ]
        },
        {
          "name": "stderr",
          "output_type": "stream",
          "text": [
            "[*********************100%***********************]  222 of 222 completed\n",
            "ERROR:yfinance:\n",
            "2 Failed downloads:\n",
            "ERROR:yfinance:['NIFTY.NS', 'BANKNIFTY.NS']: YFPricesMissingError('possibly delisted; no price data found  (period=7d) (Yahoo error = \"No data found, symbol may be delisted\")')\n"
          ]
        },
        {
          "name": "stdout",
          "output_type": "stream",
          "text": [
            "BANKNIFTY.NS: Not enough data after ATR, skipping\n",
            "NIFTY.NS: Not enough data after ATR, skipping\n"
          ]
        },
        {
          "name": "stderr",
          "output_type": "stream",
          "text": [
            "/tmp/ipython-input-176237620.py:138: SettingWithCopyWarning: \n",
            "A value is trying to be set on a copy of a slice from a DataFrame.\n",
            "Try using .loc[row_indexer,col_indexer] = value instead\n",
            "\n",
            "See the caveats in the documentation: https://pandas.pydata.org/pandas-docs/stable/user_guide/indexing.html#returning-a-view-versus-a-copy\n",
            "  result_df['Symbol'] = result_df['Ticker'].str.replace('.NS', '', regex=False).str.upper()\n"
          ]
        },
        {
          "name": "stdout",
          "output_type": "stream",
          "text": [
            "\n",
            "📌 Final Signals with Weekly View and My Thought:\n",
            "           Ticker        entry_time direction        entry   sl-m   weekly  \\\n",
            "0         CAMS.NS  2025-08-13 10:05       BUY  3836.899902  22.31  Bullish   \n",
            "1     HINDALCO.NS  2025-08-13 10:05       BUY   697.000000   6.05      NaN   \n",
            "2   TATAMOTORS.NS  2025-08-13 10:05       BUY   665.799988   2.82      NaN   \n",
            "3     GRANULES.NS  2025-08-13 10:05       BUY   461.750000   3.41      NaN   \n",
            "4          IEX.NS  2025-08-13 10:05       BUY   141.679993   1.15      NaN   \n",
            "5          BSE.NS  2025-08-13 10:05       BUY  2454.899902  20.68      NaN   \n",
            "6          LTF.NS  2025-08-13 10:05       BUY   202.179993   1.22      NaN   \n",
            "7     INDHOTEL.NS  2025-08-13 10:05       BUY   758.950012   2.75      NaN   \n",
            "8         IDEA.NS  2025-08-13 10:05      SELL     6.440000   0.04  Bearish   \n",
            "9       COLPAL.NS  2025-08-13 10:05      SELL  2183.199951   6.32      NaN   \n",
            "10         OIL.NS  2025-08-13 10:05      SELL   412.750000   3.33      NaN   \n",
            "\n",
            "             my thought  \n",
            "0   if positive take it  \n",
            "1                   NaN  \n",
            "2                   NaN  \n",
            "3                   NaN  \n",
            "4                   NaN  \n",
            "5                   NaN  \n",
            "6                   NaN  \n",
            "7                   NaN  \n",
            "8                  skip  \n",
            "9                   NaN  \n",
            "10                  NaN  \n",
            "⏳ Waiting 275 seconds until next 5-min mark...\n",
            "\n"
          ]
        },
        {
          "name": "stderr",
          "output_type": "stream",
          "text": [
            "/tmp/ipython-input-176237620.py:51: FutureWarning: YF.download() has changed argument auto_adjust default to True\n",
            "  data = yf.download(all_tickers, period=\"7d\", interval=\"5m\", group_by='ticker', threads=True)\n",
            "\r[                       0%                       ]"
          ]
        },
        {
          "name": "stdout",
          "output_type": "stream",
          "text": [
            "\n",
            "🕒 Running Screener at 2025-08-13 10:10:00 IST\n"
          ]
        },
        {
          "name": "stderr",
          "output_type": "stream",
          "text": [
            "[*********************100%***********************]  222 of 222 completed\n",
            "ERROR:yfinance:\n",
            "2 Failed downloads:\n",
            "ERROR:yfinance:['NIFTY.NS', 'BANKNIFTY.NS']: YFPricesMissingError('possibly delisted; no price data found  (period=7d) (Yahoo error = \"No data found, symbol may be delisted\")')\n"
          ]
        },
        {
          "name": "stdout",
          "output_type": "stream",
          "text": [
            "BANKNIFTY.NS: Not enough data after ATR, skipping\n",
            "NIFTY.NS: Not enough data after ATR, skipping\n"
          ]
        },
        {
          "name": "stderr",
          "output_type": "stream",
          "text": [
            "/tmp/ipython-input-176237620.py:138: SettingWithCopyWarning: \n",
            "A value is trying to be set on a copy of a slice from a DataFrame.\n",
            "Try using .loc[row_indexer,col_indexer] = value instead\n",
            "\n",
            "See the caveats in the documentation: https://pandas.pydata.org/pandas-docs/stable/user_guide/indexing.html#returning-a-view-versus-a-copy\n",
            "  result_df['Symbol'] = result_df['Ticker'].str.replace('.NS', '', regex=False).str.upper()\n"
          ]
        },
        {
          "name": "stdout",
          "output_type": "stream",
          "text": [
            "\n",
            "📌 Final Signals with Weekly View and My Thought:\n",
            "          Ticker        entry_time direction        entry   sl-m   weekly  \\\n",
            "0  HEROMOTOCO.NS  2025-08-13 10:10       BUY  4733.500000  18.82      NaN   \n",
            "1         MCX.NS  2025-08-13 10:10       BUY  8356.000000  56.95      NaN   \n",
            "2         BSE.NS  2025-08-13 10:10       BUY  2464.800049  21.71      NaN   \n",
            "3         LTF.NS  2025-08-13 10:10       BUY   202.300003   1.23      NaN   \n",
            "4    INDHOTEL.NS  2025-08-13 10:10       BUY   762.900024   3.10      NaN   \n",
            "5   ICICIBANK.NS  2025-08-13 10:10      SELL  1418.500000   3.17  Bullish   \n",
            "\n",
            "  my thought  \n",
            "0        NaN  \n",
            "1        NaN  \n",
            "2        NaN  \n",
            "3        NaN  \n",
            "4        NaN  \n",
            "5      range  \n",
            "⏳ Waiting 282 seconds until next 5-min mark...\n",
            "\n"
          ]
        },
        {
          "name": "stderr",
          "output_type": "stream",
          "text": [
            "/tmp/ipython-input-176237620.py:51: FutureWarning: YF.download() has changed argument auto_adjust default to True\n",
            "  data = yf.download(all_tickers, period=\"7d\", interval=\"5m\", group_by='ticker', threads=True)\n",
            "\r[                       0%                       ]"
          ]
        },
        {
          "name": "stdout",
          "output_type": "stream",
          "text": [
            "\n",
            "🕒 Running Screener at 2025-08-13 10:15:00 IST\n"
          ]
        },
        {
          "name": "stderr",
          "output_type": "stream",
          "text": [
            "[*********************100%***********************]  222 of 222 completed\n",
            "ERROR:yfinance:\n",
            "2 Failed downloads:\n",
            "ERROR:yfinance:['NIFTY.NS', 'BANKNIFTY.NS']: YFPricesMissingError('possibly delisted; no price data found  (period=7d) (Yahoo error = \"No data found, symbol may be delisted\")')\n"
          ]
        },
        {
          "name": "stdout",
          "output_type": "stream",
          "text": [
            "BANKNIFTY.NS: Not enough data after ATR, skipping\n",
            "NIFTY.NS: Not enough data after ATR, skipping\n"
          ]
        },
        {
          "name": "stderr",
          "output_type": "stream",
          "text": [
            "/tmp/ipython-input-176237620.py:138: SettingWithCopyWarning: \n",
            "A value is trying to be set on a copy of a slice from a DataFrame.\n",
            "Try using .loc[row_indexer,col_indexer] = value instead\n",
            "\n",
            "See the caveats in the documentation: https://pandas.pydata.org/pandas-docs/stable/user_guide/indexing.html#returning-a-view-versus-a-copy\n",
            "  result_df['Symbol'] = result_df['Ticker'].str.replace('.NS', '', regex=False).str.upper()\n"
          ]
        },
        {
          "name": "stdout",
          "output_type": "stream",
          "text": [
            "\n",
            "📌 Final Signals with Weekly View and My Thought:\n",
            "         Ticker        entry_time direction        entry   sl-m weekly  \\\n",
            "0  POLICYBZR.NS  2025-08-13 10:15       BUY  1885.099976  12.16    NaN   \n",
            "1   INDHOTEL.NS  2025-08-13 10:15       BUY   763.599976   3.24    NaN   \n",
            "\n",
            "  my thought  \n",
            "0        NaN  \n",
            "1        NaN  \n",
            "⏳ Waiting 279 seconds until next 5-min mark...\n",
            "\n"
          ]
        },
        {
          "name": "stderr",
          "output_type": "stream",
          "text": [
            "/tmp/ipython-input-176237620.py:51: FutureWarning: YF.download() has changed argument auto_adjust default to True\n",
            "  data = yf.download(all_tickers, period=\"7d\", interval=\"5m\", group_by='ticker', threads=True)\n",
            "\r[                       0%                       ]"
          ]
        },
        {
          "name": "stdout",
          "output_type": "stream",
          "text": [
            "\n",
            "🕒 Running Screener at 2025-08-13 10:20:00 IST\n"
          ]
        },
        {
          "name": "stderr",
          "output_type": "stream",
          "text": [
            "[*********************100%***********************]  222 of 222 completed\n",
            "ERROR:yfinance:\n",
            "2 Failed downloads:\n",
            "ERROR:yfinance:['NIFTY.NS', 'BANKNIFTY.NS']: YFPricesMissingError('possibly delisted; no price data found  (period=7d) (Yahoo error = \"No data found, symbol may be delisted\")')\n"
          ]
        },
        {
          "name": "stdout",
          "output_type": "stream",
          "text": [
            "BANKNIFTY.NS: Not enough data after ATR, skipping\n",
            "NIFTY.NS: Not enough data after ATR, skipping\n"
          ]
        },
        {
          "name": "stderr",
          "output_type": "stream",
          "text": [
            "/tmp/ipython-input-176237620.py:138: SettingWithCopyWarning: \n",
            "A value is trying to be set on a copy of a slice from a DataFrame.\n",
            "Try using .loc[row_indexer,col_indexer] = value instead\n",
            "\n",
            "See the caveats in the documentation: https://pandas.pydata.org/pandas-docs/stable/user_guide/indexing.html#returning-a-view-versus-a-copy\n",
            "  result_df['Symbol'] = result_df['Ticker'].str.replace('.NS', '', regex=False).str.upper()\n"
          ]
        },
        {
          "name": "stdout",
          "output_type": "stream",
          "text": [
            "\n",
            "📌 Final Signals with Weekly View and My Thought:\n",
            "          Ticker        entry_time direction        entry  sl-m   weekly  \\\n",
            "0    HINDALCO.NS  2025-08-13 10:20       BUY   702.000000  6.53      NaN   \n",
            "1        ONGC.NS  2025-08-13 10:20       BUY   238.699997  1.00      NaN   \n",
            "2        NMDC.NS  2025-08-13 10:20       BUY    72.330002  0.55      NaN   \n",
            "3    INDHOTEL.NS  2025-08-13 10:20       BUY   766.150024  3.52      NaN   \n",
            "4        IDEA.NS  2025-08-13 10:20      SELL     6.410000  0.04  Bearish   \n",
            "5  BAJAJFINSV.NS  2025-08-13 10:20      SELL  1894.500000  7.22      NaN   \n",
            "6  BAJFINANCE.NS  2025-08-13 10:20      SELL   849.950012  4.40      NaN   \n",
            "\n",
            "  my thought  \n",
            "0        NaN  \n",
            "1        NaN  \n",
            "2        NaN  \n",
            "3        NaN  \n",
            "4       skip  \n",
            "5        NaN  \n",
            "6        NaN  \n",
            "⏳ Waiting 281 seconds until next 5-min mark...\n",
            "\n"
          ]
        },
        {
          "name": "stderr",
          "output_type": "stream",
          "text": [
            "/tmp/ipython-input-176237620.py:51: FutureWarning: YF.download() has changed argument auto_adjust default to True\n",
            "  data = yf.download(all_tickers, period=\"7d\", interval=\"5m\", group_by='ticker', threads=True)\n",
            "\r[                       0%                       ]"
          ]
        },
        {
          "name": "stdout",
          "output_type": "stream",
          "text": [
            "\n",
            "🕒 Running Screener at 2025-08-13 10:25:00 IST\n"
          ]
        },
        {
          "name": "stderr",
          "output_type": "stream",
          "text": [
            "[*********************100%***********************]  222 of 222 completed\n",
            "ERROR:yfinance:\n",
            "2 Failed downloads:\n",
            "ERROR:yfinance:['NIFTY.NS', 'BANKNIFTY.NS']: YFPricesMissingError('possibly delisted; no price data found  (period=7d) (Yahoo error = \"No data found, symbol may be delisted\")')\n"
          ]
        },
        {
          "name": "stdout",
          "output_type": "stream",
          "text": [
            "BANKNIFTY.NS: Not enough data after ATR, skipping\n",
            "NIFTY.NS: Not enough data after ATR, skipping\n"
          ]
        },
        {
          "name": "stderr",
          "output_type": "stream",
          "text": [
            "/tmp/ipython-input-176237620.py:138: SettingWithCopyWarning: \n",
            "A value is trying to be set on a copy of a slice from a DataFrame.\n",
            "Try using .loc[row_indexer,col_indexer] = value instead\n",
            "\n",
            "See the caveats in the documentation: https://pandas.pydata.org/pandas-docs/stable/user_guide/indexing.html#returning-a-view-versus-a-copy\n",
            "  result_df['Symbol'] = result_df['Ticker'].str.replace('.NS', '', regex=False).str.upper()\n"
          ]
        },
        {
          "name": "stdout",
          "output_type": "stream",
          "text": [
            "\n",
            "📌 Final Signals with Weekly View and My Thought:\n",
            "       Ticker        entry_time direction       entry  sl-m weekly my thought\n",
            "0  ETERNAL.NS  2025-08-13 10:25       BUY  310.299988  1.64    NaN        NaN\n",
            "⏳ Waiting 282 seconds until next 5-min mark...\n",
            "\n",
            "\n",
            "🕒 Running Screener at 2025-08-13 10:30:00 IST\n"
          ]
        },
        {
          "name": "stderr",
          "output_type": "stream",
          "text": [
            "/tmp/ipython-input-176237620.py:51: FutureWarning: YF.download() has changed argument auto_adjust default to True\n",
            "  data = yf.download(all_tickers, period=\"7d\", interval=\"5m\", group_by='ticker', threads=True)\n",
            "[*********************100%***********************]  222 of 222 completed\n",
            "ERROR:yfinance:\n",
            "2 Failed downloads:\n",
            "ERROR:yfinance:['NIFTY.NS', 'BANKNIFTY.NS']: YFPricesMissingError('possibly delisted; no price data found  (period=7d) (Yahoo error = \"No data found, symbol may be delisted\")')\n"
          ]
        },
        {
          "name": "stdout",
          "output_type": "stream",
          "text": [
            "BANKNIFTY.NS: Not enough data after ATR, skipping\n",
            "NIFTY.NS: Not enough data after ATR, skipping\n"
          ]
        },
        {
          "name": "stderr",
          "output_type": "stream",
          "text": [
            "/tmp/ipython-input-176237620.py:138: SettingWithCopyWarning: \n",
            "A value is trying to be set on a copy of a slice from a DataFrame.\n",
            "Try using .loc[row_indexer,col_indexer] = value instead\n",
            "\n",
            "See the caveats in the documentation: https://pandas.pydata.org/pandas-docs/stable/user_guide/indexing.html#returning-a-view-versus-a-copy\n",
            "  result_df['Symbol'] = result_df['Ticker'].str.replace('.NS', '', regex=False).str.upper()\n"
          ]
        },
        {
          "name": "stdout",
          "output_type": "stream",
          "text": [
            "\n",
            "📌 Final Signals with Weekly View and My Thought:\n",
            "          Ticker        entry_time direction        entry   sl-m   weekly  \\\n",
            "0  APOLLOHOSP.NS  2025-08-13 10:30       BUY  7709.000000  38.95  Bullish   \n",
            "1        CAMS.NS  2025-08-13 10:30       BUY  3839.699951  18.31  Bullish   \n",
            "2    AARTIIND.NS  2025-08-13 10:30       BUY   389.649994   5.32      NaN   \n",
            "3       CIPLA.NS  2025-08-13 10:30       BUY  1536.599976   3.89      NaN   \n",
            "4        IDEA.NS  2025-08-13 10:30      SELL     6.380000   0.04  Bearish   \n",
            "\n",
            "                           my thought  \n",
            "0  see chart bearish englfing on week  \n",
            "1                 if positive take it  \n",
            "2                                 NaN  \n",
            "3                                 NaN  \n",
            "4                                skip  \n",
            "⏳ Waiting 281 seconds until next 5-min mark...\n",
            "\n"
          ]
        },
        {
          "name": "stderr",
          "output_type": "stream",
          "text": [
            "/tmp/ipython-input-176237620.py:51: FutureWarning: YF.download() has changed argument auto_adjust default to True\n",
            "  data = yf.download(all_tickers, period=\"7d\", interval=\"5m\", group_by='ticker', threads=True)\n",
            "\r[                       0%                       ]"
          ]
        },
        {
          "name": "stdout",
          "output_type": "stream",
          "text": [
            "\n",
            "🕒 Running Screener at 2025-08-13 10:35:00 IST\n"
          ]
        },
        {
          "name": "stderr",
          "output_type": "stream",
          "text": [
            "[*********************100%***********************]  222 of 222 completed\n",
            "ERROR:yfinance:\n",
            "2 Failed downloads:\n",
            "ERROR:yfinance:['NIFTY.NS', 'BANKNIFTY.NS']: YFPricesMissingError('possibly delisted; no price data found  (period=7d) (Yahoo error = \"No data found, symbol may be delisted\")')\n"
          ]
        },
        {
          "name": "stdout",
          "output_type": "stream",
          "text": [
            "BANKNIFTY.NS: Not enough data after ATR, skipping\n",
            "NIFTY.NS: Not enough data after ATR, skipping\n"
          ]
        },
        {
          "name": "stderr",
          "output_type": "stream",
          "text": [
            "/tmp/ipython-input-176237620.py:138: SettingWithCopyWarning: \n",
            "A value is trying to be set on a copy of a slice from a DataFrame.\n",
            "Try using .loc[row_indexer,col_indexer] = value instead\n",
            "\n",
            "See the caveats in the documentation: https://pandas.pydata.org/pandas-docs/stable/user_guide/indexing.html#returning-a-view-versus-a-copy\n",
            "  result_df['Symbol'] = result_df['Ticker'].str.replace('.NS', '', regex=False).str.upper()\n"
          ]
        },
        {
          "name": "stdout",
          "output_type": "stream",
          "text": [
            "\n",
            "📌 Final Signals with Weekly View and My Thought:\n",
            "          Ticker        entry_time direction        entry   sl-m   weekly  \\\n",
            "0  APOLLOHOSP.NS  2025-08-13 10:35       BUY  7711.000000  36.16  Bullish   \n",
            "1    HINDALCO.NS  2025-08-13 10:35       BUY   702.750000   5.12      NaN   \n",
            "2  ICICIPRULI.NS  2025-08-13 10:35       BUY   627.150024   2.14      NaN   \n",
            "3   PATANJALI.NS  2025-08-13 10:35       BUY  1825.400024   8.02      NaN   \n",
            "4         IEX.NS  2025-08-13 10:35       BUY   142.160004   1.09      NaN   \n",
            "5      CONCOR.NS  2025-08-13 10:35      SELL   538.950012   1.62      NaN   \n",
            "\n",
            "                           my thought  \n",
            "0  see chart bearish englfing on week  \n",
            "1                                 NaN  \n",
            "2                                 NaN  \n",
            "3                                 NaN  \n",
            "4                                 NaN  \n",
            "5                                 NaN  \n",
            "⏳ Waiting 281 seconds until next 5-min mark...\n",
            "\n"
          ]
        },
        {
          "name": "stderr",
          "output_type": "stream",
          "text": [
            "/tmp/ipython-input-176237620.py:51: FutureWarning: YF.download() has changed argument auto_adjust default to True\n",
            "  data = yf.download(all_tickers, period=\"7d\", interval=\"5m\", group_by='ticker', threads=True)\n",
            "\r[                       0%                       ]"
          ]
        },
        {
          "name": "stdout",
          "output_type": "stream",
          "text": [
            "\n",
            "🕒 Running Screener at 2025-08-13 10:40:00 IST\n"
          ]
        },
        {
          "name": "stderr",
          "output_type": "stream",
          "text": [
            "[*********************100%***********************]  222 of 222 completed\n",
            "ERROR:yfinance:\n",
            "2 Failed downloads:\n",
            "ERROR:yfinance:['NIFTY.NS', 'BANKNIFTY.NS']: YFPricesMissingError('possibly delisted; no price data found  (period=7d) (Yahoo error = \"No data found, symbol may be delisted\")')\n"
          ]
        },
        {
          "name": "stdout",
          "output_type": "stream",
          "text": [
            "BANKNIFTY.NS: Not enough data after ATR, skipping\n",
            "NIFTY.NS: Not enough data after ATR, skipping\n"
          ]
        },
        {
          "name": "stderr",
          "output_type": "stream",
          "text": [
            "/tmp/ipython-input-176237620.py:138: SettingWithCopyWarning: \n",
            "A value is trying to be set on a copy of a slice from a DataFrame.\n",
            "Try using .loc[row_indexer,col_indexer] = value instead\n",
            "\n",
            "See the caveats in the documentation: https://pandas.pydata.org/pandas-docs/stable/user_guide/indexing.html#returning-a-view-versus-a-copy\n",
            "  result_df['Symbol'] = result_df['Ticker'].str.replace('.NS', '', regex=False).str.upper()\n"
          ]
        },
        {
          "name": "stdout",
          "output_type": "stream",
          "text": [
            "\n",
            "📌 Final Signals with Weekly View and My Thought:\n",
            "          Ticker        entry_time direction        entry  sl-m   weekly  \\\n",
            "0       NYKAA.NS  2025-08-13 10:40       BUY   214.259995  2.31  Bullish   \n",
            "1  POONAWALLA.NS  2025-08-13 10:40       BUY   454.700012  1.34  Bullish   \n",
            "2   PATANJALI.NS  2025-08-13 10:40       BUY  1827.599976  7.48      NaN   \n",
            "3        IDEA.NS  2025-08-13 10:40      SELL     6.370000  0.04  Bearish   \n",
            "4    TATACHEM.NS  2025-08-13 10:40      SELL   942.000000  2.60      NaN   \n",
            "\n",
            "            my thought  \n",
            "0  if positive take it  \n",
            "1        on resistance  \n",
            "2                  NaN  \n",
            "3                 skip  \n",
            "4                  NaN  \n",
            "⏳ Waiting 284 seconds until next 5-min mark...\n",
            "\n",
            "\n",
            "🕒 Running Screener at 2025-08-13 10:45:00 IST\n"
          ]
        },
        {
          "name": "stderr",
          "output_type": "stream",
          "text": [
            "/tmp/ipython-input-176237620.py:51: FutureWarning: YF.download() has changed argument auto_adjust default to True\n",
            "  data = yf.download(all_tickers, period=\"7d\", interval=\"5m\", group_by='ticker', threads=True)\n",
            "[*********************100%***********************]  222 of 222 completed\n",
            "ERROR:yfinance:\n",
            "2 Failed downloads:\n",
            "ERROR:yfinance:['NIFTY.NS', 'BANKNIFTY.NS']: YFPricesMissingError('possibly delisted; no price data found  (period=7d) (Yahoo error = \"No data found, symbol may be delisted\")')\n"
          ]
        },
        {
          "name": "stdout",
          "output_type": "stream",
          "text": [
            "BANKNIFTY.NS: Not enough data after ATR, skipping\n",
            "NIFTY.NS: Not enough data after ATR, skipping\n"
          ]
        },
        {
          "name": "stderr",
          "output_type": "stream",
          "text": [
            "/tmp/ipython-input-176237620.py:138: SettingWithCopyWarning: \n",
            "A value is trying to be set on a copy of a slice from a DataFrame.\n",
            "Try using .loc[row_indexer,col_indexer] = value instead\n",
            "\n",
            "See the caveats in the documentation: https://pandas.pydata.org/pandas-docs/stable/user_guide/indexing.html#returning-a-view-versus-a-copy\n",
            "  result_df['Symbol'] = result_df['Ticker'].str.replace('.NS', '', regex=False).str.upper()\n"
          ]
        },
        {
          "name": "stdout",
          "output_type": "stream",
          "text": [
            "\n",
            "📌 Final Signals with Weekly View and My Thought:\n",
            "          Ticker        entry_time direction        entry  sl-m weekly  \\\n",
            "0  ICICIPRULI.NS  2025-08-13 10:45       BUY   627.599976  2.09    NaN   \n",
            "1   PATANJALI.NS  2025-08-13 10:45       BUY  1830.000000  6.94    NaN   \n",
            "\n",
            "  my thought  \n",
            "0        NaN  \n",
            "1        NaN  \n",
            "⏳ Waiting 282 seconds until next 5-min mark...\n",
            "\n"
          ]
        },
        {
          "name": "stderr",
          "output_type": "stream",
          "text": [
            "/tmp/ipython-input-176237620.py:51: FutureWarning: YF.download() has changed argument auto_adjust default to True\n",
            "  data = yf.download(all_tickers, period=\"7d\", interval=\"5m\", group_by='ticker', threads=True)\n",
            "\r[                       0%                       ]"
          ]
        },
        {
          "name": "stdout",
          "output_type": "stream",
          "text": [
            "\n",
            "🕒 Running Screener at 2025-08-13 10:50:00 IST\n"
          ]
        },
        {
          "name": "stderr",
          "output_type": "stream",
          "text": [
            "[*********************100%***********************]  222 of 222 completed\n",
            "ERROR:yfinance:\n",
            "2 Failed downloads:\n",
            "ERROR:yfinance:['NIFTY.NS', 'BANKNIFTY.NS']: YFPricesMissingError('possibly delisted; no price data found  (period=7d) (Yahoo error = \"No data found, symbol may be delisted\")')\n"
          ]
        },
        {
          "name": "stdout",
          "output_type": "stream",
          "text": [
            "BANKNIFTY.NS: Not enough data after ATR, skipping\n",
            "NIFTY.NS: Not enough data after ATR, skipping\n"
          ]
        },
        {
          "name": "stderr",
          "output_type": "stream",
          "text": [
            "/tmp/ipython-input-176237620.py:138: SettingWithCopyWarning: \n",
            "A value is trying to be set on a copy of a slice from a DataFrame.\n",
            "Try using .loc[row_indexer,col_indexer] = value instead\n",
            "\n",
            "See the caveats in the documentation: https://pandas.pydata.org/pandas-docs/stable/user_guide/indexing.html#returning-a-view-versus-a-copy\n",
            "  result_df['Symbol'] = result_df['Ticker'].str.replace('.NS', '', regex=False).str.upper()\n"
          ]
        },
        {
          "name": "stdout",
          "output_type": "stream",
          "text": [
            "\n",
            "📌 Final Signals with Weekly View and My Thought:\n",
            "          Ticker        entry_time direction        entry  sl-m weekly  \\\n",
            "0  ICICIPRULI.NS  2025-08-13 10:50       BUY   628.299988  2.12    NaN   \n",
            "1       CIPLA.NS  2025-08-13 10:50       BUY  1541.400024  3.87    NaN   \n",
            "2  JINDALSTEL.NS  2025-08-13 10:50       BUY  1018.599976  4.84    NaN   \n",
            "\n",
            "  my thought  \n",
            "0        NaN  \n",
            "1        NaN  \n",
            "2        NaN  \n",
            "⏳ Waiting 280 seconds until next 5-min mark...\n",
            "\n"
          ]
        },
        {
          "name": "stderr",
          "output_type": "stream",
          "text": [
            "/tmp/ipython-input-176237620.py:51: FutureWarning: YF.download() has changed argument auto_adjust default to True\n",
            "  data = yf.download(all_tickers, period=\"7d\", interval=\"5m\", group_by='ticker', threads=True)\n",
            "\r[                       0%                       ]"
          ]
        },
        {
          "name": "stdout",
          "output_type": "stream",
          "text": [
            "\n",
            "🕒 Running Screener at 2025-08-13 10:55:00 IST\n"
          ]
        },
        {
          "name": "stderr",
          "output_type": "stream",
          "text": [
            "[*********************100%***********************]  222 of 222 completed\n",
            "ERROR:yfinance:\n",
            "2 Failed downloads:\n",
            "ERROR:yfinance:['NIFTY.NS', 'BANKNIFTY.NS']: YFPricesMissingError('possibly delisted; no price data found  (period=7d) (Yahoo error = \"No data found, symbol may be delisted\")')\n"
          ]
        },
        {
          "name": "stdout",
          "output_type": "stream",
          "text": [
            "BANKNIFTY.NS: Not enough data after ATR, skipping\n",
            "NIFTY.NS: Not enough data after ATR, skipping\n"
          ]
        },
        {
          "name": "stderr",
          "output_type": "stream",
          "text": [
            "/tmp/ipython-input-176237620.py:138: SettingWithCopyWarning: \n",
            "A value is trying to be set on a copy of a slice from a DataFrame.\n",
            "Try using .loc[row_indexer,col_indexer] = value instead\n",
            "\n",
            "See the caveats in the documentation: https://pandas.pydata.org/pandas-docs/stable/user_guide/indexing.html#returning-a-view-versus-a-copy\n",
            "  result_df['Symbol'] = result_df['Ticker'].str.replace('.NS', '', regex=False).str.upper()\n"
          ]
        },
        {
          "name": "stdout",
          "output_type": "stream",
          "text": [
            "\n",
            "📌 Final Signals with Weekly View and My Thought:\n",
            "          Ticker        entry_time direction        entry   sl-m   weekly  \\\n",
            "0      KAYNES.NS  2025-08-13 10:55       BUY  6016.500000  38.25  Bullish   \n",
            "1  POONAWALLA.NS  2025-08-13 10:55       BUY   456.000000   1.79  Bullish   \n",
            "2    HINDALCO.NS  2025-08-13 10:55       BUY   703.099976   4.05      NaN   \n",
            "3  ICICIPRULI.NS  2025-08-13 10:55       BUY   628.450012   2.19      NaN   \n",
            "\n",
            "      my thought  \n",
            "0  on resistance  \n",
            "1  on resistance  \n",
            "2            NaN  \n",
            "3            NaN  \n",
            "⏳ Waiting 280 seconds until next 5-min mark...\n",
            "\n"
          ]
        },
        {
          "name": "stderr",
          "output_type": "stream",
          "text": [
            "/tmp/ipython-input-176237620.py:51: FutureWarning: YF.download() has changed argument auto_adjust default to True\n",
            "  data = yf.download(all_tickers, period=\"7d\", interval=\"5m\", group_by='ticker', threads=True)\n",
            "\r[                       0%                       ]"
          ]
        },
        {
          "name": "stdout",
          "output_type": "stream",
          "text": [
            "\n",
            "🕒 Running Screener at 2025-08-13 11:00:00 IST\n"
          ]
        },
        {
          "name": "stderr",
          "output_type": "stream",
          "text": [
            "[*********************100%***********************]  222 of 222 completed\n",
            "ERROR:yfinance:\n",
            "2 Failed downloads:\n",
            "ERROR:yfinance:['NIFTY.NS', 'BANKNIFTY.NS']: YFPricesMissingError('possibly delisted; no price data found  (period=7d) (Yahoo error = \"No data found, symbol may be delisted\")')\n"
          ]
        },
        {
          "name": "stdout",
          "output_type": "stream",
          "text": [
            "BANKNIFTY.NS: Not enough data after ATR, skipping\n",
            "NIFTY.NS: Not enough data after ATR, skipping\n"
          ]
        },
        {
          "name": "stderr",
          "output_type": "stream",
          "text": [
            "/tmp/ipython-input-176237620.py:138: SettingWithCopyWarning: \n",
            "A value is trying to be set on a copy of a slice from a DataFrame.\n",
            "Try using .loc[row_indexer,col_indexer] = value instead\n",
            "\n",
            "See the caveats in the documentation: https://pandas.pydata.org/pandas-docs/stable/user_guide/indexing.html#returning-a-view-versus-a-copy\n",
            "  result_df['Symbol'] = result_df['Ticker'].str.replace('.NS', '', regex=False).str.upper()\n"
          ]
        },
        {
          "name": "stdout",
          "output_type": "stream",
          "text": [
            "\n",
            "📌 Final Signals with Weekly View and My Thought:\n",
            "          Ticker        entry_time direction        entry   sl-m   weekly  \\\n",
            "0  POONAWALLA.NS  2025-08-13 11:00       BUY   456.149994   1.78  Bullish   \n",
            "1  HEROMOTOCO.NS  2025-08-13 11:00       BUY  4755.100098  15.27      NaN   \n",
            "\n",
            "      my thought  \n",
            "0  on resistance  \n",
            "1            NaN  \n",
            "⏳ Waiting 281 seconds until next 5-min mark...\n",
            "\n"
          ]
        },
        {
          "name": "stderr",
          "output_type": "stream",
          "text": [
            "/tmp/ipython-input-176237620.py:51: FutureWarning: YF.download() has changed argument auto_adjust default to True\n",
            "  data = yf.download(all_tickers, period=\"7d\", interval=\"5m\", group_by='ticker', threads=True)\n",
            "\r[                       0%                       ]"
          ]
        },
        {
          "name": "stdout",
          "output_type": "stream",
          "text": [
            "\n",
            "🕒 Running Screener at 2025-08-13 11:05:00 IST\n"
          ]
        },
        {
          "name": "stderr",
          "output_type": "stream",
          "text": [
            "[*********************100%***********************]  222 of 222 completed\n",
            "ERROR:yfinance:\n",
            "2 Failed downloads:\n",
            "ERROR:yfinance:['NIFTY.NS', 'BANKNIFTY.NS']: YFPricesMissingError('possibly delisted; no price data found  (period=7d) (Yahoo error = \"No data found, symbol may be delisted\")')\n"
          ]
        },
        {
          "name": "stdout",
          "output_type": "stream",
          "text": [
            "BANKNIFTY.NS: Not enough data after ATR, skipping\n",
            "NIFTY.NS: Not enough data after ATR, skipping\n"
          ]
        },
        {
          "name": "stderr",
          "output_type": "stream",
          "text": [
            "/tmp/ipython-input-176237620.py:138: SettingWithCopyWarning: \n",
            "A value is trying to be set on a copy of a slice from a DataFrame.\n",
            "Try using .loc[row_indexer,col_indexer] = value instead\n",
            "\n",
            "See the caveats in the documentation: https://pandas.pydata.org/pandas-docs/stable/user_guide/indexing.html#returning-a-view-versus-a-copy\n",
            "  result_df['Symbol'] = result_df['Ticker'].str.replace('.NS', '', regex=False).str.upper()\n"
          ]
        },
        {
          "name": "stdout",
          "output_type": "stream",
          "text": [
            "\n",
            "📌 Final Signals with Weekly View and My Thought:\n",
            "          Ticker        entry_time direction   entry   sl-m   weekly  \\\n",
            "0       ALKEM.NS  2025-08-13 11:05       BUY  5372.0  26.46  Bearish   \n",
            "1  INDUSINDBK.NS  2025-08-13 11:05      SELL   773.5   2.71  Bearish   \n",
            "\n",
            "            my thought  \n",
            "0  if negative take it  \n",
            "1  if negative take it  \n",
            "⏳ Waiting 281 seconds until next 5-min mark...\n",
            "\n"
          ]
        },
        {
          "name": "stderr",
          "output_type": "stream",
          "text": [
            "/tmp/ipython-input-176237620.py:51: FutureWarning: YF.download() has changed argument auto_adjust default to True\n",
            "  data = yf.download(all_tickers, period=\"7d\", interval=\"5m\", group_by='ticker', threads=True)\n",
            "\r[                       0%                       ]"
          ]
        },
        {
          "name": "stdout",
          "output_type": "stream",
          "text": [
            "\n",
            "🕒 Running Screener at 2025-08-13 11:10:00 IST\n"
          ]
        },
        {
          "name": "stderr",
          "output_type": "stream",
          "text": [
            "[*********************100%***********************]  222 of 222 completed\n",
            "ERROR:yfinance:\n",
            "2 Failed downloads:\n",
            "ERROR:yfinance:['NIFTY.NS', 'BANKNIFTY.NS']: YFPricesMissingError('possibly delisted; no price data found  (period=7d) (Yahoo error = \"No data found, symbol may be delisted\")')\n"
          ]
        },
        {
          "name": "stdout",
          "output_type": "stream",
          "text": [
            "BANKNIFTY.NS: Not enough data after ATR, skipping\n",
            "NIFTY.NS: Not enough data after ATR, skipping\n"
          ]
        },
        {
          "name": "stderr",
          "output_type": "stream",
          "text": [
            "/tmp/ipython-input-176237620.py:138: SettingWithCopyWarning: \n",
            "A value is trying to be set on a copy of a slice from a DataFrame.\n",
            "Try using .loc[row_indexer,col_indexer] = value instead\n",
            "\n",
            "See the caveats in the documentation: https://pandas.pydata.org/pandas-docs/stable/user_guide/indexing.html#returning-a-view-versus-a-copy\n",
            "  result_df['Symbol'] = result_df['Ticker'].str.replace('.NS', '', regex=False).str.upper()\n"
          ]
        },
        {
          "name": "stdout",
          "output_type": "stream",
          "text": [
            "\n",
            "📌 Final Signals with Weekly View and My Thought:\n",
            "          Ticker        entry_time direction        entry   sl-m   weekly  \\\n",
            "0  LAURUSLABS.NS  2025-08-13 11:10       BUY   846.299988   2.13  Bullish   \n",
            "1  HEROMOTOCO.NS  2025-08-13 11:10       BUY  4778.000000  16.40      NaN   \n",
            "2    TVSMOTOR.NS  2025-08-13 11:10       BUY  3023.100098  13.18      NaN   \n",
            "3     ICICIGI.NS  2025-08-13 11:10       BUY  1916.599976   4.53      NaN   \n",
            "4  NATIONALUM.NS  2025-08-13 11:10       BUY   191.520004   0.58      NaN   \n",
            "5  JINDALSTEL.NS  2025-08-13 11:10       BUY  1020.299988   4.65      NaN   \n",
            "6    TATACOMM.NS  2025-08-13 11:10      SELL  1623.699951   5.51      NaN   \n",
            "\n",
            "     my thought  \n",
            "0  full bullish  \n",
            "1           NaN  \n",
            "2           NaN  \n",
            "3           NaN  \n",
            "4           NaN  \n",
            "5           NaN  \n",
            "6           NaN  \n",
            "⏳ Waiting 276 seconds until next 5-min mark...\n",
            "\n"
          ]
        },
        {
          "name": "stderr",
          "output_type": "stream",
          "text": [
            "/tmp/ipython-input-176237620.py:51: FutureWarning: YF.download() has changed argument auto_adjust default to True\n",
            "  data = yf.download(all_tickers, period=\"7d\", interval=\"5m\", group_by='ticker', threads=True)\n",
            "\r[                       0%                       ]"
          ]
        },
        {
          "name": "stdout",
          "output_type": "stream",
          "text": [
            "\n",
            "🕒 Running Screener at 2025-08-13 11:15:00 IST\n"
          ]
        },
        {
          "name": "stderr",
          "output_type": "stream",
          "text": [
            "[*********************100%***********************]  222 of 222 completed\n",
            "ERROR:yfinance:\n",
            "2 Failed downloads:\n",
            "ERROR:yfinance:['NIFTY.NS', 'BANKNIFTY.NS']: YFPricesMissingError('possibly delisted; no price data found  (period=7d) (Yahoo error = \"No data found, symbol may be delisted\")')\n"
          ]
        },
        {
          "name": "stdout",
          "output_type": "stream",
          "text": [
            "BANKNIFTY.NS: Not enough data after ATR, skipping\n",
            "NIFTY.NS: Not enough data after ATR, skipping\n"
          ]
        },
        {
          "name": "stderr",
          "output_type": "stream",
          "text": [
            "/tmp/ipython-input-176237620.py:138: SettingWithCopyWarning: \n",
            "A value is trying to be set on a copy of a slice from a DataFrame.\n",
            "Try using .loc[row_indexer,col_indexer] = value instead\n",
            "\n",
            "See the caveats in the documentation: https://pandas.pydata.org/pandas-docs/stable/user_guide/indexing.html#returning-a-view-versus-a-copy\n",
            "  result_df['Symbol'] = result_df['Ticker'].str.replace('.NS', '', regex=False).str.upper()\n"
          ]
        },
        {
          "name": "stdout",
          "output_type": "stream",
          "text": [
            "\n",
            "📌 Final Signals with Weekly View and My Thought:\n",
            "          Ticker        entry_time direction        entry   sl-m   weekly  \\\n",
            "0  LAURUSLABS.NS  2025-08-13 11:15       BUY   846.900024   2.16  Bullish   \n",
            "1    TVSMOTOR.NS  2025-08-13 11:15       BUY  3038.500000  13.66      NaN   \n",
            "2   KOTAKBANK.NS  2025-08-13 11:15       BUY  1990.800049   4.25      NaN   \n",
            "3        ONGC.NS  2025-08-13 11:15       BUY   239.380005   0.69      NaN   \n",
            "4  NATIONALUM.NS  2025-08-13 11:15       BUY   191.529999   0.57      NaN   \n",
            "5  INDUSINDBK.NS  2025-08-13 11:15      SELL   771.750000   2.46  Bearish   \n",
            "6   AMBUJACEM.NS  2025-08-13 11:15      SELL   578.599976   1.73  Bullish   \n",
            "\n",
            "            my thought  \n",
            "0         full bullish  \n",
            "1                  NaN  \n",
            "2                  NaN  \n",
            "3                  NaN  \n",
            "4                  NaN  \n",
            "5  if negative take it  \n",
            "6  if positive take it  \n",
            "⏳ Waiting 282 seconds until next 5-min mark...\n",
            "\n"
          ]
        },
        {
          "name": "stderr",
          "output_type": "stream",
          "text": [
            "/tmp/ipython-input-176237620.py:51: FutureWarning: YF.download() has changed argument auto_adjust default to True\n",
            "  data = yf.download(all_tickers, period=\"7d\", interval=\"5m\", group_by='ticker', threads=True)\n",
            "\r[                       0%                       ]"
          ]
        },
        {
          "name": "stdout",
          "output_type": "stream",
          "text": [
            "\n",
            "🕒 Running Screener at 2025-08-13 11:20:00 IST\n"
          ]
        },
        {
          "name": "stderr",
          "output_type": "stream",
          "text": [
            "[*********************100%***********************]  222 of 222 completed\n",
            "ERROR:yfinance:\n",
            "2 Failed downloads:\n",
            "ERROR:yfinance:['NIFTY.NS', 'BANKNIFTY.NS']: YFPricesMissingError('possibly delisted; no price data found  (period=7d) (Yahoo error = \"No data found, symbol may be delisted\")')\n"
          ]
        },
        {
          "name": "stdout",
          "output_type": "stream",
          "text": [
            "BANKNIFTY.NS: Not enough data after ATR, skipping\n",
            "NIFTY.NS: Not enough data after ATR, skipping\n"
          ]
        },
        {
          "name": "stderr",
          "output_type": "stream",
          "text": [
            "/tmp/ipython-input-176237620.py:138: SettingWithCopyWarning: \n",
            "A value is trying to be set on a copy of a slice from a DataFrame.\n",
            "Try using .loc[row_indexer,col_indexer] = value instead\n",
            "\n",
            "See the caveats in the documentation: https://pandas.pydata.org/pandas-docs/stable/user_guide/indexing.html#returning-a-view-versus-a-copy\n",
            "  result_df['Symbol'] = result_df['Ticker'].str.replace('.NS', '', regex=False).str.upper()\n"
          ]
        },
        {
          "name": "stdout",
          "output_type": "stream",
          "text": [
            "\n",
            "📌 Final Signals with Weekly View and My Thought:\n",
            "          Ticker        entry_time direction        entry   sl-m   weekly  \\\n",
            "0     MAZDOCK.NS  2025-08-13 11:20       BUY  2754.600098  11.20  Bullish   \n",
            "1  HEROMOTOCO.NS  2025-08-13 11:20       BUY  4787.600098  16.36      NaN   \n",
            "2    HDFCLIFE.NS  2025-08-13 11:20       BUY   781.500000   2.29      NaN   \n",
            "3    DIVISLAB.NS  2025-08-13 11:20       BUY  6074.500000  20.25      NaN   \n",
            "4    TVSMOTOR.NS  2025-08-13 11:20       BUY  3039.000000  13.33      NaN   \n",
            "5     POLYCAB.NS  2025-08-13 11:20       BUY  6955.500000  18.48      NaN   \n",
            "6   KOTAKBANK.NS  2025-08-13 11:20       BUY  1992.699951   4.43      NaN   \n",
            "7        ONGC.NS  2025-08-13 11:20       BUY   239.800003   0.73      NaN   \n",
            "\n",
            "                                my thought  \n",
            "0  negative structure/ if negative take it  \n",
            "1                                      NaN  \n",
            "2                                      NaN  \n",
            "3                                      NaN  \n",
            "4                                      NaN  \n",
            "5                                      NaN  \n",
            "6                                      NaN  \n",
            "7                                      NaN  \n",
            "⏳ Waiting 281 seconds until next 5-min mark...\n",
            "\n"
          ]
        },
        {
          "name": "stderr",
          "output_type": "stream",
          "text": [
            "/tmp/ipython-input-176237620.py:51: FutureWarning: YF.download() has changed argument auto_adjust default to True\n",
            "  data = yf.download(all_tickers, period=\"7d\", interval=\"5m\", group_by='ticker', threads=True)\n",
            "\r[                       0%                       ]"
          ]
        },
        {
          "name": "stdout",
          "output_type": "stream",
          "text": [
            "\n",
            "🕒 Running Screener at 2025-08-13 11:25:00 IST\n"
          ]
        },
        {
          "name": "stderr",
          "output_type": "stream",
          "text": [
            "[*********************100%***********************]  222 of 222 completed\n",
            "ERROR:yfinance:\n",
            "2 Failed downloads:\n",
            "ERROR:yfinance:['NIFTY.NS', 'BANKNIFTY.NS']: YFPricesMissingError('possibly delisted; no price data found  (period=7d) (Yahoo error = \"No data found, symbol may be delisted\")')\n"
          ]
        },
        {
          "name": "stdout",
          "output_type": "stream",
          "text": [
            "BANKNIFTY.NS: Not enough data after ATR, skipping\n",
            "NIFTY.NS: Not enough data after ATR, skipping\n"
          ]
        },
        {
          "name": "stderr",
          "output_type": "stream",
          "text": [
            "/tmp/ipython-input-176237620.py:138: SettingWithCopyWarning: \n",
            "A value is trying to be set on a copy of a slice from a DataFrame.\n",
            "Try using .loc[row_indexer,col_indexer] = value instead\n",
            "\n",
            "See the caveats in the documentation: https://pandas.pydata.org/pandas-docs/stable/user_guide/indexing.html#returning-a-view-versus-a-copy\n",
            "  result_df['Symbol'] = result_df['Ticker'].str.replace('.NS', '', regex=False).str.upper()\n"
          ]
        },
        {
          "name": "stdout",
          "output_type": "stream",
          "text": [
            "\n",
            "📌 Final Signals with Weekly View and My Thought:\n",
            "          Ticker        entry_time direction        entry   sl-m   weekly  \\\n",
            "0       ALKEM.NS  2025-08-13 11:25       BUY  5380.000000  28.82  Bearish   \n",
            "1   KOTAKBANK.NS  2025-08-13 11:25       BUY  1995.199951   4.59      NaN   \n",
            "2  INDUSINDBK.NS  2025-08-13 11:25      SELL   769.650024   2.46  Bearish   \n",
            "3  BAJFINANCE.NS  2025-08-13 11:25      SELL   849.250000   2.96      NaN   \n",
            "4         OIL.NS  2025-08-13 11:25      SELL   411.100006   2.40      NaN   \n",
            "\n",
            "            my thought  \n",
            "0  if negative take it  \n",
            "1                  NaN  \n",
            "2  if negative take it  \n",
            "3                  NaN  \n",
            "4                  NaN  \n",
            "⏳ Waiting 282 seconds until next 5-min mark...\n",
            "\n"
          ]
        },
        {
          "name": "stderr",
          "output_type": "stream",
          "text": [
            "/tmp/ipython-input-176237620.py:51: FutureWarning: YF.download() has changed argument auto_adjust default to True\n",
            "  data = yf.download(all_tickers, period=\"7d\", interval=\"5m\", group_by='ticker', threads=True)\n",
            "\r[                       0%                       ]"
          ]
        },
        {
          "name": "stdout",
          "output_type": "stream",
          "text": [
            "\n",
            "🕒 Running Screener at 2025-08-13 11:30:00 IST\n"
          ]
        },
        {
          "name": "stderr",
          "output_type": "stream",
          "text": [
            "[*********************100%***********************]  222 of 222 completed\n",
            "ERROR:yfinance:\n",
            "2 Failed downloads:\n",
            "ERROR:yfinance:['NIFTY.NS', 'BANKNIFTY.NS']: YFPricesMissingError('possibly delisted; no price data found  (period=7d) (Yahoo error = \"No data found, symbol may be delisted\")')\n"
          ]
        },
        {
          "name": "stdout",
          "output_type": "stream",
          "text": [
            "BANKNIFTY.NS: Not enough data after ATR, skipping\n",
            "NIFTY.NS: Not enough data after ATR, skipping\n"
          ]
        },
        {
          "name": "stderr",
          "output_type": "stream",
          "text": [
            "/tmp/ipython-input-176237620.py:138: SettingWithCopyWarning: \n",
            "A value is trying to be set on a copy of a slice from a DataFrame.\n",
            "Try using .loc[row_indexer,col_indexer] = value instead\n",
            "\n",
            "See the caveats in the documentation: https://pandas.pydata.org/pandas-docs/stable/user_guide/indexing.html#returning-a-view-versus-a-copy\n",
            "  result_df['Symbol'] = result_df['Ticker'].str.replace('.NS', '', regex=False).str.upper()\n"
          ]
        },
        {
          "name": "stdout",
          "output_type": "stream",
          "text": [
            "\n",
            "📌 Final Signals with Weekly View and My Thought:\n",
            "          Ticker        entry_time direction        entry   sl-m   weekly  \\\n",
            "0   MAXHEALTH.NS  2025-08-13 11:30       BUY  1298.000000   4.18      NaN   \n",
            "1  INDUSINDBK.NS  2025-08-13 11:30      SELL   767.299988   2.50  Bearish   \n",
            "2   AMBUJACEM.NS  2025-08-13 11:30      SELL   576.799988   1.76  Bullish   \n",
            "3       PIIND.NS  2025-08-13 11:30      SELL  3787.199951  23.15      NaN   \n",
            "4         OIL.NS  2025-08-13 11:30      SELL   410.149994   2.00      NaN   \n",
            "\n",
            "            my thought  \n",
            "0                  NaN  \n",
            "1  if negative take it  \n",
            "2  if positive take it  \n",
            "3                  NaN  \n",
            "4                  NaN  \n",
            "⏳ Waiting 282 seconds until next 5-min mark...\n",
            "\n"
          ]
        },
        {
          "name": "stderr",
          "output_type": "stream",
          "text": [
            "/tmp/ipython-input-176237620.py:51: FutureWarning: YF.download() has changed argument auto_adjust default to True\n",
            "  data = yf.download(all_tickers, period=\"7d\", interval=\"5m\", group_by='ticker', threads=True)\n",
            "\r[                       0%                       ]"
          ]
        },
        {
          "name": "stdout",
          "output_type": "stream",
          "text": [
            "\n",
            "🕒 Running Screener at 2025-08-13 11:35:00 IST\n"
          ]
        },
        {
          "name": "stderr",
          "output_type": "stream",
          "text": [
            "[*********************100%***********************]  222 of 222 completed\n",
            "ERROR:yfinance:\n",
            "2 Failed downloads:\n",
            "ERROR:yfinance:['NIFTY.NS', 'BANKNIFTY.NS']: YFPricesMissingError('possibly delisted; no price data found  (period=7d) (Yahoo error = \"No data found, symbol may be delisted\")')\n"
          ]
        },
        {
          "name": "stdout",
          "output_type": "stream",
          "text": [
            "BANKNIFTY.NS: Not enough data after ATR, skipping\n",
            "NIFTY.NS: Not enough data after ATR, skipping\n"
          ]
        },
        {
          "name": "stderr",
          "output_type": "stream",
          "text": [
            "/tmp/ipython-input-176237620.py:138: SettingWithCopyWarning: \n",
            "A value is trying to be set on a copy of a slice from a DataFrame.\n",
            "Try using .loc[row_indexer,col_indexer] = value instead\n",
            "\n",
            "See the caveats in the documentation: https://pandas.pydata.org/pandas-docs/stable/user_guide/indexing.html#returning-a-view-versus-a-copy\n",
            "  result_df['Symbol'] = result_df['Ticker'].str.replace('.NS', '', regex=False).str.upper()\n"
          ]
        },
        {
          "name": "stdout",
          "output_type": "stream",
          "text": [
            "\n",
            "📌 Final Signals with Weekly View and My Thought:\n",
            "          Ticker        entry_time direction        entry   sl-m   weekly  \\\n",
            "0  LAURUSLABS.NS  2025-08-13 11:35       BUY   850.150024   2.34  Bullish   \n",
            "1    UNOMINDA.NS  2025-08-13 11:35       BUY  1110.099976   6.20  Bullish   \n",
            "2        CAMS.NS  2025-08-13 11:35       BUY  3849.000000  17.61  Bullish   \n",
            "3      KAYNES.NS  2025-08-13 11:35       BUY  6038.500000  35.25  Bullish   \n",
            "4   MAXHEALTH.NS  2025-08-13 11:35       BUY  1300.599976   4.57      NaN   \n",
            "5       PIIND.NS  2025-08-13 11:35      SELL  3765.300049  24.11      NaN   \n",
            "\n",
            "            my thought  \n",
            "0         full bullish  \n",
            "1        on resistance  \n",
            "2  if positive take it  \n",
            "3        on resistance  \n",
            "4                  NaN  \n",
            "5                  NaN  \n",
            "⏳ Waiting 285 seconds until next 5-min mark...\n",
            "\n"
          ]
        },
        {
          "name": "stderr",
          "output_type": "stream",
          "text": [
            "/tmp/ipython-input-176237620.py:51: FutureWarning: YF.download() has changed argument auto_adjust default to True\n",
            "  data = yf.download(all_tickers, period=\"7d\", interval=\"5m\", group_by='ticker', threads=True)\n",
            "\r[                       0%                       ]"
          ]
        },
        {
          "name": "stdout",
          "output_type": "stream",
          "text": [
            "\n",
            "🕒 Running Screener at 2025-08-13 11:40:00 IST\n"
          ]
        },
        {
          "name": "stderr",
          "output_type": "stream",
          "text": [
            "[*********************100%***********************]  222 of 222 completed\n",
            "ERROR:yfinance:\n",
            "2 Failed downloads:\n",
            "ERROR:yfinance:['NIFTY.NS', 'BANKNIFTY.NS']: YFPricesMissingError('possibly delisted; no price data found  (period=7d) (Yahoo error = \"No data found, symbol may be delisted\")')\n"
          ]
        },
        {
          "name": "stdout",
          "output_type": "stream",
          "text": [
            "BANKNIFTY.NS: Not enough data after ATR, skipping\n",
            "NIFTY.NS: Not enough data after ATR, skipping\n"
          ]
        },
        {
          "name": "stderr",
          "output_type": "stream",
          "text": [
            "/tmp/ipython-input-176237620.py:138: SettingWithCopyWarning: \n",
            "A value is trying to be set on a copy of a slice from a DataFrame.\n",
            "Try using .loc[row_indexer,col_indexer] = value instead\n",
            "\n",
            "See the caveats in the documentation: https://pandas.pydata.org/pandas-docs/stable/user_guide/indexing.html#returning-a-view-versus-a-copy\n",
            "  result_df['Symbol'] = result_df['Ticker'].str.replace('.NS', '', regex=False).str.upper()\n"
          ]
        },
        {
          "name": "stdout",
          "output_type": "stream",
          "text": [
            "\n",
            "📌 Final Signals with Weekly View and My Thought:\n",
            "         Ticker        entry_time direction        entry   sl-m   weekly  \\\n",
            "0     KAYNES.NS  2025-08-13 11:40       BUY  6079.500000  39.80  Bullish   \n",
            "1    ICICIGI.NS  2025-08-13 11:40       BUY  1919.599976   4.66      NaN   \n",
            "2  ZYDUSLIFE.NS  2025-08-13 11:40       BUY   969.250000   4.07      NaN   \n",
            "3        OIL.NS  2025-08-13 11:40      SELL   409.950012   1.98      NaN   \n",
            "\n",
            "      my thought  \n",
            "0  on resistance  \n",
            "1            NaN  \n",
            "2            NaN  \n",
            "3            NaN  \n",
            "⏳ Waiting 283 seconds until next 5-min mark...\n",
            "\n"
          ]
        },
        {
          "name": "stderr",
          "output_type": "stream",
          "text": [
            "/tmp/ipython-input-176237620.py:51: FutureWarning: YF.download() has changed argument auto_adjust default to True\n",
            "  data = yf.download(all_tickers, period=\"7d\", interval=\"5m\", group_by='ticker', threads=True)\n",
            "\r[                       0%                       ]"
          ]
        },
        {
          "name": "stdout",
          "output_type": "stream",
          "text": [
            "\n",
            "🕒 Running Screener at 2025-08-13 11:45:00 IST\n"
          ]
        },
        {
          "name": "stderr",
          "output_type": "stream",
          "text": [
            "[*********************100%***********************]  222 of 222 completed\n",
            "ERROR:yfinance:\n",
            "2 Failed downloads:\n",
            "ERROR:yfinance:['NIFTY.NS', 'BANKNIFTY.NS']: YFPricesMissingError('possibly delisted; no price data found  (period=7d) (Yahoo error = \"No data found, symbol may be delisted\")')\n"
          ]
        },
        {
          "name": "stdout",
          "output_type": "stream",
          "text": [
            "BANKNIFTY.NS: Not enough data after ATR, skipping\n",
            "NIFTY.NS: Not enough data after ATR, skipping\n"
          ]
        },
        {
          "name": "stderr",
          "output_type": "stream",
          "text": [
            "/tmp/ipython-input-176237620.py:138: SettingWithCopyWarning: \n",
            "A value is trying to be set on a copy of a slice from a DataFrame.\n",
            "Try using .loc[row_indexer,col_indexer] = value instead\n",
            "\n",
            "See the caveats in the documentation: https://pandas.pydata.org/pandas-docs/stable/user_guide/indexing.html#returning-a-view-versus-a-copy\n",
            "  result_df['Symbol'] = result_df['Ticker'].str.replace('.NS', '', regex=False).str.upper()\n"
          ]
        },
        {
          "name": "stdout",
          "output_type": "stream",
          "text": [
            "\n",
            "📌 Final Signals with Weekly View and My Thought:\n",
            "         Ticker        entry_time direction         entry   sl-m   weekly  \\\n",
            "0     KAYNES.NS  2025-08-13 11:45       BUY   6086.500000  40.93  Bullish   \n",
            "1     M&MFIN.NS  2025-08-13 11:45       BUY    258.899994   0.56  Neutral   \n",
            "2  SOLARINDS.NS  2025-08-13 11:45       BUY  15080.000000  76.93  Bearish   \n",
            "3    DRREDDY.NS  2025-08-13 11:45       BUY   1236.500000   2.13      NaN   \n",
            "4     COLPAL.NS  2025-08-13 11:45      SELL   2174.199951   4.91      NaN   \n",
            "5        OIL.NS  2025-08-13 11:45      SELL    404.500000   2.54      NaN   \n",
            "\n",
            "                           my thought  \n",
            "0                       on resistance  \n",
            "1                               check  \n",
            "2  weekly bearish/if negative take it  \n",
            "3                                 NaN  \n",
            "4                                 NaN  \n",
            "5                                 NaN  \n",
            "⏳ Waiting 281 seconds until next 5-min mark...\n",
            "\n"
          ]
        },
        {
          "name": "stderr",
          "output_type": "stream",
          "text": [
            "/tmp/ipython-input-176237620.py:51: FutureWarning: YF.download() has changed argument auto_adjust default to True\n",
            "  data = yf.download(all_tickers, period=\"7d\", interval=\"5m\", group_by='ticker', threads=True)\n",
            "\r[                       0%                       ]"
          ]
        },
        {
          "name": "stdout",
          "output_type": "stream",
          "text": [
            "\n",
            "🕒 Running Screener at 2025-08-13 11:50:00 IST\n"
          ]
        },
        {
          "name": "stderr",
          "output_type": "stream",
          "text": [
            "[*********************100%***********************]  222 of 222 completed\n",
            "ERROR:yfinance:\n",
            "2 Failed downloads:\n",
            "ERROR:yfinance:['NIFTY.NS', 'BANKNIFTY.NS']: YFPricesMissingError('possibly delisted; no price data found  (period=7d) (Yahoo error = \"No data found, symbol may be delisted\")')\n"
          ]
        },
        {
          "name": "stdout",
          "output_type": "stream",
          "text": [
            "BANKNIFTY.NS: Not enough data after ATR, skipping\n",
            "NIFTY.NS: Not enough data after ATR, skipping\n"
          ]
        },
        {
          "name": "stderr",
          "output_type": "stream",
          "text": [
            "/tmp/ipython-input-176237620.py:138: SettingWithCopyWarning: \n",
            "A value is trying to be set on a copy of a slice from a DataFrame.\n",
            "Try using .loc[row_indexer,col_indexer] = value instead\n",
            "\n",
            "See the caveats in the documentation: https://pandas.pydata.org/pandas-docs/stable/user_guide/indexing.html#returning-a-view-versus-a-copy\n",
            "  result_df['Symbol'] = result_df['Ticker'].str.replace('.NS', '', regex=False).str.upper()\n"
          ]
        },
        {
          "name": "stdout",
          "output_type": "stream",
          "text": [
            "\n",
            "📌 Final Signals with Weekly View and My Thought:\n",
            "        Ticker        entry_time direction        entry   sl-m   weekly  \\\n",
            "0      CAMS.NS  2025-08-13 11:50       BUY  3857.199951  16.55  Bullish   \n",
            "1    KAYNES.NS  2025-08-13 11:50       BUY  6092.000000  42.00  Bullish   \n",
            "2     NYKAA.NS  2025-08-13 11:50       BUY   214.320007   1.14  Bullish   \n",
            "3  TATACHEM.NS  2025-08-13 11:50      SELL   938.750000   2.43      NaN   \n",
            "\n",
            "            my thought  \n",
            "0  if positive take it  \n",
            "1        on resistance  \n",
            "2  if positive take it  \n",
            "3                  NaN  \n",
            "⏳ Waiting 284 seconds until next 5-min mark...\n",
            "\n"
          ]
        },
        {
          "name": "stderr",
          "output_type": "stream",
          "text": [
            "/tmp/ipython-input-176237620.py:51: FutureWarning: YF.download() has changed argument auto_adjust default to True\n",
            "  data = yf.download(all_tickers, period=\"7d\", interval=\"5m\", group_by='ticker', threads=True)\n",
            "\r[                       0%                       ]"
          ]
        },
        {
          "name": "stdout",
          "output_type": "stream",
          "text": [
            "\n",
            "🕒 Running Screener at 2025-08-13 11:55:00 IST\n"
          ]
        },
        {
          "name": "stderr",
          "output_type": "stream",
          "text": [
            "[*********************100%***********************]  222 of 222 completed\n",
            "ERROR:yfinance:\n",
            "2 Failed downloads:\n",
            "ERROR:yfinance:['NIFTY.NS', 'BANKNIFTY.NS']: YFPricesMissingError('possibly delisted; no price data found  (period=7d) (Yahoo error = \"No data found, symbol may be delisted\")')\n"
          ]
        },
        {
          "name": "stdout",
          "output_type": "stream",
          "text": [
            "BANKNIFTY.NS: Not enough data after ATR, skipping\n",
            "NIFTY.NS: Not enough data after ATR, skipping\n"
          ]
        },
        {
          "name": "stderr",
          "output_type": "stream",
          "text": [
            "/tmp/ipython-input-176237620.py:138: SettingWithCopyWarning: \n",
            "A value is trying to be set on a copy of a slice from a DataFrame.\n",
            "Try using .loc[row_indexer,col_indexer] = value instead\n",
            "\n",
            "See the caveats in the documentation: https://pandas.pydata.org/pandas-docs/stable/user_guide/indexing.html#returning-a-view-versus-a-copy\n",
            "  result_df['Symbol'] = result_df['Ticker'].str.replace('.NS', '', regex=False).str.upper()\n"
          ]
        },
        {
          "name": "stdout",
          "output_type": "stream",
          "text": [
            "\n",
            "📌 Final Signals with Weekly View and My Thought:\n",
            "        Ticker        entry_time direction        entry   sl-m   weekly  \\\n",
            "0    KAYNES.NS  2025-08-13 11:55       BUY  6129.500000  40.66  Bullish   \n",
            "1     NYKAA.NS  2025-08-13 11:55       BUY   215.110001   1.15  Bullish   \n",
            "2    M&MFIN.NS  2025-08-13 11:55       BUY   259.149994   0.57  Neutral   \n",
            "3  TATACHEM.NS  2025-08-13 11:55      SELL   938.349976   2.42      NaN   \n",
            "\n",
            "            my thought  \n",
            "0        on resistance  \n",
            "1  if positive take it  \n",
            "2                check  \n",
            "3                  NaN  \n",
            "⏳ Waiting 281 seconds until next 5-min mark...\n",
            "\n"
          ]
        },
        {
          "name": "stderr",
          "output_type": "stream",
          "text": [
            "/tmp/ipython-input-176237620.py:51: FutureWarning: YF.download() has changed argument auto_adjust default to True\n",
            "  data = yf.download(all_tickers, period=\"7d\", interval=\"5m\", group_by='ticker', threads=True)\n",
            "\r[                       0%                       ]"
          ]
        },
        {
          "name": "stdout",
          "output_type": "stream",
          "text": [
            "\n",
            "🕒 Running Screener at 2025-08-13 12:00:00 IST\n"
          ]
        },
        {
          "name": "stderr",
          "output_type": "stream",
          "text": [
            "[*********************100%***********************]  222 of 222 completed\n",
            "ERROR:yfinance:\n",
            "2 Failed downloads:\n",
            "ERROR:yfinance:['NIFTY.NS', 'BANKNIFTY.NS']: YFPricesMissingError('possibly delisted; no price data found  (period=7d) (Yahoo error = \"No data found, symbol may be delisted\")')\n"
          ]
        },
        {
          "name": "stdout",
          "output_type": "stream",
          "text": [
            "BANKNIFTY.NS: Not enough data after ATR, skipping\n",
            "NIFTY.NS: Not enough data after ATR, skipping\n"
          ]
        },
        {
          "name": "stderr",
          "output_type": "stream",
          "text": [
            "/tmp/ipython-input-176237620.py:138: SettingWithCopyWarning: \n",
            "A value is trying to be set on a copy of a slice from a DataFrame.\n",
            "Try using .loc[row_indexer,col_indexer] = value instead\n",
            "\n",
            "See the caveats in the documentation: https://pandas.pydata.org/pandas-docs/stable/user_guide/indexing.html#returning-a-view-versus-a-copy\n",
            "  result_df['Symbol'] = result_df['Ticker'].str.replace('.NS', '', regex=False).str.upper()\n"
          ]
        },
        {
          "name": "stdout",
          "output_type": "stream",
          "text": [
            "\n",
            "📌 Final Signals with Weekly View and My Thought:\n",
            "        Ticker        entry_time direction         entry   sl-m   weekly  \\\n",
            "0     NYKAA.NS  2025-08-13 12:00       BUY    217.279999   1.30  Bullish   \n",
            "1     DIXON.NS  2025-08-13 12:00      SELL  15687.000000  83.89  Neutral   \n",
            "2  TATACHEM.NS  2025-08-13 12:00      SELL    937.900024   2.33      NaN   \n",
            "3       OIL.NS  2025-08-13 12:00      SELL    403.450012   3.19      NaN   \n",
            "\n",
            "            my thought  \n",
            "0  if positive take it  \n",
            "1                check  \n",
            "2                  NaN  \n",
            "3                  NaN  \n",
            "⏳ Waiting 280 seconds until next 5-min mark...\n",
            "\n"
          ]
        },
        {
          "name": "stderr",
          "output_type": "stream",
          "text": [
            "/tmp/ipython-input-176237620.py:51: FutureWarning: YF.download() has changed argument auto_adjust default to True\n",
            "  data = yf.download(all_tickers, period=\"7d\", interval=\"5m\", group_by='ticker', threads=True)\n",
            "\r[                       0%                       ]"
          ]
        },
        {
          "name": "stdout",
          "output_type": "stream",
          "text": [
            "\n",
            "🕒 Running Screener at 2025-08-13 12:05:00 IST\n"
          ]
        },
        {
          "name": "stderr",
          "output_type": "stream",
          "text": [
            "[*********************100%***********************]  222 of 222 completed\n",
            "ERROR:yfinance:\n",
            "2 Failed downloads:\n",
            "ERROR:yfinance:['NIFTY.NS', 'BANKNIFTY.NS']: YFPricesMissingError('possibly delisted; no price data found  (period=7d) (Yahoo error = \"No data found, symbol may be delisted\")')\n"
          ]
        },
        {
          "name": "stdout",
          "output_type": "stream",
          "text": [
            "BANKNIFTY.NS: Not enough data after ATR, skipping\n",
            "NIFTY.NS: Not enough data after ATR, skipping\n"
          ]
        },
        {
          "name": "stderr",
          "output_type": "stream",
          "text": [
            "/tmp/ipython-input-176237620.py:138: SettingWithCopyWarning: \n",
            "A value is trying to be set on a copy of a slice from a DataFrame.\n",
            "Try using .loc[row_indexer,col_indexer] = value instead\n",
            "\n",
            "See the caveats in the documentation: https://pandas.pydata.org/pandas-docs/stable/user_guide/indexing.html#returning-a-view-versus-a-copy\n",
            "  result_df['Symbol'] = result_df['Ticker'].str.replace('.NS', '', regex=False).str.upper()\n"
          ]
        },
        {
          "name": "stdout",
          "output_type": "stream",
          "text": [
            "\n",
            "📌 Final Signals with Weekly View and My Thought:\n",
            "          Ticker        entry_time direction        entry  sl-m   weekly  \\\n",
            "0       NYKAA.NS  2025-08-13 12:05       BUY   217.470001  1.32  Bullish   \n",
            "1      BIOCON.NS  2025-08-13 12:05       BUY   358.399994  1.23  Bullish   \n",
            "2       DMART.NS  2025-08-13 12:05       BUY  4289.600098  9.66      NaN   \n",
            "3       CIPLA.NS  2025-08-13 12:05       BUY  1551.699951  4.53      NaN   \n",
            "4  HINDUNILVR.NS  2025-08-13 12:05      SELL  2475.000000  4.82  Bullish   \n",
            "5      COLPAL.NS  2025-08-13 12:05      SELL  2167.399902  5.00      NaN   \n",
            "6        HFCL.NS  2025-08-13 12:05      SELL    71.559998  0.24      NaN   \n",
            "7        IIFL.NS  2025-08-13 12:05      SELL   444.350006  1.29      NaN   \n",
            "\n",
            "            my thought  \n",
            "0  if positive take it  \n",
            "1  if positive take it  \n",
            "2                  NaN  \n",
            "3                  NaN  \n",
            "4  if positive take it  \n",
            "5                  NaN  \n",
            "6                  NaN  \n",
            "7                  NaN  \n",
            "⏳ Waiting 282 seconds until next 5-min mark...\n",
            "\n"
          ]
        },
        {
          "name": "stderr",
          "output_type": "stream",
          "text": [
            "/tmp/ipython-input-176237620.py:51: FutureWarning: YF.download() has changed argument auto_adjust default to True\n",
            "  data = yf.download(all_tickers, period=\"7d\", interval=\"5m\", group_by='ticker', threads=True)\n",
            "\r[                       0%                       ]"
          ]
        },
        {
          "name": "stdout",
          "output_type": "stream",
          "text": [
            "\n",
            "🕒 Running Screener at 2025-08-13 12:10:00 IST\n"
          ]
        },
        {
          "name": "stderr",
          "output_type": "stream",
          "text": [
            "[*********************100%***********************]  222 of 222 completed\n",
            "ERROR:yfinance:\n",
            "2 Failed downloads:\n",
            "ERROR:yfinance:['NIFTY.NS', 'BANKNIFTY.NS']: YFPricesMissingError('possibly delisted; no price data found  (period=7d) (Yahoo error = \"No data found, symbol may be delisted\")')\n"
          ]
        },
        {
          "name": "stdout",
          "output_type": "stream",
          "text": [
            "BANKNIFTY.NS: Not enough data after ATR, skipping\n",
            "NIFTY.NS: Not enough data after ATR, skipping\n"
          ]
        },
        {
          "name": "stderr",
          "output_type": "stream",
          "text": [
            "/tmp/ipython-input-176237620.py:138: SettingWithCopyWarning: \n",
            "A value is trying to be set on a copy of a slice from a DataFrame.\n",
            "Try using .loc[row_indexer,col_indexer] = value instead\n",
            "\n",
            "See the caveats in the documentation: https://pandas.pydata.org/pandas-docs/stable/user_guide/indexing.html#returning-a-view-versus-a-copy\n",
            "  result_df['Symbol'] = result_df['Ticker'].str.replace('.NS', '', regex=False).str.upper()\n"
          ]
        },
        {
          "name": "stdout",
          "output_type": "stream",
          "text": [
            "\n",
            "📌 Final Signals with Weekly View and My Thought:\n",
            "         Ticker        entry_time direction        entry   sl-m   weekly  \\\n",
            "0       CAMS.NS  2025-08-13 12:10       BUY  3863.800049  16.40  Bullish   \n",
            "1     KAYNES.NS  2025-08-13 12:10       BUY  6135.000000  41.20  Bullish   \n",
            "2      NYKAA.NS  2025-08-13 12:10       BUY   218.320007   1.40  Bullish   \n",
            "3  ZYDUSLIFE.NS  2025-08-13 12:10       BUY   977.200012   5.33      NaN   \n",
            "4      CIPLA.NS  2025-08-13 12:10       BUY  1556.000000   5.15      NaN   \n",
            "5   INDHOTEL.NS  2025-08-13 12:10       BUY   767.099976   1.56      NaN   \n",
            "\n",
            "            my thought  \n",
            "0  if positive take it  \n",
            "1        on resistance  \n",
            "2  if positive take it  \n",
            "3                  NaN  \n",
            "4                  NaN  \n",
            "5                  NaN  \n",
            "⏳ Waiting 284 seconds until next 5-min mark...\n",
            "\n",
            "\n",
            "🕒 Running Screener at 2025-08-13 12:15:00 IST\n"
          ]
        },
        {
          "name": "stderr",
          "output_type": "stream",
          "text": [
            "/tmp/ipython-input-176237620.py:51: FutureWarning: YF.download() has changed argument auto_adjust default to True\n",
            "  data = yf.download(all_tickers, period=\"7d\", interval=\"5m\", group_by='ticker', threads=True)\n",
            "[*********************100%***********************]  222 of 222 completed\n",
            "ERROR:yfinance:\n",
            "2 Failed downloads:\n",
            "ERROR:yfinance:['NIFTY.NS', 'BANKNIFTY.NS']: YFPricesMissingError('possibly delisted; no price data found  (period=7d) (Yahoo error = \"No data found, symbol may be delisted\")')\n"
          ]
        },
        {
          "name": "stdout",
          "output_type": "stream",
          "text": [
            "BANKNIFTY.NS: Not enough data after ATR, skipping\n",
            "NIFTY.NS: Not enough data after ATR, skipping\n"
          ]
        },
        {
          "name": "stderr",
          "output_type": "stream",
          "text": [
            "/tmp/ipython-input-176237620.py:138: SettingWithCopyWarning: \n",
            "A value is trying to be set on a copy of a slice from a DataFrame.\n",
            "Try using .loc[row_indexer,col_indexer] = value instead\n",
            "\n",
            "See the caveats in the documentation: https://pandas.pydata.org/pandas-docs/stable/user_guide/indexing.html#returning-a-view-versus-a-copy\n",
            "  result_df['Symbol'] = result_df['Ticker'].str.replace('.NS', '', regex=False).str.upper()\n"
          ]
        },
        {
          "name": "stdout",
          "output_type": "stream",
          "text": [
            "\n",
            "📌 Final Signals with Weekly View and My Thought:\n",
            "          Ticker        entry_time direction        entry  sl-m   weekly  \\\n",
            "0  LAURUSLABS.NS  2025-08-13 12:15       BUY   858.000000  4.10  Bullish   \n",
            "1       NYKAA.NS  2025-08-13 12:15       BUY   219.679993  1.54  Bullish   \n",
            "2       LUPIN.NS  2025-08-13 12:15       BUY  1986.800049  6.85      NaN   \n",
            "3   ZYDUSLIFE.NS  2025-08-13 12:15       BUY   979.250000  5.00      NaN   \n",
            "4       CIPLA.NS  2025-08-13 12:15       BUY  1559.500000  5.23      NaN   \n",
            "\n",
            "            my thought  \n",
            "0         full bullish  \n",
            "1  if positive take it  \n",
            "2                  NaN  \n",
            "3                  NaN  \n",
            "4                  NaN  \n",
            "⏳ Waiting 280 seconds until next 5-min mark...\n",
            "\n"
          ]
        },
        {
          "name": "stderr",
          "output_type": "stream",
          "text": [
            "/tmp/ipython-input-176237620.py:51: FutureWarning: YF.download() has changed argument auto_adjust default to True\n",
            "  data = yf.download(all_tickers, period=\"7d\", interval=\"5m\", group_by='ticker', threads=True)\n",
            "\r[                       0%                       ]"
          ]
        },
        {
          "name": "stdout",
          "output_type": "stream",
          "text": [
            "\n",
            "🕒 Running Screener at 2025-08-13 12:20:00 IST\n"
          ]
        },
        {
          "name": "stderr",
          "output_type": "stream",
          "text": [
            "[*********************100%***********************]  222 of 222 completed\n",
            "ERROR:yfinance:\n",
            "2 Failed downloads:\n",
            "ERROR:yfinance:['NIFTY.NS', 'BANKNIFTY.NS']: YFPricesMissingError('possibly delisted; no price data found  (period=7d) (Yahoo error = \"No data found, symbol may be delisted\")')\n"
          ]
        },
        {
          "name": "stdout",
          "output_type": "stream",
          "text": [
            "BANKNIFTY.NS: Not enough data after ATR, skipping\n",
            "NIFTY.NS: Not enough data after ATR, skipping\n"
          ]
        },
        {
          "name": "stderr",
          "output_type": "stream",
          "text": [
            "/tmp/ipython-input-176237620.py:138: SettingWithCopyWarning: \n",
            "A value is trying to be set on a copy of a slice from a DataFrame.\n",
            "Try using .loc[row_indexer,col_indexer] = value instead\n",
            "\n",
            "See the caveats in the documentation: https://pandas.pydata.org/pandas-docs/stable/user_guide/indexing.html#returning-a-view-versus-a-copy\n",
            "  result_df['Symbol'] = result_df['Ticker'].str.replace('.NS', '', regex=False).str.upper()\n"
          ]
        },
        {
          "name": "stdout",
          "output_type": "stream",
          "text": [
            "\n",
            "📌 Final Signals with Weekly View and My Thought:\n",
            "         Ticker        entry_time direction        entry   sl-m weekly  \\\n",
            "0  ZYDUSLIFE.NS  2025-08-13 12:20       BUY   988.000000   5.63    NaN   \n",
            "1      DMART.NS  2025-08-13 12:20       BUY  4300.100098  11.36    NaN   \n",
            "2    DRREDDY.NS  2025-08-13 12:20       BUY  1245.699951   3.47    NaN   \n",
            "\n",
            "  my thought  \n",
            "0        NaN  \n",
            "1        NaN  \n",
            "2        NaN  \n",
            "⏳ Waiting 282 seconds until next 5-min mark...\n",
            "\n"
          ]
        },
        {
          "name": "stderr",
          "output_type": "stream",
          "text": [
            "/tmp/ipython-input-176237620.py:51: FutureWarning: YF.download() has changed argument auto_adjust default to True\n",
            "  data = yf.download(all_tickers, period=\"7d\", interval=\"5m\", group_by='ticker', threads=True)\n",
            "\r[                       0%                       ]"
          ]
        },
        {
          "name": "stdout",
          "output_type": "stream",
          "text": [
            "\n",
            "🕒 Running Screener at 2025-08-13 12:25:00 IST\n"
          ]
        },
        {
          "name": "stderr",
          "output_type": "stream",
          "text": [
            "[*********************100%***********************]  222 of 222 completed\n",
            "ERROR:yfinance:\n",
            "2 Failed downloads:\n",
            "ERROR:yfinance:['NIFTY.NS', 'BANKNIFTY.NS']: YFPricesMissingError('possibly delisted; no price data found  (period=7d) (Yahoo error = \"No data found, symbol may be delisted\")')\n"
          ]
        },
        {
          "name": "stdout",
          "output_type": "stream",
          "text": [
            "BANKNIFTY.NS: Not enough data after ATR, skipping\n",
            "NIFTY.NS: Not enough data after ATR, skipping\n"
          ]
        },
        {
          "name": "stderr",
          "output_type": "stream",
          "text": [
            "/tmp/ipython-input-176237620.py:138: SettingWithCopyWarning: \n",
            "A value is trying to be set on a copy of a slice from a DataFrame.\n",
            "Try using .loc[row_indexer,col_indexer] = value instead\n",
            "\n",
            "See the caveats in the documentation: https://pandas.pydata.org/pandas-docs/stable/user_guide/indexing.html#returning-a-view-versus-a-copy\n",
            "  result_df['Symbol'] = result_df['Ticker'].str.replace('.NS', '', regex=False).str.upper()\n"
          ]
        },
        {
          "name": "stdout",
          "output_type": "stream",
          "text": [
            "\n",
            "📌 Final Signals with Weekly View and My Thought:\n",
            "         Ticker        entry_time direction        entry   sl-m weekly  \\\n",
            "0  ZYDUSLIFE.NS  2025-08-13 12:25       BUY   988.650024   5.69    NaN   \n",
            "1      DMART.NS  2025-08-13 12:25       BUY  4301.000000  11.65    NaN   \n",
            "\n",
            "  my thought  \n",
            "0        NaN  \n",
            "1        NaN  \n",
            "⏳ Waiting 282 seconds until next 5-min mark...\n",
            "\n",
            "\n",
            "🕒 Running Screener at 2025-08-13 12:30:00 IST\n"
          ]
        },
        {
          "name": "stderr",
          "output_type": "stream",
          "text": [
            "/tmp/ipython-input-176237620.py:51: FutureWarning: YF.download() has changed argument auto_adjust default to True\n",
            "  data = yf.download(all_tickers, period=\"7d\", interval=\"5m\", group_by='ticker', threads=True)\n",
            "[*********************100%***********************]  222 of 222 completed\n",
            "ERROR:yfinance:\n",
            "2 Failed downloads:\n",
            "ERROR:yfinance:['NIFTY.NS', 'BANKNIFTY.NS']: YFPricesMissingError('possibly delisted; no price data found  (period=7d) (Yahoo error = \"No data found, symbol may be delisted\")')\n"
          ]
        },
        {
          "name": "stdout",
          "output_type": "stream",
          "text": [
            "BANKNIFTY.NS: Not enough data after ATR, skipping\n",
            "NIFTY.NS: Not enough data after ATR, skipping\n"
          ]
        },
        {
          "name": "stderr",
          "output_type": "stream",
          "text": [
            "/tmp/ipython-input-176237620.py:138: SettingWithCopyWarning: \n",
            "A value is trying to be set on a copy of a slice from a DataFrame.\n",
            "Try using .loc[row_indexer,col_indexer] = value instead\n",
            "\n",
            "See the caveats in the documentation: https://pandas.pydata.org/pandas-docs/stable/user_guide/indexing.html#returning-a-view-versus-a-copy\n",
            "  result_df['Symbol'] = result_df['Ticker'].str.replace('.NS', '', regex=False).str.upper()\n"
          ]
        },
        {
          "name": "stdout",
          "output_type": "stream",
          "text": [
            "\n",
            "📌 Final Signals with Weekly View and My Thought:\n",
            "       Ticker        entry_time direction        entry   sl-m weekly  \\\n",
            "0    LUPIN.NS  2025-08-13 12:30       BUY  1999.900024   8.83    NaN   \n",
            "1    DMART.NS  2025-08-13 12:30       BUY  4302.600098  11.58    NaN   \n",
            "2  ETERNAL.NS  2025-08-13 12:30       BUY   312.149994   1.00    NaN   \n",
            "\n",
            "  my thought  \n",
            "0        NaN  \n",
            "1        NaN  \n",
            "2        NaN  \n",
            "⏳ Waiting 281 seconds until next 5-min mark...\n",
            "\n",
            "\n",
            "🕒 Running Screener at 2025-08-13 12:35:00 IST\n"
          ]
        },
        {
          "name": "stderr",
          "output_type": "stream",
          "text": [
            "/tmp/ipython-input-176237620.py:51: FutureWarning: YF.download() has changed argument auto_adjust default to True\n",
            "  data = yf.download(all_tickers, period=\"7d\", interval=\"5m\", group_by='ticker', threads=True)\n",
            "[*********************100%***********************]  222 of 222 completed\n",
            "ERROR:yfinance:\n",
            "2 Failed downloads:\n",
            "ERROR:yfinance:['NIFTY.NS', 'BANKNIFTY.NS']: YFPricesMissingError('possibly delisted; no price data found  (period=7d) (Yahoo error = \"No data found, symbol may be delisted\")')\n"
          ]
        },
        {
          "name": "stdout",
          "output_type": "stream",
          "text": [
            "BANKNIFTY.NS: Not enough data after ATR, skipping\n",
            "NIFTY.NS: Not enough data after ATR, skipping\n"
          ]
        },
        {
          "name": "stderr",
          "output_type": "stream",
          "text": [
            "/tmp/ipython-input-176237620.py:138: SettingWithCopyWarning: \n",
            "A value is trying to be set on a copy of a slice from a DataFrame.\n",
            "Try using .loc[row_indexer,col_indexer] = value instead\n",
            "\n",
            "See the caveats in the documentation: https://pandas.pydata.org/pandas-docs/stable/user_guide/indexing.html#returning-a-view-versus-a-copy\n",
            "  result_df['Symbol'] = result_df['Ticker'].str.replace('.NS', '', regex=False).str.upper()\n"
          ]
        },
        {
          "name": "stdout",
          "output_type": "stream",
          "text": [
            "\n",
            "📌 Final Signals with Weekly View and My Thought:\n",
            "          Ticker        entry_time direction        entry   sl-m   weekly  \\\n",
            "0  LAURUSLABS.NS  2025-08-13 12:35       BUY   861.500000   4.09  Bullish   \n",
            "1       NYKAA.NS  2025-08-13 12:35       BUY   220.399994   1.75  Bullish   \n",
            "2       DMART.NS  2025-08-13 12:35       BUY  4310.700195  12.17      NaN   \n",
            "\n",
            "            my thought  \n",
            "0         full bullish  \n",
            "1  if positive take it  \n",
            "2                  NaN  \n",
            "⏳ Waiting 282 seconds until next 5-min mark...\n",
            "\n"
          ]
        },
        {
          "name": "stderr",
          "output_type": "stream",
          "text": [
            "/tmp/ipython-input-176237620.py:51: FutureWarning: YF.download() has changed argument auto_adjust default to True\n",
            "  data = yf.download(all_tickers, period=\"7d\", interval=\"5m\", group_by='ticker', threads=True)\n",
            "\r[                       0%                       ]"
          ]
        },
        {
          "name": "stdout",
          "output_type": "stream",
          "text": [
            "\n",
            "🕒 Running Screener at 2025-08-13 12:40:00 IST\n"
          ]
        },
        {
          "name": "stderr",
          "output_type": "stream",
          "text": [
            "[*********************100%***********************]  222 of 222 completed\n",
            "ERROR:yfinance:\n",
            "2 Failed downloads:\n",
            "ERROR:yfinance:['NIFTY.NS', 'BANKNIFTY.NS']: YFPricesMissingError('possibly delisted; no price data found  (period=7d) (Yahoo error = \"No data found, symbol may be delisted\")')\n"
          ]
        },
        {
          "name": "stdout",
          "output_type": "stream",
          "text": [
            "BANKNIFTY.NS: Not enough data after ATR, skipping\n",
            "NIFTY.NS: Not enough data after ATR, skipping\n"
          ]
        },
        {
          "name": "stderr",
          "output_type": "stream",
          "text": [
            "/tmp/ipython-input-176237620.py:138: SettingWithCopyWarning: \n",
            "A value is trying to be set on a copy of a slice from a DataFrame.\n",
            "Try using .loc[row_indexer,col_indexer] = value instead\n",
            "\n",
            "See the caveats in the documentation: https://pandas.pydata.org/pandas-docs/stable/user_guide/indexing.html#returning-a-view-versus-a-copy\n",
            "  result_df['Symbol'] = result_df['Ticker'].str.replace('.NS', '', regex=False).str.upper()\n"
          ]
        },
        {
          "name": "stdout",
          "output_type": "stream",
          "text": [
            "\n",
            "📌 Final Signals with Weekly View and My Thought:\n",
            "          Ticker        entry_time direction        entry  sl-m   weekly  \\\n",
            "0  LAURUSLABS.NS  2025-08-13 12:40       BUY   863.950012  4.24  Bullish   \n",
            "1   ZYDUSLIFE.NS  2025-08-13 12:40       BUY   988.700012  6.12      NaN   \n",
            "2       CIPLA.NS  2025-08-13 12:40       BUY  1564.000000  6.18      NaN   \n",
            "3      COLPAL.NS  2025-08-13 12:40      SELL  2164.699951  4.22      NaN   \n",
            "\n",
            "     my thought  \n",
            "0  full bullish  \n",
            "1           NaN  \n",
            "2           NaN  \n",
            "3           NaN  \n",
            "⏳ Waiting 282 seconds until next 5-min mark...\n",
            "\n"
          ]
        },
        {
          "name": "stderr",
          "output_type": "stream",
          "text": [
            "/tmp/ipython-input-176237620.py:51: FutureWarning: YF.download() has changed argument auto_adjust default to True\n",
            "  data = yf.download(all_tickers, period=\"7d\", interval=\"5m\", group_by='ticker', threads=True)\n",
            "[                       1%                       ]  2 of 222 completed"
          ]
        },
        {
          "name": "stdout",
          "output_type": "stream",
          "text": [
            "\n",
            "🕒 Running Screener at 2025-08-13 12:45:00 IST\n"
          ]
        },
        {
          "name": "stderr",
          "output_type": "stream",
          "text": [
            "[*********************100%***********************]  222 of 222 completed\n",
            "ERROR:yfinance:\n",
            "2 Failed downloads:\n",
            "ERROR:yfinance:['NIFTY.NS', 'BANKNIFTY.NS']: YFPricesMissingError('possibly delisted; no price data found  (period=7d) (Yahoo error = \"No data found, symbol may be delisted\")')\n"
          ]
        },
        {
          "name": "stdout",
          "output_type": "stream",
          "text": [
            "BANKNIFTY.NS: Not enough data after ATR, skipping\n",
            "NIFTY.NS: Not enough data after ATR, skipping\n"
          ]
        },
        {
          "name": "stderr",
          "output_type": "stream",
          "text": [
            "/tmp/ipython-input-176237620.py:138: SettingWithCopyWarning: \n",
            "A value is trying to be set on a copy of a slice from a DataFrame.\n",
            "Try using .loc[row_indexer,col_indexer] = value instead\n",
            "\n",
            "See the caveats in the documentation: https://pandas.pydata.org/pandas-docs/stable/user_guide/indexing.html#returning-a-view-versus-a-copy\n",
            "  result_df['Symbol'] = result_df['Ticker'].str.replace('.NS', '', regex=False).str.upper()\n"
          ]
        },
        {
          "name": "stdout",
          "output_type": "stream",
          "text": [
            "\n",
            "📌 Final Signals with Weekly View and My Thought:\n",
            "     Ticker        entry_time direction        entry   sl-m weekly my thought\n",
            "0  DMART.NS  2025-08-13 12:45       BUY  4318.299805  12.19    NaN        NaN\n",
            "⏳ Waiting 283 seconds until next 5-min mark...\n",
            "\n"
          ]
        },
        {
          "name": "stderr",
          "output_type": "stream",
          "text": [
            "/tmp/ipython-input-176237620.py:51: FutureWarning: YF.download() has changed argument auto_adjust default to True\n",
            "  data = yf.download(all_tickers, period=\"7d\", interval=\"5m\", group_by='ticker', threads=True)\n",
            "\r[                       0%                       ]"
          ]
        },
        {
          "name": "stdout",
          "output_type": "stream",
          "text": [
            "\n",
            "🕒 Running Screener at 2025-08-13 12:50:00 IST\n"
          ]
        },
        {
          "name": "stderr",
          "output_type": "stream",
          "text": [
            "[*********************100%***********************]  222 of 222 completed\n",
            "ERROR:yfinance:\n",
            "2 Failed downloads:\n",
            "ERROR:yfinance:['NIFTY.NS', 'BANKNIFTY.NS']: YFPricesMissingError('possibly delisted; no price data found  (period=7d) (Yahoo error = \"No data found, symbol may be delisted\")')\n"
          ]
        },
        {
          "name": "stdout",
          "output_type": "stream",
          "text": [
            "BANKNIFTY.NS: Not enough data after ATR, skipping\n",
            "NIFTY.NS: Not enough data after ATR, skipping\n"
          ]
        },
        {
          "name": "stderr",
          "output_type": "stream",
          "text": [
            "/tmp/ipython-input-176237620.py:138: SettingWithCopyWarning: \n",
            "A value is trying to be set on a copy of a slice from a DataFrame.\n",
            "Try using .loc[row_indexer,col_indexer] = value instead\n",
            "\n",
            "See the caveats in the documentation: https://pandas.pydata.org/pandas-docs/stable/user_guide/indexing.html#returning-a-view-versus-a-copy\n",
            "  result_df['Symbol'] = result_df['Ticker'].str.replace('.NS', '', regex=False).str.upper()\n"
          ]
        },
        {
          "name": "stdout",
          "output_type": "stream",
          "text": [
            "\n",
            "📌 Final Signals with Weekly View and My Thought:\n",
            "         Ticker        entry_time direction        entry   sl-m weekly  \\\n",
            "0  ZYDUSLIFE.NS  2025-08-13 12:50       BUY   993.049988   6.25    NaN   \n",
            "1      DMART.NS  2025-08-13 12:50       BUY  4323.299805  13.23    NaN   \n",
            "2     COLPAL.NS  2025-08-13 12:50      SELL  2164.500000   3.62    NaN   \n",
            "\n",
            "  my thought  \n",
            "0        NaN  \n",
            "1        NaN  \n",
            "2        NaN  \n",
            "⏳ Waiting 282 seconds until next 5-min mark...\n",
            "\n"
          ]
        },
        {
          "name": "stderr",
          "output_type": "stream",
          "text": [
            "/tmp/ipython-input-176237620.py:51: FutureWarning: YF.download() has changed argument auto_adjust default to True\n",
            "  data = yf.download(all_tickers, period=\"7d\", interval=\"5m\", group_by='ticker', threads=True)\n",
            "\r[                       0%                       ]"
          ]
        },
        {
          "name": "stdout",
          "output_type": "stream",
          "text": [
            "\n",
            "🕒 Running Screener at 2025-08-13 12:55:00 IST\n"
          ]
        },
        {
          "name": "stderr",
          "output_type": "stream",
          "text": [
            "[*********************100%***********************]  222 of 222 completed\n",
            "ERROR:yfinance:\n",
            "2 Failed downloads:\n",
            "ERROR:yfinance:['NIFTY.NS', 'BANKNIFTY.NS']: YFPricesMissingError('possibly delisted; no price data found  (period=7d) (Yahoo error = \"No data found, symbol may be delisted\")')\n"
          ]
        },
        {
          "name": "stdout",
          "output_type": "stream",
          "text": [
            "BANKNIFTY.NS: Not enough data after ATR, skipping\n",
            "NIFTY.NS: Not enough data after ATR, skipping\n"
          ]
        },
        {
          "name": "stderr",
          "output_type": "stream",
          "text": [
            "/tmp/ipython-input-176237620.py:138: SettingWithCopyWarning: \n",
            "A value is trying to be set on a copy of a slice from a DataFrame.\n",
            "Try using .loc[row_indexer,col_indexer] = value instead\n",
            "\n",
            "See the caveats in the documentation: https://pandas.pydata.org/pandas-docs/stable/user_guide/indexing.html#returning-a-view-versus-a-copy\n",
            "  result_df['Symbol'] = result_df['Ticker'].str.replace('.NS', '', regex=False).str.upper()\n"
          ]
        },
        {
          "name": "stdout",
          "output_type": "stream",
          "text": [
            "\n",
            "📌 Final Signals with Weekly View and My Thought:\n",
            "          Ticker        entry_time direction        entry   sl-m   weekly  \\\n",
            "0      INDIGO.NS  2025-08-13 12:55       BUY  5987.500000  11.20  Bullish   \n",
            "1  IDFCFIRSTB.NS  2025-08-13 12:55       BUY    70.169998   0.13      NaN   \n",
            "2    ANGELONE.NS  2025-08-13 12:55       BUY  2609.000000  10.65      NaN   \n",
            "3      COLPAL.NS  2025-08-13 12:55      SELL  2164.000000   3.47      NaN   \n",
            "\n",
            "            my thought  \n",
            "0  if positive take it  \n",
            "1                  NaN  \n",
            "2                  NaN  \n",
            "3                  NaN  \n",
            "⏳ Waiting 283 seconds until next 5-min mark...\n",
            "\n"
          ]
        },
        {
          "name": "stderr",
          "output_type": "stream",
          "text": [
            "/tmp/ipython-input-176237620.py:51: FutureWarning: YF.download() has changed argument auto_adjust default to True\n",
            "  data = yf.download(all_tickers, period=\"7d\", interval=\"5m\", group_by='ticker', threads=True)\n",
            "\r[                       0%                       ]"
          ]
        },
        {
          "name": "stdout",
          "output_type": "stream",
          "text": [
            "\n",
            "🕒 Running Screener at 2025-08-13 13:00:00 IST\n"
          ]
        },
        {
          "name": "stderr",
          "output_type": "stream",
          "text": [
            "[*********************100%***********************]  222 of 222 completed\n",
            "ERROR:yfinance:\n",
            "2 Failed downloads:\n",
            "ERROR:yfinance:['NIFTY.NS', 'BANKNIFTY.NS']: YFPricesMissingError('possibly delisted; no price data found  (period=7d) (Yahoo error = \"No data found, symbol may be delisted\")')\n"
          ]
        },
        {
          "name": "stdout",
          "output_type": "stream",
          "text": [
            "BANKNIFTY.NS: Not enough data after ATR, skipping\n",
            "NIFTY.NS: Not enough data after ATR, skipping\n"
          ]
        },
        {
          "name": "stderr",
          "output_type": "stream",
          "text": [
            "/tmp/ipython-input-176237620.py:138: SettingWithCopyWarning: \n",
            "A value is trying to be set on a copy of a slice from a DataFrame.\n",
            "Try using .loc[row_indexer,col_indexer] = value instead\n",
            "\n",
            "See the caveats in the documentation: https://pandas.pydata.org/pandas-docs/stable/user_guide/indexing.html#returning-a-view-versus-a-copy\n",
            "  result_df['Symbol'] = result_df['Ticker'].str.replace('.NS', '', regex=False).str.upper()\n"
          ]
        },
        {
          "name": "stdout",
          "output_type": "stream",
          "text": [
            "\n",
            "📌 Final Signals with Weekly View and My Thought:\n",
            "        Ticker        entry_time direction        entry   sl-m weekly  \\\n",
            "0  ANGELONE.NS  2025-08-13 13:00       BUY  2619.899902  11.32    NaN   \n",
            "\n",
            "  my thought  \n",
            "0        NaN  \n",
            "⏳ Waiting 282 seconds until next 5-min mark...\n",
            "\n"
          ]
        },
        {
          "name": "stderr",
          "output_type": "stream",
          "text": [
            "/tmp/ipython-input-176237620.py:51: FutureWarning: YF.download() has changed argument auto_adjust default to True\n",
            "  data = yf.download(all_tickers, period=\"7d\", interval=\"5m\", group_by='ticker', threads=True)\n",
            "\r[                       0%                       ]"
          ]
        },
        {
          "name": "stdout",
          "output_type": "stream",
          "text": [
            "\n",
            "🕒 Running Screener at 2025-08-13 13:05:00 IST\n"
          ]
        },
        {
          "name": "stderr",
          "output_type": "stream",
          "text": [
            "[*********************100%***********************]  222 of 222 completed\n",
            "ERROR:yfinance:\n",
            "2 Failed downloads:\n",
            "ERROR:yfinance:['NIFTY.NS', 'BANKNIFTY.NS']: YFPricesMissingError('possibly delisted; no price data found  (period=7d) (Yahoo error = \"No data found, symbol may be delisted\")')\n"
          ]
        },
        {
          "name": "stdout",
          "output_type": "stream",
          "text": [
            "BANKNIFTY.NS: Not enough data after ATR, skipping\n",
            "NIFTY.NS: Not enough data after ATR, skipping\n"
          ]
        },
        {
          "name": "stderr",
          "output_type": "stream",
          "text": [
            "/tmp/ipython-input-176237620.py:138: SettingWithCopyWarning: \n",
            "A value is trying to be set on a copy of a slice from a DataFrame.\n",
            "Try using .loc[row_indexer,col_indexer] = value instead\n",
            "\n",
            "See the caveats in the documentation: https://pandas.pydata.org/pandas-docs/stable/user_guide/indexing.html#returning-a-view-versus-a-copy\n",
            "  result_df['Symbol'] = result_df['Ticker'].str.replace('.NS', '', regex=False).str.upper()\n"
          ]
        },
        {
          "name": "stdout",
          "output_type": "stream",
          "text": [
            "\n",
            "📌 Final Signals with Weekly View and My Thought:\n",
            "         Ticker        entry_time direction        entry  sl-m weekly  \\\n",
            "0  COALINDIA.NS  2025-08-13 13:05       BUY   387.600006  0.70    NaN   \n",
            "1       NMDC.NS  2025-08-13 13:05       BUY    72.519997  0.21    NaN   \n",
            "2        BSE.NS  2025-08-13 13:05       BUY  2477.500000  6.91    NaN   \n",
            "\n",
            "  my thought  \n",
            "0        NaN  \n",
            "1        NaN  \n",
            "2        NaN  \n",
            "⏳ Waiting 283 seconds until next 5-min mark...\n",
            "\n"
          ]
        },
        {
          "name": "stderr",
          "output_type": "stream",
          "text": [
            "/tmp/ipython-input-176237620.py:51: FutureWarning: YF.download() has changed argument auto_adjust default to True\n",
            "  data = yf.download(all_tickers, period=\"7d\", interval=\"5m\", group_by='ticker', threads=True)\n",
            "\r[                       0%                       ]"
          ]
        },
        {
          "name": "stdout",
          "output_type": "stream",
          "text": [
            "\n",
            "🕒 Running Screener at 2025-08-13 13:10:00 IST\n"
          ]
        },
        {
          "name": "stderr",
          "output_type": "stream",
          "text": [
            "[*********************100%***********************]  222 of 222 completed\n",
            "ERROR:yfinance:\n",
            "2 Failed downloads:\n",
            "ERROR:yfinance:['NIFTY.NS', 'BANKNIFTY.NS']: YFPricesMissingError('possibly delisted; no price data found  (period=7d) (Yahoo error = \"No data found, symbol may be delisted\")')\n"
          ]
        },
        {
          "name": "stdout",
          "output_type": "stream",
          "text": [
            "BANKNIFTY.NS: Not enough data after ATR, skipping\n",
            "NIFTY.NS: Not enough data after ATR, skipping\n"
          ]
        },
        {
          "name": "stderr",
          "output_type": "stream",
          "text": [
            "/tmp/ipython-input-176237620.py:138: SettingWithCopyWarning: \n",
            "A value is trying to be set on a copy of a slice from a DataFrame.\n",
            "Try using .loc[row_indexer,col_indexer] = value instead\n",
            "\n",
            "See the caveats in the documentation: https://pandas.pydata.org/pandas-docs/stable/user_guide/indexing.html#returning-a-view-versus-a-copy\n",
            "  result_df['Symbol'] = result_df['Ticker'].str.replace('.NS', '', regex=False).str.upper()\n"
          ]
        },
        {
          "name": "stdout",
          "output_type": "stream",
          "text": [
            "\n",
            "📌 Final Signals with Weekly View and My Thought:\n",
            "        Ticker        entry_time direction        entry   sl-m   weekly  \\\n",
            "0      CAMS.NS  2025-08-13 13:10       BUY  3878.000000  13.07  Bullish   \n",
            "1  ANGELONE.NS  2025-08-13 13:10       BUY  2623.500000  11.07      NaN   \n",
            "2       BSE.NS  2025-08-13 13:10       BUY  2481.100098   7.48      NaN   \n",
            "3    COLPAL.NS  2025-08-13 13:10      SELL  2161.100098   3.60      NaN   \n",
            "\n",
            "            my thought  \n",
            "0  if positive take it  \n",
            "1                  NaN  \n",
            "2                  NaN  \n",
            "3                  NaN  \n",
            "⏳ Waiting 283 seconds until next 5-min mark...\n",
            "\n"
          ]
        },
        {
          "name": "stderr",
          "output_type": "stream",
          "text": [
            "/tmp/ipython-input-176237620.py:51: FutureWarning: YF.download() has changed argument auto_adjust default to True\n",
            "  data = yf.download(all_tickers, period=\"7d\", interval=\"5m\", group_by='ticker', threads=True)\n",
            "\r[                       0%                       ]"
          ]
        },
        {
          "name": "stdout",
          "output_type": "stream",
          "text": [
            "\n",
            "🕒 Running Screener at 2025-08-13 13:15:00 IST\n"
          ]
        },
        {
          "name": "stderr",
          "output_type": "stream",
          "text": [
            "[*********************100%***********************]  222 of 222 completed\n",
            "ERROR:yfinance:\n",
            "2 Failed downloads:\n",
            "ERROR:yfinance:['NIFTY.NS', 'BANKNIFTY.NS']: YFPricesMissingError('possibly delisted; no price data found  (period=7d) (Yahoo error = \"No data found, symbol may be delisted\")')\n"
          ]
        },
        {
          "name": "stdout",
          "output_type": "stream",
          "text": [
            "BANKNIFTY.NS: Not enough data after ATR, skipping\n",
            "NIFTY.NS: Not enough data after ATR, skipping\n"
          ]
        },
        {
          "name": "stderr",
          "output_type": "stream",
          "text": [
            "/tmp/ipython-input-176237620.py:138: SettingWithCopyWarning: \n",
            "A value is trying to be set on a copy of a slice from a DataFrame.\n",
            "Try using .loc[row_indexer,col_indexer] = value instead\n",
            "\n",
            "See the caveats in the documentation: https://pandas.pydata.org/pandas-docs/stable/user_guide/indexing.html#returning-a-view-versus-a-copy\n",
            "  result_df['Symbol'] = result_df['Ticker'].str.replace('.NS', '', regex=False).str.upper()\n"
          ]
        },
        {
          "name": "stdout",
          "output_type": "stream",
          "text": [
            "\n",
            "📌 Final Signals with Weekly View and My Thought:\n",
            "      Ticker        entry_time direction        entry  sl-m weekly my thought\n",
            "0  COLPAL.NS  2025-08-13 13:15      SELL  2159.699951  3.57    NaN        NaN\n",
            "⏳ Waiting 282 seconds until next 5-min mark...\n",
            "\n"
          ]
        },
        {
          "name": "stderr",
          "output_type": "stream",
          "text": [
            "/tmp/ipython-input-176237620.py:51: FutureWarning: YF.download() has changed argument auto_adjust default to True\n",
            "  data = yf.download(all_tickers, period=\"7d\", interval=\"5m\", group_by='ticker', threads=True)\n",
            "\r[                       0%                       ]"
          ]
        },
        {
          "name": "stdout",
          "output_type": "stream",
          "text": [
            "\n",
            "🕒 Running Screener at 2025-08-13 13:20:00 IST\n"
          ]
        },
        {
          "name": "stderr",
          "output_type": "stream",
          "text": [
            "[*********************100%***********************]  222 of 222 completed\n",
            "ERROR:yfinance:\n",
            "2 Failed downloads:\n",
            "ERROR:yfinance:['NIFTY.NS', 'BANKNIFTY.NS']: YFPricesMissingError('possibly delisted; no price data found  (period=7d) (Yahoo error = \"No data found, symbol may be delisted\")')\n"
          ]
        },
        {
          "name": "stdout",
          "output_type": "stream",
          "text": [
            "BANKNIFTY.NS: Not enough data after ATR, skipping\n",
            "NIFTY.NS: Not enough data after ATR, skipping\n"
          ]
        },
        {
          "name": "stderr",
          "output_type": "stream",
          "text": [
            "/tmp/ipython-input-176237620.py:138: SettingWithCopyWarning: \n",
            "A value is trying to be set on a copy of a slice from a DataFrame.\n",
            "Try using .loc[row_indexer,col_indexer] = value instead\n",
            "\n",
            "See the caveats in the documentation: https://pandas.pydata.org/pandas-docs/stable/user_guide/indexing.html#returning-a-view-versus-a-copy\n",
            "  result_df['Symbol'] = result_df['Ticker'].str.replace('.NS', '', regex=False).str.upper()\n"
          ]
        },
        {
          "name": "stdout",
          "output_type": "stream",
          "text": [
            "\n",
            "📌 Final Signals with Weekly View and My Thought:\n",
            "          Ticker        entry_time direction        entry   sl-m   weekly  \\\n",
            "0         BDL.NS  2025-08-13 13:20       BUY  1560.400024   6.23  Bearish   \n",
            "1  APOLLOHOSP.NS  2025-08-13 13:20       BUY  7727.500000  17.52  Bullish   \n",
            "2      COLPAL.NS  2025-08-13 13:20      SELL  2159.500000   3.34      NaN   \n",
            "\n",
            "                           my thought  \n",
            "0                           M on week  \n",
            "1  see chart bearish englfing on week  \n",
            "2                                 NaN  \n",
            "⏳ Waiting 282 seconds until next 5-min mark...\n",
            "\n"
          ]
        },
        {
          "name": "stderr",
          "output_type": "stream",
          "text": [
            "/tmp/ipython-input-176237620.py:51: FutureWarning: YF.download() has changed argument auto_adjust default to True\n",
            "  data = yf.download(all_tickers, period=\"7d\", interval=\"5m\", group_by='ticker', threads=True)\n",
            "\r[                       0%                       ]"
          ]
        },
        {
          "name": "stdout",
          "output_type": "stream",
          "text": [
            "\n",
            "🕒 Running Screener at 2025-08-13 13:25:00 IST\n"
          ]
        },
        {
          "name": "stderr",
          "output_type": "stream",
          "text": [
            "[*********************100%***********************]  222 of 222 completed\n",
            "ERROR:yfinance:\n",
            "2 Failed downloads:\n",
            "ERROR:yfinance:['NIFTY.NS', 'BANKNIFTY.NS']: YFPricesMissingError('possibly delisted; no price data found  (period=7d) (Yahoo error = \"No data found, symbol may be delisted\")')\n"
          ]
        },
        {
          "name": "stdout",
          "output_type": "stream",
          "text": [
            "BANKNIFTY.NS: Not enough data after ATR, skipping\n",
            "NIFTY.NS: Not enough data after ATR, skipping\n"
          ]
        },
        {
          "name": "stderr",
          "output_type": "stream",
          "text": [
            "/tmp/ipython-input-176237620.py:138: SettingWithCopyWarning: \n",
            "A value is trying to be set on a copy of a slice from a DataFrame.\n",
            "Try using .loc[row_indexer,col_indexer] = value instead\n",
            "\n",
            "See the caveats in the documentation: https://pandas.pydata.org/pandas-docs/stable/user_guide/indexing.html#returning-a-view-versus-a-copy\n",
            "  result_df['Symbol'] = result_df['Ticker'].str.replace('.NS', '', regex=False).str.upper()\n"
          ]
        },
        {
          "name": "stdout",
          "output_type": "stream",
          "text": [
            "\n",
            "📌 Final Signals with Weekly View and My Thought:\n",
            "          Ticker        entry_time direction        entry   sl-m   weekly  \\\n",
            "0         BDL.NS  2025-08-13 13:25       BUY  1569.000000   6.91  Bearish   \n",
            "1  APOLLOHOSP.NS  2025-08-13 13:25       BUY  7749.000000  19.18  Bullish   \n",
            "2    UNOMINDA.NS  2025-08-13 13:25       BUY  1115.500000   3.33  Bullish   \n",
            "3        LICI.NS  2025-08-13 13:25      SELL   892.049988   4.01      NaN   \n",
            "4  FEDERALBNK.NS  2025-08-13 13:25      SELL   195.729996   0.39      NaN   \n",
            "\n",
            "                           my thought  \n",
            "0                           M on week  \n",
            "1  see chart bearish englfing on week  \n",
            "2                       on resistance  \n",
            "3                                 NaN  \n",
            "4                                 NaN  \n",
            "⏳ Waiting 281 seconds until next 5-min mark...\n",
            "\n"
          ]
        },
        {
          "name": "stderr",
          "output_type": "stream",
          "text": [
            "/tmp/ipython-input-176237620.py:51: FutureWarning: YF.download() has changed argument auto_adjust default to True\n",
            "  data = yf.download(all_tickers, period=\"7d\", interval=\"5m\", group_by='ticker', threads=True)\n",
            "\r[                       0%                       ]"
          ]
        },
        {
          "name": "stdout",
          "output_type": "stream",
          "text": [
            "\n",
            "🕒 Running Screener at 2025-08-13 13:30:00 IST\n"
          ]
        },
        {
          "name": "stderr",
          "output_type": "stream",
          "text": [
            "[*********************100%***********************]  222 of 222 completed\n",
            "ERROR:yfinance:\n",
            "2 Failed downloads:\n",
            "ERROR:yfinance:['NIFTY.NS', 'BANKNIFTY.NS']: YFPricesMissingError('possibly delisted; no price data found  (period=7d) (Yahoo error = \"No data found, symbol may be delisted\")')\n"
          ]
        },
        {
          "name": "stdout",
          "output_type": "stream",
          "text": [
            "BANKNIFTY.NS: Not enough data after ATR, skipping\n",
            "NIFTY.NS: Not enough data after ATR, skipping\n"
          ]
        },
        {
          "name": "stderr",
          "output_type": "stream",
          "text": [
            "/tmp/ipython-input-176237620.py:138: SettingWithCopyWarning: \n",
            "A value is trying to be set on a copy of a slice from a DataFrame.\n",
            "Try using .loc[row_indexer,col_indexer] = value instead\n",
            "\n",
            "See the caveats in the documentation: https://pandas.pydata.org/pandas-docs/stable/user_guide/indexing.html#returning-a-view-versus-a-copy\n",
            "  result_df['Symbol'] = result_df['Ticker'].str.replace('.NS', '', regex=False).str.upper()\n"
          ]
        },
        {
          "name": "stdout",
          "output_type": "stream",
          "text": [
            "\n",
            "📌 Final Signals with Weekly View and My Thought:\n",
            "    Ticker        entry_time direction       entry  sl-m weekly my thought\n",
            "0  LICI.NS  2025-08-13 13:30      SELL  891.400024  4.42    NaN        NaN\n",
            "⏳ Waiting 280 seconds until next 5-min mark...\n",
            "\n"
          ]
        },
        {
          "name": "stderr",
          "output_type": "stream",
          "text": [
            "/tmp/ipython-input-176237620.py:51: FutureWarning: YF.download() has changed argument auto_adjust default to True\n",
            "  data = yf.download(all_tickers, period=\"7d\", interval=\"5m\", group_by='ticker', threads=True)\n",
            "\r[                       0%                       ]"
          ]
        },
        {
          "name": "stdout",
          "output_type": "stream",
          "text": [
            "\n",
            "🕒 Running Screener at 2025-08-13 13:35:00 IST\n"
          ]
        },
        {
          "name": "stderr",
          "output_type": "stream",
          "text": [
            "[*********************100%***********************]  222 of 222 completed\n",
            "ERROR:yfinance:\n",
            "2 Failed downloads:\n",
            "ERROR:yfinance:['NIFTY.NS', 'BANKNIFTY.NS']: YFPricesMissingError('possibly delisted; no price data found  (period=7d) (Yahoo error = \"No data found, symbol may be delisted\")')\n"
          ]
        },
        {
          "name": "stdout",
          "output_type": "stream",
          "text": [
            "BANKNIFTY.NS: Not enough data after ATR, skipping\n",
            "NIFTY.NS: Not enough data after ATR, skipping\n"
          ]
        },
        {
          "name": "stderr",
          "output_type": "stream",
          "text": [
            "/tmp/ipython-input-176237620.py:138: SettingWithCopyWarning: \n",
            "A value is trying to be set on a copy of a slice from a DataFrame.\n",
            "Try using .loc[row_indexer,col_indexer] = value instead\n",
            "\n",
            "See the caveats in the documentation: https://pandas.pydata.org/pandas-docs/stable/user_guide/indexing.html#returning-a-view-versus-a-copy\n",
            "  result_df['Symbol'] = result_df['Ticker'].str.replace('.NS', '', regex=False).str.upper()\n"
          ]
        },
        {
          "name": "stdout",
          "output_type": "stream",
          "text": [
            "\n",
            "📌 Final Signals with Weekly View and My Thought:\n",
            "      Ticker        entry_time direction       entry  sl-m   weekly  \\\n",
            "0  JIOFIN.NS  2025-08-13 13:35       BUY  331.700012  0.63  Neutral   \n",
            "\n",
            "            my thought  \n",
            "0  will wait on upside  \n",
            "⏳ Waiting 282 seconds until next 5-min mark...\n",
            "\n"
          ]
        },
        {
          "name": "stderr",
          "output_type": "stream",
          "text": [
            "/tmp/ipython-input-176237620.py:51: FutureWarning: YF.download() has changed argument auto_adjust default to True\n",
            "  data = yf.download(all_tickers, period=\"7d\", interval=\"5m\", group_by='ticker', threads=True)\n",
            "\r[                       0%                       ]"
          ]
        },
        {
          "name": "stdout",
          "output_type": "stream",
          "text": [
            "\n",
            "🕒 Running Screener at 2025-08-13 13:40:00 IST\n"
          ]
        },
        {
          "name": "stderr",
          "output_type": "stream",
          "text": [
            "[*********************100%***********************]  222 of 222 completed\n",
            "ERROR:yfinance:\n",
            "2 Failed downloads:\n",
            "ERROR:yfinance:['NIFTY.NS', 'BANKNIFTY.NS']: YFPricesMissingError('possibly delisted; no price data found  (period=7d) (Yahoo error = \"No data found, symbol may be delisted\")')\n"
          ]
        },
        {
          "name": "stdout",
          "output_type": "stream",
          "text": [
            "BANKNIFTY.NS: Not enough data after ATR, skipping\n",
            "NIFTY.NS: Not enough data after ATR, skipping\n"
          ]
        },
        {
          "name": "stderr",
          "output_type": "stream",
          "text": [
            "/tmp/ipython-input-176237620.py:138: SettingWithCopyWarning: \n",
            "A value is trying to be set on a copy of a slice from a DataFrame.\n",
            "Try using .loc[row_indexer,col_indexer] = value instead\n",
            "\n",
            "See the caveats in the documentation: https://pandas.pydata.org/pandas-docs/stable/user_guide/indexing.html#returning-a-view-versus-a-copy\n",
            "  result_df['Symbol'] = result_df['Ticker'].str.replace('.NS', '', regex=False).str.upper()\n"
          ]
        },
        {
          "name": "stdout",
          "output_type": "stream",
          "text": [
            "\n",
            "📌 Final Signals with Weekly View and My Thought:\n",
            "      Ticker        entry_time direction       entry  sl-m   weekly  \\\n",
            "0  JIOFIN.NS  2025-08-13 13:40       BUY  332.149994  0.70  Neutral   \n",
            "1  M&MFIN.NS  2025-08-13 13:40       BUY  259.850006  0.51  Neutral   \n",
            "2    IDEA.NS  2025-08-13 13:40      SELL    6.360000  0.03  Bearish   \n",
            "\n",
            "            my thought  \n",
            "0  will wait on upside  \n",
            "1                check  \n",
            "2                 skip  \n",
            "⏳ Waiting 283 seconds until next 5-min mark...\n",
            "\n"
          ]
        },
        {
          "name": "stderr",
          "output_type": "stream",
          "text": [
            "/tmp/ipython-input-176237620.py:51: FutureWarning: YF.download() has changed argument auto_adjust default to True\n",
            "  data = yf.download(all_tickers, period=\"7d\", interval=\"5m\", group_by='ticker', threads=True)\n",
            "\r[                       0%                       ]"
          ]
        },
        {
          "name": "stdout",
          "output_type": "stream",
          "text": [
            "\n",
            "🕒 Running Screener at 2025-08-13 13:45:00 IST\n"
          ]
        },
        {
          "name": "stderr",
          "output_type": "stream",
          "text": [
            "[*********************100%***********************]  222 of 222 completed\n",
            "ERROR:yfinance:\n",
            "2 Failed downloads:\n",
            "ERROR:yfinance:['NIFTY.NS', 'BANKNIFTY.NS']: YFPricesMissingError('possibly delisted; no price data found  (period=7d) (Yahoo error = \"No data found, symbol may be delisted\")')\n"
          ]
        },
        {
          "name": "stdout",
          "output_type": "stream",
          "text": [
            "BANKNIFTY.NS: Not enough data after ATR, skipping\n",
            "NIFTY.NS: Not enough data after ATR, skipping\n"
          ]
        },
        {
          "name": "stderr",
          "output_type": "stream",
          "text": [
            "/tmp/ipython-input-176237620.py:138: SettingWithCopyWarning: \n",
            "A value is trying to be set on a copy of a slice from a DataFrame.\n",
            "Try using .loc[row_indexer,col_indexer] = value instead\n",
            "\n",
            "See the caveats in the documentation: https://pandas.pydata.org/pandas-docs/stable/user_guide/indexing.html#returning-a-view-versus-a-copy\n",
            "  result_df['Symbol'] = result_df['Ticker'].str.replace('.NS', '', regex=False).str.upper()\n"
          ]
        },
        {
          "name": "stdout",
          "output_type": "stream",
          "text": [
            "\n",
            "📌 Final Signals with Weekly View and My Thought:\n",
            "      Ticker        entry_time direction       entry  sl-m   weekly my thought\n",
            "0  M&MFIN.NS  2025-08-13 13:45       BUY  259.950012  0.48  Neutral      check\n",
            "1    LICI.NS  2025-08-13 13:45      SELL  887.950012  5.06      NaN        NaN\n",
            "⏳ Waiting 281 seconds until next 5-min mark...\n",
            "\n"
          ]
        },
        {
          "name": "stderr",
          "output_type": "stream",
          "text": [
            "/tmp/ipython-input-176237620.py:51: FutureWarning: YF.download() has changed argument auto_adjust default to True\n",
            "  data = yf.download(all_tickers, period=\"7d\", interval=\"5m\", group_by='ticker', threads=True)\n",
            "\r[                       0%                       ]"
          ]
        },
        {
          "name": "stdout",
          "output_type": "stream",
          "text": [
            "\n",
            "🕒 Running Screener at 2025-08-13 13:50:00 IST\n"
          ]
        },
        {
          "name": "stderr",
          "output_type": "stream",
          "text": [
            "[*********************100%***********************]  222 of 222 completed\n",
            "ERROR:yfinance:\n",
            "2 Failed downloads:\n",
            "ERROR:yfinance:['NIFTY.NS', 'BANKNIFTY.NS']: YFPricesMissingError('possibly delisted; no price data found  (period=7d) (Yahoo error = \"No data found, symbol may be delisted\")')\n"
          ]
        },
        {
          "name": "stdout",
          "output_type": "stream",
          "text": [
            "BANKNIFTY.NS: Not enough data after ATR, skipping\n",
            "NIFTY.NS: Not enough data after ATR, skipping\n"
          ]
        },
        {
          "name": "stderr",
          "output_type": "stream",
          "text": [
            "/tmp/ipython-input-176237620.py:138: SettingWithCopyWarning: \n",
            "A value is trying to be set on a copy of a slice from a DataFrame.\n",
            "Try using .loc[row_indexer,col_indexer] = value instead\n",
            "\n",
            "See the caveats in the documentation: https://pandas.pydata.org/pandas-docs/stable/user_guide/indexing.html#returning-a-view-versus-a-copy\n",
            "  result_df['Symbol'] = result_df['Ticker'].str.replace('.NS', '', regex=False).str.upper()\n"
          ]
        },
        {
          "name": "stdout",
          "output_type": "stream",
          "text": [
            "\n",
            "📌 Final Signals with Weekly View and My Thought:\n",
            "         Ticker        entry_time direction       entry  sl-m   weekly  \\\n",
            "0     M&MFIN.NS  2025-08-13 13:50       BUY  260.000000  0.48  Neutral   \n",
            "1  MOTHERSON.NS  2025-08-13 13:50       BUY   93.739998  1.05      NaN   \n",
            "\n",
            "  my thought  \n",
            "0      check  \n",
            "1        NaN  \n",
            "⏳ Waiting 282 seconds until next 5-min mark...\n",
            "\n"
          ]
        },
        {
          "name": "stderr",
          "output_type": "stream",
          "text": [
            "/tmp/ipython-input-176237620.py:51: FutureWarning: YF.download() has changed argument auto_adjust default to True\n",
            "  data = yf.download(all_tickers, period=\"7d\", interval=\"5m\", group_by='ticker', threads=True)\n",
            "\r[                       0%                       ]"
          ]
        },
        {
          "name": "stdout",
          "output_type": "stream",
          "text": [
            "\n",
            "🕒 Running Screener at 2025-08-13 13:55:00 IST\n"
          ]
        },
        {
          "name": "stderr",
          "output_type": "stream",
          "text": [
            "[*********************100%***********************]  222 of 222 completed\n",
            "ERROR:yfinance:\n",
            "2 Failed downloads:\n",
            "ERROR:yfinance:['NIFTY.NS', 'BANKNIFTY.NS']: YFPricesMissingError('possibly delisted; no price data found  (period=7d) (Yahoo error = \"No data found, symbol may be delisted\")')\n"
          ]
        },
        {
          "name": "stdout",
          "output_type": "stream",
          "text": [
            "BANKNIFTY.NS: Not enough data after ATR, skipping\n",
            "NIFTY.NS: Not enough data after ATR, skipping\n"
          ]
        },
        {
          "name": "stderr",
          "output_type": "stream",
          "text": [
            "/tmp/ipython-input-176237620.py:138: SettingWithCopyWarning: \n",
            "A value is trying to be set on a copy of a slice from a DataFrame.\n",
            "Try using .loc[row_indexer,col_indexer] = value instead\n",
            "\n",
            "See the caveats in the documentation: https://pandas.pydata.org/pandas-docs/stable/user_guide/indexing.html#returning-a-view-versus-a-copy\n",
            "  result_df['Symbol'] = result_df['Ticker'].str.replace('.NS', '', regex=False).str.upper()\n"
          ]
        },
        {
          "name": "stdout",
          "output_type": "stream",
          "text": [
            "\n",
            "📌 Final Signals with Weekly View and My Thought:\n",
            "         Ticker        entry_time direction        entry   sl-m   weekly  \\\n",
            "0        BDL.NS  2025-08-13 13:55       BUY  1584.099976  10.10  Bearish   \n",
            "1        BEL.NS  2025-08-13 13:55       BUY   388.350006   0.96  Bullish   \n",
            "2  MOTHERSON.NS  2025-08-13 13:55       BUY    94.010002   1.09      NaN   \n",
            "3       LICI.NS  2025-08-13 13:55      SELL   886.750000   5.83      NaN   \n",
            "\n",
            "            my thought  \n",
            "0            M on week  \n",
            "1  if positive take it  \n",
            "2                  NaN  \n",
            "3                  NaN  \n",
            "⏳ Waiting 281 seconds until next 5-min mark...\n",
            "\n"
          ]
        },
        {
          "name": "stderr",
          "output_type": "stream",
          "text": [
            "/tmp/ipython-input-176237620.py:51: FutureWarning: YF.download() has changed argument auto_adjust default to True\n",
            "  data = yf.download(all_tickers, period=\"7d\", interval=\"5m\", group_by='ticker', threads=True)\n",
            "\r[                       0%                       ]"
          ]
        },
        {
          "name": "stdout",
          "output_type": "stream",
          "text": [
            "\n",
            "🕒 Running Screener at 2025-08-13 14:00:00 IST\n"
          ]
        },
        {
          "name": "stderr",
          "output_type": "stream",
          "text": [
            "[*********************100%***********************]  222 of 222 completed\n",
            "ERROR:yfinance:\n",
            "2 Failed downloads:\n",
            "ERROR:yfinance:['NIFTY.NS', 'BANKNIFTY.NS']: YFPricesMissingError('possibly delisted; no price data found  (period=7d) (Yahoo error = \"No data found, symbol may be delisted\")')\n"
          ]
        },
        {
          "name": "stdout",
          "output_type": "stream",
          "text": [
            "BANKNIFTY.NS: Not enough data after ATR, skipping\n",
            "NIFTY.NS: Not enough data after ATR, skipping\n"
          ]
        },
        {
          "name": "stderr",
          "output_type": "stream",
          "text": [
            "/tmp/ipython-input-176237620.py:138: SettingWithCopyWarning: \n",
            "A value is trying to be set on a copy of a slice from a DataFrame.\n",
            "Try using .loc[row_indexer,col_indexer] = value instead\n",
            "\n",
            "See the caveats in the documentation: https://pandas.pydata.org/pandas-docs/stable/user_guide/indexing.html#returning-a-view-versus-a-copy\n",
            "  result_df['Symbol'] = result_df['Ticker'].str.replace('.NS', '', regex=False).str.upper()\n"
          ]
        },
        {
          "name": "stdout",
          "output_type": "stream",
          "text": [
            "\n",
            "📌 Final Signals with Weekly View and My Thought:\n",
            "          Ticker        entry_time direction        entry   sl-m   weekly  \\\n",
            "0         BDL.NS  2025-08-13 14:00       BUY  1598.000000  11.08  Bearish   \n",
            "1         HAL.NS  2025-08-13 14:00       BUY  4549.000000  19.23  Bullish   \n",
            "2         BEL.NS  2025-08-13 14:00       BUY   389.200012   1.06  Bullish   \n",
            "3   MOTHERSON.NS  2025-08-13 14:00       BUY    94.040001   1.09      NaN   \n",
            "4  OBEROIRLTY.NS  2025-08-13 14:00       BUY  1638.599976   3.27      NaN   \n",
            "5        LICI.NS  2025-08-13 14:00      SELL   883.000000   6.43      NaN   \n",
            "\n",
            "                         my thought  \n",
            "0                         M on week  \n",
            "1  if positive take it/making range  \n",
            "2               if positive take it  \n",
            "3                               NaN  \n",
            "4                               NaN  \n",
            "5                               NaN  \n",
            "⏳ Waiting 282 seconds until next 5-min mark...\n",
            "\n"
          ]
        },
        {
          "name": "stderr",
          "output_type": "stream",
          "text": [
            "/tmp/ipython-input-176237620.py:51: FutureWarning: YF.download() has changed argument auto_adjust default to True\n",
            "  data = yf.download(all_tickers, period=\"7d\", interval=\"5m\", group_by='ticker', threads=True)\n",
            "\r[                       0%                       ]"
          ]
        },
        {
          "name": "stdout",
          "output_type": "stream",
          "text": [
            "\n",
            "🕒 Running Screener at 2025-08-13 14:05:00 IST\n"
          ]
        },
        {
          "name": "stderr",
          "output_type": "stream",
          "text": [
            "[*********************100%***********************]  222 of 222 completed\n",
            "ERROR:yfinance:\n",
            "2 Failed downloads:\n",
            "ERROR:yfinance:['NIFTY.NS', 'BANKNIFTY.NS']: YFPricesMissingError('possibly delisted; no price data found  (period=7d) (Yahoo error = \"No data found, symbol may be delisted\")')\n"
          ]
        },
        {
          "name": "stdout",
          "output_type": "stream",
          "text": [
            "BANKNIFTY.NS: Not enough data after ATR, skipping\n",
            "NIFTY.NS: Not enough data after ATR, skipping\n"
          ]
        },
        {
          "name": "stderr",
          "output_type": "stream",
          "text": [
            "/tmp/ipython-input-176237620.py:138: SettingWithCopyWarning: \n",
            "A value is trying to be set on a copy of a slice from a DataFrame.\n",
            "Try using .loc[row_indexer,col_indexer] = value instead\n",
            "\n",
            "See the caveats in the documentation: https://pandas.pydata.org/pandas-docs/stable/user_guide/indexing.html#returning-a-view-versus-a-copy\n",
            "  result_df['Symbol'] = result_df['Ticker'].str.replace('.NS', '', regex=False).str.upper()\n"
          ]
        },
        {
          "name": "stdout",
          "output_type": "stream",
          "text": [
            "\n",
            "📌 Final Signals with Weekly View and My Thought:\n",
            "         Ticker        entry_time direction        entry   sl-m   weekly  \\\n",
            "0        BDL.NS  2025-08-13 14:05       BUY  1599.500000  11.89  Bearish   \n",
            "1        HAL.NS  2025-08-13 14:05       BUY  4566.700195  20.57  Bullish   \n",
            "2    MAZDOCK.NS  2025-08-13 14:05       BUY  2768.300049   9.10  Bullish   \n",
            "3        BEL.NS  2025-08-13 14:05       BUY   389.799988   1.13  Bullish   \n",
            "4  MOTHERSON.NS  2025-08-13 14:05       BUY    94.209999   1.11      NaN   \n",
            "\n",
            "                                my thought  \n",
            "0                                M on week  \n",
            "1         if positive take it/making range  \n",
            "2  negative structure/ if negative take it  \n",
            "3                      if positive take it  \n",
            "4                                      NaN  \n",
            "⏳ Waiting 282 seconds until next 5-min mark...\n",
            "\n"
          ]
        },
        {
          "name": "stderr",
          "output_type": "stream",
          "text": [
            "/tmp/ipython-input-176237620.py:51: FutureWarning: YF.download() has changed argument auto_adjust default to True\n",
            "  data = yf.download(all_tickers, period=\"7d\", interval=\"5m\", group_by='ticker', threads=True)\n",
            "\r[                       0%                       ]"
          ]
        },
        {
          "name": "stdout",
          "output_type": "stream",
          "text": [
            "\n",
            "🕒 Running Screener at 2025-08-13 14:10:00 IST\n"
          ]
        },
        {
          "name": "stderr",
          "output_type": "stream",
          "text": [
            "[*********************100%***********************]  222 of 222 completed\n",
            "ERROR:yfinance:\n",
            "2 Failed downloads:\n",
            "ERROR:yfinance:['NIFTY.NS', 'BANKNIFTY.NS']: YFPricesMissingError('possibly delisted; no price data found  (period=7d) (Yahoo error = \"No data found, symbol may be delisted\")')\n"
          ]
        },
        {
          "name": "stdout",
          "output_type": "stream",
          "text": [
            "BANKNIFTY.NS: Not enough data after ATR, skipping\n",
            "NIFTY.NS: Not enough data after ATR, skipping\n"
          ]
        },
        {
          "name": "stderr",
          "output_type": "stream",
          "text": [
            "/tmp/ipython-input-176237620.py:138: SettingWithCopyWarning: \n",
            "A value is trying to be set on a copy of a slice from a DataFrame.\n",
            "Try using .loc[row_indexer,col_indexer] = value instead\n",
            "\n",
            "See the caveats in the documentation: https://pandas.pydata.org/pandas-docs/stable/user_guide/indexing.html#returning-a-view-versus-a-copy\n",
            "  result_df['Symbol'] = result_df['Ticker'].str.replace('.NS', '', regex=False).str.upper()\n"
          ]
        },
        {
          "name": "stdout",
          "output_type": "stream",
          "text": [
            "\n",
            "📌 Final Signals with Weekly View and My Thought:\n",
            "          Ticker        entry_time direction        entry   sl-m weekly  \\\n",
            "0    ANGELONE.NS  2025-08-13 14:10       BUY  2628.699951  10.04    NaN   \n",
            "1   MOTHERSON.NS  2025-08-13 14:10       BUY    94.239998   1.12    NaN   \n",
            "2        LICI.NS  2025-08-13 14:10      SELL   882.950012   6.85    NaN   \n",
            "3  MUTHOOTFIN.NS  2025-08-13 14:10      SELL  2477.100098  12.77    NaN   \n",
            "\n",
            "  my thought  \n",
            "0        NaN  \n",
            "1        NaN  \n",
            "2        NaN  \n",
            "3        NaN  \n",
            "⏳ Waiting 284 seconds until next 5-min mark...\n",
            "\n"
          ]
        },
        {
          "name": "stderr",
          "output_type": "stream",
          "text": [
            "/tmp/ipython-input-176237620.py:51: FutureWarning: YF.download() has changed argument auto_adjust default to True\n",
            "  data = yf.download(all_tickers, period=\"7d\", interval=\"5m\", group_by='ticker', threads=True)\n",
            "\r[                       0%                       ]"
          ]
        },
        {
          "name": "stdout",
          "output_type": "stream",
          "text": [
            "\n",
            "🕒 Running Screener at 2025-08-13 14:15:00 IST\n"
          ]
        },
        {
          "name": "stderr",
          "output_type": "stream",
          "text": [
            "[*********************100%***********************]  222 of 222 completed\n",
            "ERROR:yfinance:\n",
            "2 Failed downloads:\n",
            "ERROR:yfinance:['NIFTY.NS', 'BANKNIFTY.NS']: YFPricesMissingError('possibly delisted; no price data found  (period=7d) (Yahoo error = \"No data found, symbol may be delisted\")')\n"
          ]
        },
        {
          "name": "stdout",
          "output_type": "stream",
          "text": [
            "BANKNIFTY.NS: Not enough data after ATR, skipping\n",
            "NIFTY.NS: Not enough data after ATR, skipping\n"
          ]
        },
        {
          "name": "stderr",
          "output_type": "stream",
          "text": [
            "/tmp/ipython-input-176237620.py:138: SettingWithCopyWarning: \n",
            "A value is trying to be set on a copy of a slice from a DataFrame.\n",
            "Try using .loc[row_indexer,col_indexer] = value instead\n",
            "\n",
            "See the caveats in the documentation: https://pandas.pydata.org/pandas-docs/stable/user_guide/indexing.html#returning-a-view-versus-a-copy\n",
            "  result_df['Symbol'] = result_df['Ticker'].str.replace('.NS', '', regex=False).str.upper()\n"
          ]
        },
        {
          "name": "stdout",
          "output_type": "stream",
          "text": [
            "\n",
            "📌 Final Signals with Weekly View and My Thought:\n",
            "        Ticker        entry_time direction       entry  sl-m   weekly  \\\n",
            "0  TATATECH.NS  2025-08-13 14:15       BUY  668.599976  1.43  Bearish   \n",
            "\n",
            "            my thought  \n",
            "0  if negative take it  \n",
            "⏳ Waiting 283 seconds until next 5-min mark...\n",
            "\n",
            "\n",
            "🕒 Running Screener at 2025-08-13 14:20:00 IST\n"
          ]
        },
        {
          "name": "stderr",
          "output_type": "stream",
          "text": [
            "/tmp/ipython-input-176237620.py:51: FutureWarning: YF.download() has changed argument auto_adjust default to True\n",
            "  data = yf.download(all_tickers, period=\"7d\", interval=\"5m\", group_by='ticker', threads=True)\n",
            "[*********************100%***********************]  222 of 222 completed\n",
            "ERROR:yfinance:\n",
            "2 Failed downloads:\n",
            "ERROR:yfinance:['NIFTY.NS', 'BANKNIFTY.NS']: YFPricesMissingError('possibly delisted; no price data found  (period=7d) (Yahoo error = \"No data found, symbol may be delisted\")')\n"
          ]
        },
        {
          "name": "stdout",
          "output_type": "stream",
          "text": [
            "BANKNIFTY.NS: Not enough data after ATR, skipping\n",
            "NIFTY.NS: Not enough data after ATR, skipping\n",
            "🔍 No signals this round.\n",
            "⏳ Waiting 281 seconds until next 5-min mark...\n",
            "\n",
            "\n",
            "🕒 Running Screener at 2025-08-13 14:25:00 IST\n"
          ]
        },
        {
          "name": "stderr",
          "output_type": "stream",
          "text": [
            "/tmp/ipython-input-176237620.py:51: FutureWarning: YF.download() has changed argument auto_adjust default to True\n",
            "  data = yf.download(all_tickers, period=\"7d\", interval=\"5m\", group_by='ticker', threads=True)\n",
            "[*********************100%***********************]  222 of 222 completed\n",
            "ERROR:yfinance:\n",
            "2 Failed downloads:\n",
            "ERROR:yfinance:['NIFTY.NS', 'BANKNIFTY.NS']: YFPricesMissingError('possibly delisted; no price data found  (period=7d) (Yahoo error = \"No data found, symbol may be delisted\")')\n"
          ]
        },
        {
          "name": "stdout",
          "output_type": "stream",
          "text": [
            "BANKNIFTY.NS: Not enough data after ATR, skipping\n",
            "NIFTY.NS: Not enough data after ATR, skipping\n"
          ]
        },
        {
          "name": "stderr",
          "output_type": "stream",
          "text": [
            "/tmp/ipython-input-176237620.py:138: SettingWithCopyWarning: \n",
            "A value is trying to be set on a copy of a slice from a DataFrame.\n",
            "Try using .loc[row_indexer,col_indexer] = value instead\n",
            "\n",
            "See the caveats in the documentation: https://pandas.pydata.org/pandas-docs/stable/user_guide/indexing.html#returning-a-view-versus-a-copy\n",
            "  result_df['Symbol'] = result_df['Ticker'].str.replace('.NS', '', regex=False).str.upper()\n"
          ]
        },
        {
          "name": "stdout",
          "output_type": "stream",
          "text": [
            "\n",
            "📌 Final Signals with Weekly View and My Thought:\n",
            "         Ticker        entry_time direction      entry  sl-m weekly my thought\n",
            "0  MOTHERSON.NS  2025-08-13 14:25       BUY  94.440002  1.05    NaN        NaN\n",
            "⏳ Waiting 281 seconds until next 5-min mark...\n",
            "\n"
          ]
        },
        {
          "name": "stderr",
          "output_type": "stream",
          "text": [
            "/tmp/ipython-input-176237620.py:51: FutureWarning: YF.download() has changed argument auto_adjust default to True\n",
            "  data = yf.download(all_tickers, period=\"7d\", interval=\"5m\", group_by='ticker', threads=True)\n",
            "\r[                       0%                       ]"
          ]
        },
        {
          "name": "stdout",
          "output_type": "stream",
          "text": [
            "\n",
            "🕒 Running Screener at 2025-08-13 14:30:00 IST\n"
          ]
        },
        {
          "name": "stderr",
          "output_type": "stream",
          "text": [
            "[*********************100%***********************]  222 of 222 completed\n",
            "ERROR:yfinance:\n",
            "2 Failed downloads:\n",
            "ERROR:yfinance:['NIFTY.NS', 'BANKNIFTY.NS']: YFPricesMissingError('possibly delisted; no price data found  (period=7d) (Yahoo error = \"No data found, symbol may be delisted\")')\n"
          ]
        },
        {
          "name": "stdout",
          "output_type": "stream",
          "text": [
            "BANKNIFTY.NS: Not enough data after ATR, skipping\n",
            "NIFTY.NS: Not enough data after ATR, skipping\n",
            "🔍 No signals this round.\n",
            "⏳ Waiting 280 seconds until next 5-min mark...\n",
            "\n"
          ]
        },
        {
          "name": "stderr",
          "output_type": "stream",
          "text": [
            "/tmp/ipython-input-176237620.py:51: FutureWarning: YF.download() has changed argument auto_adjust default to True\n",
            "  data = yf.download(all_tickers, period=\"7d\", interval=\"5m\", group_by='ticker', threads=True)\n",
            "\r[                       0%                       ]"
          ]
        },
        {
          "name": "stdout",
          "output_type": "stream",
          "text": [
            "\n",
            "🕒 Running Screener at 2025-08-13 14:35:00 IST\n"
          ]
        },
        {
          "name": "stderr",
          "output_type": "stream",
          "text": [
            "[*********************100%***********************]  222 of 222 completed\n",
            "ERROR:yfinance:\n",
            "2 Failed downloads:\n",
            "ERROR:yfinance:['NIFTY.NS', 'BANKNIFTY.NS']: YFPricesMissingError('possibly delisted; no price data found  (period=7d) (Yahoo error = \"No data found, symbol may be delisted\")')\n"
          ]
        },
        {
          "name": "stdout",
          "output_type": "stream",
          "text": [
            "BANKNIFTY.NS: Not enough data after ATR, skipping\n",
            "NIFTY.NS: Not enough data after ATR, skipping\n"
          ]
        },
        {
          "name": "stderr",
          "output_type": "stream",
          "text": [
            "/tmp/ipython-input-176237620.py:138: SettingWithCopyWarning: \n",
            "A value is trying to be set on a copy of a slice from a DataFrame.\n",
            "Try using .loc[row_indexer,col_indexer] = value instead\n",
            "\n",
            "See the caveats in the documentation: https://pandas.pydata.org/pandas-docs/stable/user_guide/indexing.html#returning-a-view-versus-a-copy\n",
            "  result_df['Symbol'] = result_df['Ticker'].str.replace('.NS', '', regex=False).str.upper()\n"
          ]
        },
        {
          "name": "stdout",
          "output_type": "stream",
          "text": [
            "\n",
            "📌 Final Signals with Weekly View and My Thought:\n",
            "       Ticker        entry_time direction  entry  sl-m weekly my thought\n",
            "0  CGPOWER.NS  2025-08-13 14:35       BUY  674.0  1.59    NaN        NaN\n",
            "⏳ Waiting 282 seconds until next 5-min mark...\n",
            "\n"
          ]
        },
        {
          "name": "stderr",
          "output_type": "stream",
          "text": [
            "/tmp/ipython-input-176237620.py:51: FutureWarning: YF.download() has changed argument auto_adjust default to True\n",
            "  data = yf.download(all_tickers, period=\"7d\", interval=\"5m\", group_by='ticker', threads=True)\n",
            "\r[                       0%                       ]"
          ]
        },
        {
          "name": "stdout",
          "output_type": "stream",
          "text": [
            "\n",
            "🕒 Running Screener at 2025-08-13 14:40:00 IST\n"
          ]
        },
        {
          "name": "stderr",
          "output_type": "stream",
          "text": [
            "[*********************100%***********************]  222 of 222 completed\n",
            "ERROR:yfinance:\n",
            "2 Failed downloads:\n",
            "ERROR:yfinance:['NIFTY.NS', 'BANKNIFTY.NS']: YFPricesMissingError('possibly delisted; no price data found  (period=7d) (Yahoo error = \"No data found, symbol may be delisted\")')\n"
          ]
        },
        {
          "name": "stdout",
          "output_type": "stream",
          "text": [
            "BANKNIFTY.NS: Not enough data after ATR, skipping\n",
            "NIFTY.NS: Not enough data after ATR, skipping\n"
          ]
        },
        {
          "name": "stderr",
          "output_type": "stream",
          "text": [
            "/tmp/ipython-input-176237620.py:138: SettingWithCopyWarning: \n",
            "A value is trying to be set on a copy of a slice from a DataFrame.\n",
            "Try using .loc[row_indexer,col_indexer] = value instead\n",
            "\n",
            "See the caveats in the documentation: https://pandas.pydata.org/pandas-docs/stable/user_guide/indexing.html#returning-a-view-versus-a-copy\n",
            "  result_df['Symbol'] = result_df['Ticker'].str.replace('.NS', '', regex=False).str.upper()\n"
          ]
        },
        {
          "name": "stdout",
          "output_type": "stream",
          "text": [
            "\n",
            "📌 Final Signals with Weekly View and My Thought:\n",
            "         Ticker        entry_time direction       entry  sl-m weekly  \\\n",
            "0  ZYDUSLIFE.NS  2025-08-13 14:40       BUY  996.799988  2.62    NaN   \n",
            "1       NMDC.NS  2025-08-13 14:40       BUY   72.800003  0.20    NaN   \n",
            "\n",
            "  my thought  \n",
            "0        NaN  \n",
            "1        NaN  \n",
            "⏳ Waiting 281 seconds until next 5-min mark...\n",
            "\n"
          ]
        },
        {
          "name": "stderr",
          "output_type": "stream",
          "text": [
            "/tmp/ipython-input-176237620.py:51: FutureWarning: YF.download() has changed argument auto_adjust default to True\n",
            "  data = yf.download(all_tickers, period=\"7d\", interval=\"5m\", group_by='ticker', threads=True)\n",
            "\r[                       0%                       ]"
          ]
        },
        {
          "name": "stdout",
          "output_type": "stream",
          "text": [
            "\n",
            "🕒 Running Screener at 2025-08-13 14:45:00 IST\n"
          ]
        },
        {
          "name": "stderr",
          "output_type": "stream",
          "text": [
            "[*********************100%***********************]  222 of 222 completed\n",
            "ERROR:yfinance:\n",
            "2 Failed downloads:\n",
            "ERROR:yfinance:['NIFTY.NS', 'BANKNIFTY.NS']: YFPricesMissingError('possibly delisted; no price data found  (period=7d) (Yahoo error = \"No data found, symbol may be delisted\")')\n"
          ]
        },
        {
          "name": "stdout",
          "output_type": "stream",
          "text": [
            "BANKNIFTY.NS: Not enough data after ATR, skipping\n",
            "NIFTY.NS: Not enough data after ATR, skipping\n"
          ]
        },
        {
          "name": "stderr",
          "output_type": "stream",
          "text": [
            "/tmp/ipython-input-176237620.py:138: SettingWithCopyWarning: \n",
            "A value is trying to be set on a copy of a slice from a DataFrame.\n",
            "Try using .loc[row_indexer,col_indexer] = value instead\n",
            "\n",
            "See the caveats in the documentation: https://pandas.pydata.org/pandas-docs/stable/user_guide/indexing.html#returning-a-view-versus-a-copy\n",
            "  result_df['Symbol'] = result_df['Ticker'].str.replace('.NS', '', regex=False).str.upper()\n"
          ]
        },
        {
          "name": "stdout",
          "output_type": "stream",
          "text": [
            "\n",
            "📌 Final Signals with Weekly View and My Thought:\n",
            "          Ticker        entry_time direction        entry   sl-m   weekly  \\\n",
            "0  APOLLOHOSP.NS  2025-08-13 14:45       BUY  7751.000000  19.93  Bullish   \n",
            "1      M&MFIN.NS  2025-08-13 14:45       BUY   260.399994   0.50  Neutral   \n",
            "2       ABFRL.NS  2025-08-13 14:45       BUY    75.379997   0.26      NaN   \n",
            "3         BSE.NS  2025-08-13 14:45       BUY  2494.000000   7.68      NaN   \n",
            "4    INDHOTEL.NS  2025-08-13 14:45       BUY   771.000000   1.44      NaN   \n",
            "\n",
            "                           my thought  \n",
            "0  see chart bearish englfing on week  \n",
            "1                               check  \n",
            "2                                 NaN  \n",
            "3                                 NaN  \n",
            "4                                 NaN  \n",
            "⏳ Waiting 280 seconds until next 5-min mark...\n",
            "\n"
          ]
        },
        {
          "name": "stderr",
          "output_type": "stream",
          "text": [
            "/tmp/ipython-input-176237620.py:51: FutureWarning: YF.download() has changed argument auto_adjust default to True\n",
            "  data = yf.download(all_tickers, period=\"7d\", interval=\"5m\", group_by='ticker', threads=True)\n",
            "\r[                       0%                       ]"
          ]
        },
        {
          "name": "stdout",
          "output_type": "stream",
          "text": [
            "\n",
            "🕒 Running Screener at 2025-08-13 14:50:00 IST\n"
          ]
        },
        {
          "name": "stderr",
          "output_type": "stream",
          "text": [
            "[*********************100%***********************]  222 of 222 completed\n",
            "ERROR:yfinance:\n",
            "2 Failed downloads:\n",
            "ERROR:yfinance:['NIFTY.NS', 'BANKNIFTY.NS']: YFPricesMissingError('possibly delisted; no price data found  (period=7d) (Yahoo error = \"No data found, symbol may be delisted\")')\n"
          ]
        },
        {
          "name": "stdout",
          "output_type": "stream",
          "text": [
            "BANKNIFTY.NS: Not enough data after ATR, skipping\n",
            "NIFTY.NS: Not enough data after ATR, skipping\n"
          ]
        },
        {
          "name": "stderr",
          "output_type": "stream",
          "text": [
            "/tmp/ipython-input-176237620.py:138: SettingWithCopyWarning: \n",
            "A value is trying to be set on a copy of a slice from a DataFrame.\n",
            "Try using .loc[row_indexer,col_indexer] = value instead\n",
            "\n",
            "See the caveats in the documentation: https://pandas.pydata.org/pandas-docs/stable/user_guide/indexing.html#returning-a-view-versus-a-copy\n",
            "  result_df['Symbol'] = result_df['Ticker'].str.replace('.NS', '', regex=False).str.upper()\n"
          ]
        },
        {
          "name": "stdout",
          "output_type": "stream",
          "text": [
            "\n",
            "📌 Final Signals with Weekly View and My Thought:\n",
            "          Ticker        entry_time direction        entry   sl-m   weekly  \\\n",
            "0  APOLLOHOSP.NS  2025-08-13 14:50       BUY  7762.000000  20.36  Bullish   \n",
            "1       IRCTC.NS  2025-08-13 14:50       BUY   727.549988   1.39  Neutral   \n",
            "2      M&MFIN.NS  2025-08-13 14:50       BUY   260.600006   0.49  Neutral   \n",
            "3    ANGELONE.NS  2025-08-13 14:50       BUY  2633.800049   8.09      NaN   \n",
            "4       DMART.NS  2025-08-13 14:50       BUY  4330.399902   9.06      NaN   \n",
            "\n",
            "                           my thought  \n",
            "0  see chart bearish englfing on week  \n",
            "1                               check  \n",
            "2                               check  \n",
            "3                                 NaN  \n",
            "4                                 NaN  \n",
            "⏳ Waiting 281 seconds until next 5-min mark...\n",
            "\n"
          ]
        },
        {
          "name": "stderr",
          "output_type": "stream",
          "text": [
            "/tmp/ipython-input-176237620.py:51: FutureWarning: YF.download() has changed argument auto_adjust default to True\n",
            "  data = yf.download(all_tickers, period=\"7d\", interval=\"5m\", group_by='ticker', threads=True)\n",
            "\r[                       0%                       ]"
          ]
        },
        {
          "name": "stdout",
          "output_type": "stream",
          "text": [
            "\n",
            "🕒 Running Screener at 2025-08-13 14:55:00 IST\n"
          ]
        },
        {
          "name": "stderr",
          "output_type": "stream",
          "text": [
            "[*********************100%***********************]  222 of 222 completed\n",
            "ERROR:yfinance:\n",
            "2 Failed downloads:\n",
            "ERROR:yfinance:['NIFTY.NS', 'BANKNIFTY.NS']: YFPricesMissingError('possibly delisted; no price data found  (period=7d) (Yahoo error = \"No data found, symbol may be delisted\")')\n"
          ]
        },
        {
          "name": "stdout",
          "output_type": "stream",
          "text": [
            "BANKNIFTY.NS: Not enough data after ATR, skipping\n",
            "NIFTY.NS: Not enough data after ATR, skipping\n"
          ]
        },
        {
          "name": "stderr",
          "output_type": "stream",
          "text": [
            "/tmp/ipython-input-176237620.py:138: SettingWithCopyWarning: \n",
            "A value is trying to be set on a copy of a slice from a DataFrame.\n",
            "Try using .loc[row_indexer,col_indexer] = value instead\n",
            "\n",
            "See the caveats in the documentation: https://pandas.pydata.org/pandas-docs/stable/user_guide/indexing.html#returning-a-view-versus-a-copy\n",
            "  result_df['Symbol'] = result_df['Ticker'].str.replace('.NS', '', regex=False).str.upper()\n"
          ]
        },
        {
          "name": "stdout",
          "output_type": "stream",
          "text": [
            "\n",
            "📌 Final Signals with Weekly View and My Thought:\n",
            "          Ticker        entry_time direction        entry   sl-m   weekly  \\\n",
            "0  APOLLOHOSP.NS  2025-08-13 14:55       BUY  7787.000000  21.54  Bullish   \n",
            "1        NMDC.NS  2025-08-13 14:55       BUY    72.839996   0.21      NaN   \n",
            "\n",
            "                           my thought  \n",
            "0  see chart bearish englfing on week  \n",
            "1                                 NaN  \n",
            "⏳ Waiting 279 seconds until next 5-min mark...\n",
            "\n",
            "\n",
            "🕒 Running Screener at 2025-08-13 15:00:00 IST\n"
          ]
        },
        {
          "name": "stderr",
          "output_type": "stream",
          "text": [
            "/tmp/ipython-input-176237620.py:51: FutureWarning: YF.download() has changed argument auto_adjust default to True\n",
            "  data = yf.download(all_tickers, period=\"7d\", interval=\"5m\", group_by='ticker', threads=True)\n",
            "[*********************100%***********************]  222 of 222 completed\n",
            "ERROR:yfinance:\n",
            "2 Failed downloads:\n",
            "ERROR:yfinance:['NIFTY.NS', 'BANKNIFTY.NS']: YFPricesMissingError('possibly delisted; no price data found  (period=7d) (Yahoo error = \"No data found, symbol may be delisted\")')\n"
          ]
        },
        {
          "name": "stdout",
          "output_type": "stream",
          "text": [
            "BANKNIFTY.NS: Not enough data after ATR, skipping\n",
            "NIFTY.NS: Not enough data after ATR, skipping\n"
          ]
        },
        {
          "name": "stderr",
          "output_type": "stream",
          "text": [
            "/tmp/ipython-input-176237620.py:138: SettingWithCopyWarning: \n",
            "A value is trying to be set on a copy of a slice from a DataFrame.\n",
            "Try using .loc[row_indexer,col_indexer] = value instead\n",
            "\n",
            "See the caveats in the documentation: https://pandas.pydata.org/pandas-docs/stable/user_guide/indexing.html#returning-a-view-versus-a-copy\n",
            "  result_df['Symbol'] = result_df['Ticker'].str.replace('.NS', '', regex=False).str.upper()\n"
          ]
        },
        {
          "name": "stdout",
          "output_type": "stream",
          "text": [
            "\n",
            "📌 Final Signals with Weekly View and My Thought:\n",
            "          Ticker        entry_time direction   entry   sl-m   weekly  \\\n",
            "0  APOLLOHOSP.NS  2025-08-13 15:00       BUY  7793.0  22.66  Bullish   \n",
            "\n",
            "                           my thought  \n",
            "0  see chart bearish englfing on week  \n",
            "⏳ Waiting 260 seconds until next 5-min mark...\n",
            "\n",
            "\n",
            "🕒 Running Screener at 2025-08-13 15:05:00 IST\n"
          ]
        },
        {
          "name": "stderr",
          "output_type": "stream",
          "text": [
            "/tmp/ipython-input-176237620.py:51: FutureWarning: YF.download() has changed argument auto_adjust default to True\n",
            "  data = yf.download(all_tickers, period=\"7d\", interval=\"5m\", group_by='ticker', threads=True)\n",
            "[*********************100%***********************]  222 of 222 completed\n",
            "ERROR:yfinance:\n",
            "2 Failed downloads:\n",
            "ERROR:yfinance:['NIFTY.NS', 'BANKNIFTY.NS']: YFPricesMissingError('possibly delisted; no price data found  (period=7d) (Yahoo error = \"No data found, symbol may be delisted\")')\n"
          ]
        },
        {
          "name": "stdout",
          "output_type": "stream",
          "text": [
            "BANKNIFTY.NS: Not enough data after ATR, skipping\n",
            "NIFTY.NS: Not enough data after ATR, skipping\n"
          ]
        },
        {
          "name": "stderr",
          "output_type": "stream",
          "text": [
            "/tmp/ipython-input-176237620.py:138: SettingWithCopyWarning: \n",
            "A value is trying to be set on a copy of a slice from a DataFrame.\n",
            "Try using .loc[row_indexer,col_indexer] = value instead\n",
            "\n",
            "See the caveats in the documentation: https://pandas.pydata.org/pandas-docs/stable/user_guide/indexing.html#returning-a-view-versus-a-copy\n",
            "  result_df['Symbol'] = result_df['Ticker'].str.replace('.NS', '', regex=False).str.upper()\n"
          ]
        },
        {
          "name": "stdout",
          "output_type": "stream",
          "text": [
            "\n",
            "📌 Final Signals with Weekly View and My Thought:\n",
            "     Ticker        entry_time direction   entry   sl-m   weekly  \\\n",
            "0  ALKEM.NS  2025-08-13 15:05       BUY  5397.5  12.54  Bearish   \n",
            "\n",
            "            my thought  \n",
            "0  if negative take it  \n",
            "⏳ Waiting 263 seconds until next 5-min mark...\n",
            "\n"
          ]
        },
        {
          "name": "stderr",
          "output_type": "stream",
          "text": [
            "/tmp/ipython-input-176237620.py:51: FutureWarning: YF.download() has changed argument auto_adjust default to True\n",
            "  data = yf.download(all_tickers, period=\"7d\", interval=\"5m\", group_by='ticker', threads=True)\n",
            "\r[                       0%                       ]"
          ]
        },
        {
          "name": "stdout",
          "output_type": "stream",
          "text": [
            "\n",
            "🕒 Running Screener at 2025-08-13 15:10:00 IST\n"
          ]
        },
        {
          "name": "stderr",
          "output_type": "stream",
          "text": [
            "[*********************100%***********************]  222 of 222 completed\n",
            "ERROR:yfinance:\n",
            "2 Failed downloads:\n",
            "ERROR:yfinance:['NIFTY.NS', 'BANKNIFTY.NS']: YFPricesMissingError('possibly delisted; no price data found  (period=7d) (Yahoo error = \"No data found, symbol may be delisted\")')\n"
          ]
        },
        {
          "name": "stdout",
          "output_type": "stream",
          "text": [
            "BANKNIFTY.NS: Not enough data after ATR, skipping\n",
            "NIFTY.NS: Not enough data after ATR, skipping\n"
          ]
        },
        {
          "name": "stderr",
          "output_type": "stream",
          "text": [
            "/tmp/ipython-input-176237620.py:138: SettingWithCopyWarning: \n",
            "A value is trying to be set on a copy of a slice from a DataFrame.\n",
            "Try using .loc[row_indexer,col_indexer] = value instead\n",
            "\n",
            "See the caveats in the documentation: https://pandas.pydata.org/pandas-docs/stable/user_guide/indexing.html#returning-a-view-versus-a-copy\n",
            "  result_df['Symbol'] = result_df['Ticker'].str.replace('.NS', '', regex=False).str.upper()\n"
          ]
        },
        {
          "name": "stdout",
          "output_type": "stream",
          "text": [
            "\n",
            "📌 Final Signals with Weekly View and My Thought:\n",
            "          Ticker        entry_time direction        entry   sl-m   weekly  \\\n",
            "0  APOLLOHOSP.NS  2025-08-13 15:10       BUY  7799.500000  23.41  Bullish   \n",
            "1        SAIL.NS  2025-08-13 15:10       BUY   124.150002   0.36      NaN   \n",
            "\n",
            "                           my thought  \n",
            "0  see chart bearish englfing on week  \n",
            "1                                 NaN  \n",
            "⏳ Waiting 284 seconds until next 5-min mark...\n",
            "\n",
            "\n",
            "🕒 Running Screener at 2025-08-13 15:15:00 IST\n"
          ]
        },
        {
          "name": "stderr",
          "output_type": "stream",
          "text": [
            "/tmp/ipython-input-176237620.py:51: FutureWarning: YF.download() has changed argument auto_adjust default to True\n",
            "  data = yf.download(all_tickers, period=\"7d\", interval=\"5m\", group_by='ticker', threads=True)\n",
            "[*********************100%***********************]  222 of 222 completed\n",
            "ERROR:yfinance:\n",
            "2 Failed downloads:\n",
            "ERROR:yfinance:['NIFTY.NS', 'BANKNIFTY.NS']: YFPricesMissingError('possibly delisted; no price data found  (period=7d) (Yahoo error = \"No data found, symbol may be delisted\")')\n"
          ]
        },
        {
          "name": "stdout",
          "output_type": "stream",
          "text": [
            "BANKNIFTY.NS: Not enough data after ATR, skipping\n",
            "NIFTY.NS: Not enough data after ATR, skipping\n"
          ]
        },
        {
          "name": "stderr",
          "output_type": "stream",
          "text": [
            "/tmp/ipython-input-176237620.py:138: SettingWithCopyWarning: \n",
            "A value is trying to be set on a copy of a slice from a DataFrame.\n",
            "Try using .loc[row_indexer,col_indexer] = value instead\n",
            "\n",
            "See the caveats in the documentation: https://pandas.pydata.org/pandas-docs/stable/user_guide/indexing.html#returning-a-view-versus-a-copy\n",
            "  result_df['Symbol'] = result_df['Ticker'].str.replace('.NS', '', regex=False).str.upper()\n"
          ]
        },
        {
          "name": "stdout",
          "output_type": "stream",
          "text": [
            "\n",
            "📌 Final Signals with Weekly View and My Thought:\n",
            "          Ticker        entry_time direction   entry   sl-m   weekly  \\\n",
            "0  APOLLOHOSP.NS  2025-08-13 15:15       BUY  7800.5  22.93  Bullish   \n",
            "1       DMART.NS  2025-08-13 15:15       BUY  4338.0   9.53      NaN   \n",
            "2     DRREDDY.NS  2025-08-13 15:15       BUY  1255.0   3.02      NaN   \n",
            "\n",
            "                           my thought  \n",
            "0  see chart bearish englfing on week  \n",
            "1                                 NaN  \n",
            "2                                 NaN  \n",
            "⏳ Waiting 282 seconds until next 5-min mark...\n",
            "\n"
          ]
        },
        {
          "name": "stderr",
          "output_type": "stream",
          "text": [
            "/tmp/ipython-input-176237620.py:51: FutureWarning: YF.download() has changed argument auto_adjust default to True\n",
            "  data = yf.download(all_tickers, period=\"7d\", interval=\"5m\", group_by='ticker', threads=True)\n",
            "\r[                       0%                       ]"
          ]
        },
        {
          "name": "stdout",
          "output_type": "stream",
          "text": [
            "\n",
            "🕒 Running Screener at 2025-08-13 15:20:00 IST\n"
          ]
        },
        {
          "name": "stderr",
          "output_type": "stream",
          "text": [
            "[*********************100%***********************]  222 of 222 completed\n",
            "ERROR:yfinance:\n",
            "2 Failed downloads:\n",
            "ERROR:yfinance:['NIFTY.NS', 'BANKNIFTY.NS']: YFPricesMissingError('possibly delisted; no price data found  (period=7d) (Yahoo error = \"No data found, symbol may be delisted\")')\n"
          ]
        },
        {
          "name": "stdout",
          "output_type": "stream",
          "text": [
            "BANKNIFTY.NS: Not enough data after ATR, skipping\n",
            "NIFTY.NS: Not enough data after ATR, skipping\n"
          ]
        },
        {
          "name": "stderr",
          "output_type": "stream",
          "text": [
            "/tmp/ipython-input-176237620.py:138: SettingWithCopyWarning: \n",
            "A value is trying to be set on a copy of a slice from a DataFrame.\n",
            "Try using .loc[row_indexer,col_indexer] = value instead\n",
            "\n",
            "See the caveats in the documentation: https://pandas.pydata.org/pandas-docs/stable/user_guide/indexing.html#returning-a-view-versus-a-copy\n",
            "  result_df['Symbol'] = result_df['Ticker'].str.replace('.NS', '', regex=False).str.upper()\n"
          ]
        },
        {
          "name": "stdout",
          "output_type": "stream",
          "text": [
            "\n",
            "📌 Final Signals with Weekly View and My Thought:\n",
            "          Ticker        entry_time direction        entry   sl-m   weekly  \\\n",
            "0  APOLLOHOSP.NS  2025-08-13 15:20       BUY  7824.500000  24.11  Bullish   \n",
            "1       IRCTC.NS  2025-08-13 15:20       BUY   727.950012   1.87  Neutral   \n",
            "2    ANGELONE.NS  2025-08-13 15:20       BUY  2634.399902   6.89      NaN   \n",
            "3         BSE.NS  2025-08-13 15:20       BUY  2500.000000   7.46      NaN   \n",
            "4        SAIL.NS  2025-08-13 15:20       BUY   124.550003   0.43      NaN   \n",
            "\n",
            "                           my thought  \n",
            "0  see chart bearish englfing on week  \n",
            "1                               check  \n",
            "2                                 NaN  \n",
            "3                                 NaN  \n",
            "4                                 NaN  \n",
            "⏳ Waiting 281 seconds until next 5-min mark...\n",
            "\n"
          ]
        },
        {
          "name": "stderr",
          "output_type": "stream",
          "text": [
            "/tmp/ipython-input-176237620.py:51: FutureWarning: YF.download() has changed argument auto_adjust default to True\n",
            "  data = yf.download(all_tickers, period=\"7d\", interval=\"5m\", group_by='ticker', threads=True)\n",
            "\r[                       0%                       ]"
          ]
        },
        {
          "name": "stdout",
          "output_type": "stream",
          "text": [
            "\n",
            "🕒 Running Screener at 2025-08-13 15:25:00 IST\n"
          ]
        },
        {
          "name": "stderr",
          "output_type": "stream",
          "text": [
            "[*********************100%***********************]  222 of 222 completed\n",
            "ERROR:yfinance:\n",
            "2 Failed downloads:\n",
            "ERROR:yfinance:['NIFTY.NS', 'BANKNIFTY.NS']: YFPricesMissingError('possibly delisted; no price data found  (period=7d) (Yahoo error = \"No data found, symbol may be delisted\")')\n"
          ]
        },
        {
          "name": "stdout",
          "output_type": "stream",
          "text": [
            "BANKNIFTY.NS: Not enough data after ATR, skipping\n",
            "NIFTY.NS: Not enough data after ATR, skipping\n"
          ]
        },
        {
          "name": "stderr",
          "output_type": "stream",
          "text": [
            "/tmp/ipython-input-176237620.py:138: SettingWithCopyWarning: \n",
            "A value is trying to be set on a copy of a slice from a DataFrame.\n",
            "Try using .loc[row_indexer,col_indexer] = value instead\n",
            "\n",
            "See the caveats in the documentation: https://pandas.pydata.org/pandas-docs/stable/user_guide/indexing.html#returning-a-view-versus-a-copy\n",
            "  result_df['Symbol'] = result_df['Ticker'].str.replace('.NS', '', regex=False).str.upper()\n"
          ]
        },
        {
          "name": "stdout",
          "output_type": "stream",
          "text": [
            "\n",
            "📌 Final Signals with Weekly View and My Thought:\n",
            "          Ticker        entry_time direction        entry  sl-m   weekly  \\\n",
            "0       IRCTC.NS  2025-08-13 15:25       BUY   728.400024  1.94  Neutral   \n",
            "1  PIDILITIND.NS  2025-08-13 15:25      SELL  3055.199951  5.61      NaN   \n",
            "\n",
            "  my thought  \n",
            "0      check  \n",
            "1        NaN  \n",
            "⏳ Waiting 282 seconds until next 5-min mark...\n",
            "\n"
          ]
        },
        {
          "name": "stderr",
          "output_type": "stream",
          "text": [
            "/tmp/ipython-input-176237620.py:51: FutureWarning: YF.download() has changed argument auto_adjust default to True\n",
            "  data = yf.download(all_tickers, period=\"7d\", interval=\"5m\", group_by='ticker', threads=True)\n",
            "\r[                       0%                       ]"
          ]
        },
        {
          "name": "stdout",
          "output_type": "stream",
          "text": [
            "\n",
            "🕒 Running Screener at 2025-08-13 15:30:00 IST\n"
          ]
        },
        {
          "name": "stderr",
          "output_type": "stream",
          "text": [
            "[*********************100%***********************]  222 of 222 completed\n",
            "ERROR:yfinance:\n",
            "2 Failed downloads:\n",
            "ERROR:yfinance:['NIFTY.NS', 'BANKNIFTY.NS']: YFPricesMissingError('possibly delisted; no price data found  (period=7d) (Yahoo error = \"No data found, symbol may be delisted\")')\n"
          ]
        },
        {
          "name": "stdout",
          "output_type": "stream",
          "text": [
            "BANKNIFTY.NS: Not enough data after ATR, skipping\n",
            "NIFTY.NS: Not enough data after ATR, skipping\n"
          ]
        },
        {
          "name": "stderr",
          "output_type": "stream",
          "text": [
            "/tmp/ipython-input-176237620.py:138: SettingWithCopyWarning: \n",
            "A value is trying to be set on a copy of a slice from a DataFrame.\n",
            "Try using .loc[row_indexer,col_indexer] = value instead\n",
            "\n",
            "See the caveats in the documentation: https://pandas.pydata.org/pandas-docs/stable/user_guide/indexing.html#returning-a-view-versus-a-copy\n",
            "  result_df['Symbol'] = result_df['Ticker'].str.replace('.NS', '', regex=False).str.upper()\n"
          ]
        },
        {
          "name": "stdout",
          "output_type": "stream",
          "text": [
            "\n",
            "📌 Final Signals with Weekly View and My Thought:\n",
            "        Ticker        entry_time direction        entry  sl-m   weekly  \\\n",
            "0     IRCTC.NS  2025-08-13 15:30       BUY   728.900024  2.00  Neutral   \n",
            "1  UNITDSPR.NS  2025-08-13 15:30       BUY  1307.500000  2.31      NaN   \n",
            "\n",
            "  my thought  \n",
            "0      check  \n",
            "1        NaN  \n",
            "⏳ Waiting 281 seconds until next 5-min mark...\n",
            "\n"
          ]
        },
        {
          "name": "stderr",
          "output_type": "stream",
          "text": [
            "/tmp/ipython-input-176237620.py:51: FutureWarning: YF.download() has changed argument auto_adjust default to True\n",
            "  data = yf.download(all_tickers, period=\"7d\", interval=\"5m\", group_by='ticker', threads=True)\n",
            "\r[                       0%                       ]"
          ]
        },
        {
          "name": "stdout",
          "output_type": "stream",
          "text": [
            "\n",
            "🕒 Running Screener at 2025-08-13 15:35:00 IST\n"
          ]
        },
        {
          "name": "stderr",
          "output_type": "stream",
          "text": [
            "[*********************100%***********************]  222 of 222 completed\n",
            "ERROR:yfinance:\n",
            "2 Failed downloads:\n",
            "ERROR:yfinance:['NIFTY.NS', 'BANKNIFTY.NS']: YFPricesMissingError('possibly delisted; no price data found  (period=7d) (Yahoo error = \"No data found, symbol may be delisted\")')\n"
          ]
        },
        {
          "name": "stdout",
          "output_type": "stream",
          "text": [
            "BANKNIFTY.NS: Not enough data after ATR, skipping\n",
            "NIFTY.NS: Not enough data after ATR, skipping\n"
          ]
        },
        {
          "name": "stderr",
          "output_type": "stream",
          "text": [
            "/tmp/ipython-input-176237620.py:138: SettingWithCopyWarning: \n",
            "A value is trying to be set on a copy of a slice from a DataFrame.\n",
            "Try using .loc[row_indexer,col_indexer] = value instead\n",
            "\n",
            "See the caveats in the documentation: https://pandas.pydata.org/pandas-docs/stable/user_guide/indexing.html#returning-a-view-versus-a-copy\n",
            "  result_df['Symbol'] = result_df['Ticker'].str.replace('.NS', '', regex=False).str.upper()\n"
          ]
        },
        {
          "name": "stdout",
          "output_type": "stream",
          "text": [
            "\n",
            "📌 Final Signals with Weekly View and My Thought:\n",
            "          Ticker        entry_time direction        entry  sl-m   weekly  \\\n",
            "0  LAURUSLABS.NS  2025-08-13 15:35       BUY   865.900024  2.56  Bullish   \n",
            "1       IRCTC.NS  2025-08-13 15:35       BUY   728.900024  2.00  Neutral   \n",
            "2    UNITDSPR.NS  2025-08-13 15:35       BUY  1307.500000  2.31      NaN   \n",
            "\n",
            "     my thought  \n",
            "0  full bullish  \n",
            "1         check  \n",
            "2           NaN  \n",
            "⏳ Waiting 278 seconds until next 5-min mark...\n",
            "\n",
            "\n",
            "🕒 Running Screener at 2025-08-13 15:40:00 IST\n"
          ]
        },
        {
          "name": "stderr",
          "output_type": "stream",
          "text": [
            "/tmp/ipython-input-176237620.py:51: FutureWarning: YF.download() has changed argument auto_adjust default to True\n",
            "  data = yf.download(all_tickers, period=\"7d\", interval=\"5m\", group_by='ticker', threads=True)\n",
            "[*********************100%***********************]  222 of 222 completed\n",
            "ERROR:yfinance:\n",
            "2 Failed downloads:\n",
            "ERROR:yfinance:['NIFTY.NS', 'BANKNIFTY.NS']: YFPricesMissingError('possibly delisted; no price data found  (period=7d) (Yahoo error = \"No data found, symbol may be delisted\")')\n"
          ]
        },
        {
          "name": "stdout",
          "output_type": "stream",
          "text": [
            "BANKNIFTY.NS: Not enough data after ATR, skipping\n",
            "NIFTY.NS: Not enough data after ATR, skipping\n"
          ]
        },
        {
          "name": "stderr",
          "output_type": "stream",
          "text": [
            "/tmp/ipython-input-176237620.py:138: SettingWithCopyWarning: \n",
            "A value is trying to be set on a copy of a slice from a DataFrame.\n",
            "Try using .loc[row_indexer,col_indexer] = value instead\n",
            "\n",
            "See the caveats in the documentation: https://pandas.pydata.org/pandas-docs/stable/user_guide/indexing.html#returning-a-view-versus-a-copy\n",
            "  result_df['Symbol'] = result_df['Ticker'].str.replace('.NS', '', regex=False).str.upper()\n"
          ]
        },
        {
          "name": "stdout",
          "output_type": "stream",
          "text": [
            "\n",
            "📌 Final Signals with Weekly View and My Thought:\n",
            "          Ticker        entry_time direction        entry  sl-m   weekly  \\\n",
            "0  LAURUSLABS.NS  2025-08-13 15:40       BUY   865.900024  2.56  Bullish   \n",
            "1       IRCTC.NS  2025-08-13 15:40       BUY   728.900024  2.00  Neutral   \n",
            "2    UNITDSPR.NS  2025-08-13 15:40       BUY  1307.500000  2.31      NaN   \n",
            "\n",
            "     my thought  \n",
            "0  full bullish  \n",
            "1         check  \n",
            "2           NaN  \n",
            "⏳ Waiting 280 seconds until next 5-min mark...\n",
            "\n"
          ]
        },
        {
          "name": "stderr",
          "output_type": "stream",
          "text": [
            "/tmp/ipython-input-176237620.py:51: FutureWarning: YF.download() has changed argument auto_adjust default to True\n",
            "  data = yf.download(all_tickers, period=\"7d\", interval=\"5m\", group_by='ticker', threads=True)\n",
            "\r[                       0%                       ]"
          ]
        },
        {
          "name": "stdout",
          "output_type": "stream",
          "text": [
            "\n",
            "🕒 Running Screener at 2025-08-13 15:45:00 IST\n"
          ]
        },
        {
          "name": "stderr",
          "output_type": "stream",
          "text": [
            "[*********************100%***********************]  222 of 222 completed\n",
            "ERROR:yfinance:\n",
            "2 Failed downloads:\n",
            "ERROR:yfinance:['NIFTY.NS', 'BANKNIFTY.NS']: YFPricesMissingError('possibly delisted; no price data found  (period=7d) (Yahoo error = \"No data found, symbol may be delisted\")')\n"
          ]
        },
        {
          "name": "stdout",
          "output_type": "stream",
          "text": [
            "BANKNIFTY.NS: Not enough data after ATR, skipping\n",
            "NIFTY.NS: Not enough data after ATR, skipping\n"
          ]
        },
        {
          "name": "stderr",
          "output_type": "stream",
          "text": [
            "/tmp/ipython-input-176237620.py:138: SettingWithCopyWarning: \n",
            "A value is trying to be set on a copy of a slice from a DataFrame.\n",
            "Try using .loc[row_indexer,col_indexer] = value instead\n",
            "\n",
            "See the caveats in the documentation: https://pandas.pydata.org/pandas-docs/stable/user_guide/indexing.html#returning-a-view-versus-a-copy\n",
            "  result_df['Symbol'] = result_df['Ticker'].str.replace('.NS', '', regex=False).str.upper()\n"
          ]
        },
        {
          "name": "stdout",
          "output_type": "stream",
          "text": [
            "\n",
            "📌 Final Signals with Weekly View and My Thought:\n",
            "          Ticker        entry_time direction        entry  sl-m   weekly  \\\n",
            "0  LAURUSLABS.NS  2025-08-13 15:45       BUY   865.900024  2.56  Bullish   \n",
            "1       IRCTC.NS  2025-08-13 15:45       BUY   728.900024  2.00  Neutral   \n",
            "2    UNITDSPR.NS  2025-08-13 15:45       BUY  1307.500000  2.31      NaN   \n",
            "\n",
            "     my thought  \n",
            "0  full bullish  \n",
            "1         check  \n",
            "2           NaN  \n",
            "⏳ Waiting 280 seconds until next 5-min mark...\n",
            "\n"
          ]
        },
        {
          "name": "stderr",
          "output_type": "stream",
          "text": [
            "/tmp/ipython-input-176237620.py:51: FutureWarning: YF.download() has changed argument auto_adjust default to True\n",
            "  data = yf.download(all_tickers, period=\"7d\", interval=\"5m\", group_by='ticker', threads=True)\n",
            "\r[                       0%                       ]"
          ]
        },
        {
          "name": "stdout",
          "output_type": "stream",
          "text": [
            "\n",
            "🕒 Running Screener at 2025-08-13 15:50:00 IST\n"
          ]
        },
        {
          "name": "stderr",
          "output_type": "stream",
          "text": [
            "[*********************100%***********************]  222 of 222 completed\n",
            "ERROR:yfinance:\n",
            "2 Failed downloads:\n",
            "ERROR:yfinance:['NIFTY.NS', 'BANKNIFTY.NS']: YFPricesMissingError('possibly delisted; no price data found  (period=7d) (Yahoo error = \"No data found, symbol may be delisted\")')\n"
          ]
        },
        {
          "name": "stdout",
          "output_type": "stream",
          "text": [
            "BANKNIFTY.NS: Not enough data after ATR, skipping\n",
            "NIFTY.NS: Not enough data after ATR, skipping\n"
          ]
        },
        {
          "name": "stderr",
          "output_type": "stream",
          "text": [
            "/tmp/ipython-input-176237620.py:138: SettingWithCopyWarning: \n",
            "A value is trying to be set on a copy of a slice from a DataFrame.\n",
            "Try using .loc[row_indexer,col_indexer] = value instead\n",
            "\n",
            "See the caveats in the documentation: https://pandas.pydata.org/pandas-docs/stable/user_guide/indexing.html#returning-a-view-versus-a-copy\n",
            "  result_df['Symbol'] = result_df['Ticker'].str.replace('.NS', '', regex=False).str.upper()\n"
          ]
        },
        {
          "name": "stdout",
          "output_type": "stream",
          "text": [
            "\n",
            "📌 Final Signals with Weekly View and My Thought:\n",
            "          Ticker        entry_time direction        entry  sl-m   weekly  \\\n",
            "0  LAURUSLABS.NS  2025-08-13 15:50       BUY   865.900024  2.56  Bullish   \n",
            "1       IRCTC.NS  2025-08-13 15:50       BUY   728.900024  2.00  Neutral   \n",
            "2    UNITDSPR.NS  2025-08-13 15:50       BUY  1307.500000  2.31      NaN   \n",
            "\n",
            "     my thought  \n",
            "0  full bullish  \n",
            "1         check  \n",
            "2           NaN  \n",
            "⏳ Waiting 281 seconds until next 5-min mark...\n",
            "\n"
          ]
        },
        {
          "name": "stderr",
          "output_type": "stream",
          "text": [
            "/tmp/ipython-input-176237620.py:51: FutureWarning: YF.download() has changed argument auto_adjust default to True\n",
            "  data = yf.download(all_tickers, period=\"7d\", interval=\"5m\", group_by='ticker', threads=True)\n",
            "\r[                       0%                       ]"
          ]
        },
        {
          "name": "stdout",
          "output_type": "stream",
          "text": [
            "\n",
            "🕒 Running Screener at 2025-08-13 15:55:00 IST\n"
          ]
        },
        {
          "name": "stderr",
          "output_type": "stream",
          "text": [
            "[*********************100%***********************]  222 of 222 completed\n",
            "ERROR:yfinance:\n",
            "2 Failed downloads:\n",
            "ERROR:yfinance:['NIFTY.NS', 'BANKNIFTY.NS']: YFPricesMissingError('possibly delisted; no price data found  (period=7d) (Yahoo error = \"No data found, symbol may be delisted\")')\n"
          ]
        },
        {
          "name": "stdout",
          "output_type": "stream",
          "text": [
            "BANKNIFTY.NS: Not enough data after ATR, skipping\n",
            "NIFTY.NS: Not enough data after ATR, skipping\n"
          ]
        },
        {
          "name": "stderr",
          "output_type": "stream",
          "text": [
            "/tmp/ipython-input-176237620.py:138: SettingWithCopyWarning: \n",
            "A value is trying to be set on a copy of a slice from a DataFrame.\n",
            "Try using .loc[row_indexer,col_indexer] = value instead\n",
            "\n",
            "See the caveats in the documentation: https://pandas.pydata.org/pandas-docs/stable/user_guide/indexing.html#returning-a-view-versus-a-copy\n",
            "  result_df['Symbol'] = result_df['Ticker'].str.replace('.NS', '', regex=False).str.upper()\n"
          ]
        },
        {
          "name": "stdout",
          "output_type": "stream",
          "text": [
            "\n",
            "📌 Final Signals with Weekly View and My Thought:\n",
            "          Ticker        entry_time direction        entry  sl-m   weekly  \\\n",
            "0  LAURUSLABS.NS  2025-08-13 15:55       BUY   865.900024  2.56  Bullish   \n",
            "1       IRCTC.NS  2025-08-13 15:55       BUY   728.900024  2.00  Neutral   \n",
            "2    UNITDSPR.NS  2025-08-13 15:55       BUY  1307.500000  2.31      NaN   \n",
            "\n",
            "     my thought  \n",
            "0  full bullish  \n",
            "1         check  \n",
            "2           NaN  \n",
            "⏳ Waiting 283 seconds until next 5-min mark...\n",
            "\n"
          ]
        },
        {
          "name": "stderr",
          "output_type": "stream",
          "text": [
            "/tmp/ipython-input-176237620.py:51: FutureWarning: YF.download() has changed argument auto_adjust default to True\n",
            "  data = yf.download(all_tickers, period=\"7d\", interval=\"5m\", group_by='ticker', threads=True)\n",
            "\r[                       0%                       ]"
          ]
        },
        {
          "name": "stdout",
          "output_type": "stream",
          "text": [
            "\n",
            "🕒 Running Screener at 2025-08-13 16:00:00 IST\n"
          ]
        },
        {
          "name": "stderr",
          "output_type": "stream",
          "text": [
            "[*********************100%***********************]  222 of 222 completed\n",
            "ERROR:yfinance:\n",
            "2 Failed downloads:\n",
            "ERROR:yfinance:['NIFTY.NS', 'BANKNIFTY.NS']: YFPricesMissingError('possibly delisted; no price data found  (period=7d) (Yahoo error = \"No data found, symbol may be delisted\")')\n"
          ]
        },
        {
          "name": "stdout",
          "output_type": "stream",
          "text": [
            "BANKNIFTY.NS: Not enough data after ATR, skipping\n",
            "NIFTY.NS: Not enough data after ATR, skipping\n"
          ]
        },
        {
          "name": "stderr",
          "output_type": "stream",
          "text": [
            "/tmp/ipython-input-176237620.py:138: SettingWithCopyWarning: \n",
            "A value is trying to be set on a copy of a slice from a DataFrame.\n",
            "Try using .loc[row_indexer,col_indexer] = value instead\n",
            "\n",
            "See the caveats in the documentation: https://pandas.pydata.org/pandas-docs/stable/user_guide/indexing.html#returning-a-view-versus-a-copy\n",
            "  result_df['Symbol'] = result_df['Ticker'].str.replace('.NS', '', regex=False).str.upper()\n"
          ]
        },
        {
          "name": "stdout",
          "output_type": "stream",
          "text": [
            "\n",
            "📌 Final Signals with Weekly View and My Thought:\n",
            "          Ticker        entry_time direction        entry  sl-m   weekly  \\\n",
            "0  LAURUSLABS.NS  2025-08-13 16:00       BUY   865.900024  2.56  Bullish   \n",
            "1       IRCTC.NS  2025-08-13 16:00       BUY   728.900024  2.00  Neutral   \n",
            "2    UNITDSPR.NS  2025-08-13 16:00       BUY  1307.500000  2.31      NaN   \n",
            "\n",
            "     my thought  \n",
            "0  full bullish  \n",
            "1         check  \n",
            "2           NaN  \n",
            "⏳ Waiting 280 seconds until next 5-min mark...\n",
            "\n"
          ]
        },
        {
          "name": "stderr",
          "output_type": "stream",
          "text": [
            "/tmp/ipython-input-176237620.py:51: FutureWarning: YF.download() has changed argument auto_adjust default to True\n",
            "  data = yf.download(all_tickers, period=\"7d\", interval=\"5m\", group_by='ticker', threads=True)\n",
            "\r[                       0%                       ]"
          ]
        },
        {
          "name": "stdout",
          "output_type": "stream",
          "text": [
            "\n",
            "🕒 Running Screener at 2025-08-13 16:05:00 IST\n"
          ]
        },
        {
          "name": "stderr",
          "output_type": "stream",
          "text": [
            "[*********************100%***********************]  222 of 222 completed\n",
            "ERROR:yfinance:\n",
            "2 Failed downloads:\n",
            "ERROR:yfinance:['NIFTY.NS', 'BANKNIFTY.NS']: YFPricesMissingError('possibly delisted; no price data found  (period=7d) (Yahoo error = \"No data found, symbol may be delisted\")')\n"
          ]
        },
        {
          "name": "stdout",
          "output_type": "stream",
          "text": [
            "BANKNIFTY.NS: Not enough data after ATR, skipping\n",
            "NIFTY.NS: Not enough data after ATR, skipping\n"
          ]
        },
        {
          "name": "stderr",
          "output_type": "stream",
          "text": [
            "/tmp/ipython-input-176237620.py:138: SettingWithCopyWarning: \n",
            "A value is trying to be set on a copy of a slice from a DataFrame.\n",
            "Try using .loc[row_indexer,col_indexer] = value instead\n",
            "\n",
            "See the caveats in the documentation: https://pandas.pydata.org/pandas-docs/stable/user_guide/indexing.html#returning-a-view-versus-a-copy\n",
            "  result_df['Symbol'] = result_df['Ticker'].str.replace('.NS', '', regex=False).str.upper()\n"
          ]
        },
        {
          "name": "stdout",
          "output_type": "stream",
          "text": [
            "\n",
            "📌 Final Signals with Weekly View and My Thought:\n",
            "          Ticker        entry_time direction        entry  sl-m   weekly  \\\n",
            "0  LAURUSLABS.NS  2025-08-13 16:05       BUY   865.900024  2.56  Bullish   \n",
            "1       IRCTC.NS  2025-08-13 16:05       BUY   728.900024  2.00  Neutral   \n",
            "2    UNITDSPR.NS  2025-08-13 16:05       BUY  1307.500000  2.31      NaN   \n",
            "\n",
            "     my thought  \n",
            "0  full bullish  \n",
            "1         check  \n",
            "2           NaN  \n",
            "⏳ Waiting 282 seconds until next 5-min mark...\n",
            "\n"
          ]
        },
        {
          "name": "stderr",
          "output_type": "stream",
          "text": [
            "/tmp/ipython-input-176237620.py:51: FutureWarning: YF.download() has changed argument auto_adjust default to True\n",
            "  data = yf.download(all_tickers, period=\"7d\", interval=\"5m\", group_by='ticker', threads=True)\n",
            "\r[                       0%                       ]"
          ]
        },
        {
          "name": "stdout",
          "output_type": "stream",
          "text": [
            "\n",
            "🕒 Running Screener at 2025-08-13 16:10:00 IST\n"
          ]
        },
        {
          "name": "stderr",
          "output_type": "stream",
          "text": [
            "[*********************100%***********************]  222 of 222 completed\n",
            "ERROR:yfinance:\n",
            "2 Failed downloads:\n",
            "ERROR:yfinance:['NIFTY.NS', 'BANKNIFTY.NS']: YFPricesMissingError('possibly delisted; no price data found  (period=7d) (Yahoo error = \"No data found, symbol may be delisted\")')\n"
          ]
        },
        {
          "name": "stdout",
          "output_type": "stream",
          "text": [
            "BANKNIFTY.NS: Not enough data after ATR, skipping\n",
            "NIFTY.NS: Not enough data after ATR, skipping\n"
          ]
        },
        {
          "name": "stderr",
          "output_type": "stream",
          "text": [
            "/tmp/ipython-input-176237620.py:138: SettingWithCopyWarning: \n",
            "A value is trying to be set on a copy of a slice from a DataFrame.\n",
            "Try using .loc[row_indexer,col_indexer] = value instead\n",
            "\n",
            "See the caveats in the documentation: https://pandas.pydata.org/pandas-docs/stable/user_guide/indexing.html#returning-a-view-versus-a-copy\n",
            "  result_df['Symbol'] = result_df['Ticker'].str.replace('.NS', '', regex=False).str.upper()\n"
          ]
        },
        {
          "name": "stdout",
          "output_type": "stream",
          "text": [
            "\n",
            "📌 Final Signals with Weekly View and My Thought:\n",
            "          Ticker        entry_time direction        entry  sl-m   weekly  \\\n",
            "0  LAURUSLABS.NS  2025-08-13 16:10       BUY   865.900024  2.56  Bullish   \n",
            "1       IRCTC.NS  2025-08-13 16:10       BUY   728.900024  2.00  Neutral   \n",
            "2    UNITDSPR.NS  2025-08-13 16:10       BUY  1307.500000  2.31      NaN   \n",
            "\n",
            "     my thought  \n",
            "0  full bullish  \n",
            "1         check  \n",
            "2           NaN  \n",
            "⏳ Waiting 277 seconds until next 5-min mark...\n",
            "\n"
          ]
        },
        {
          "name": "stderr",
          "output_type": "stream",
          "text": [
            "/tmp/ipython-input-176237620.py:51: FutureWarning: YF.download() has changed argument auto_adjust default to True\n",
            "  data = yf.download(all_tickers, period=\"7d\", interval=\"5m\", group_by='ticker', threads=True)\n",
            "\r[                       0%                       ]"
          ]
        },
        {
          "name": "stdout",
          "output_type": "stream",
          "text": [
            "\n",
            "🕒 Running Screener at 2025-08-13 16:15:00 IST\n"
          ]
        },
        {
          "name": "stderr",
          "output_type": "stream",
          "text": [
            "[*********************100%***********************]  222 of 222 completed\n",
            "ERROR:yfinance:\n",
            "2 Failed downloads:\n",
            "ERROR:yfinance:['NIFTY.NS', 'BANKNIFTY.NS']: YFPricesMissingError('possibly delisted; no price data found  (period=7d) (Yahoo error = \"No data found, symbol may be delisted\")')\n"
          ]
        },
        {
          "name": "stdout",
          "output_type": "stream",
          "text": [
            "BANKNIFTY.NS: Not enough data after ATR, skipping\n",
            "NIFTY.NS: Not enough data after ATR, skipping\n"
          ]
        },
        {
          "name": "stderr",
          "output_type": "stream",
          "text": [
            "/tmp/ipython-input-176237620.py:138: SettingWithCopyWarning: \n",
            "A value is trying to be set on a copy of a slice from a DataFrame.\n",
            "Try using .loc[row_indexer,col_indexer] = value instead\n",
            "\n",
            "See the caveats in the documentation: https://pandas.pydata.org/pandas-docs/stable/user_guide/indexing.html#returning-a-view-versus-a-copy\n",
            "  result_df['Symbol'] = result_df['Ticker'].str.replace('.NS', '', regex=False).str.upper()\n"
          ]
        },
        {
          "name": "stdout",
          "output_type": "stream",
          "text": [
            "\n",
            "📌 Final Signals with Weekly View and My Thought:\n",
            "          Ticker        entry_time direction        entry  sl-m   weekly  \\\n",
            "0  LAURUSLABS.NS  2025-08-13 16:15       BUY   865.900024  2.56  Bullish   \n",
            "1       IRCTC.NS  2025-08-13 16:15       BUY   728.900024  2.00  Neutral   \n",
            "2    UNITDSPR.NS  2025-08-13 16:15       BUY  1307.500000  2.31      NaN   \n",
            "\n",
            "     my thought  \n",
            "0  full bullish  \n",
            "1         check  \n",
            "2           NaN  \n",
            "⏳ Waiting 279 seconds until next 5-min mark...\n",
            "\n"
          ]
        },
        {
          "name": "stderr",
          "output_type": "stream",
          "text": [
            "/tmp/ipython-input-176237620.py:51: FutureWarning: YF.download() has changed argument auto_adjust default to True\n",
            "  data = yf.download(all_tickers, period=\"7d\", interval=\"5m\", group_by='ticker', threads=True)\n",
            "\r[                       0%                       ]"
          ]
        },
        {
          "name": "stdout",
          "output_type": "stream",
          "text": [
            "\n",
            "🕒 Running Screener at 2025-08-13 16:20:00 IST\n"
          ]
        },
        {
          "name": "stderr",
          "output_type": "stream",
          "text": [
            "[*********************100%***********************]  222 of 222 completed\n",
            "ERROR:yfinance:\n",
            "2 Failed downloads:\n",
            "ERROR:yfinance:['NIFTY.NS', 'BANKNIFTY.NS']: YFPricesMissingError('possibly delisted; no price data found  (period=7d) (Yahoo error = \"No data found, symbol may be delisted\")')\n"
          ]
        },
        {
          "name": "stdout",
          "output_type": "stream",
          "text": [
            "BANKNIFTY.NS: Not enough data after ATR, skipping\n",
            "NIFTY.NS: Not enough data after ATR, skipping\n"
          ]
        },
        {
          "name": "stderr",
          "output_type": "stream",
          "text": [
            "/tmp/ipython-input-176237620.py:138: SettingWithCopyWarning: \n",
            "A value is trying to be set on a copy of a slice from a DataFrame.\n",
            "Try using .loc[row_indexer,col_indexer] = value instead\n",
            "\n",
            "See the caveats in the documentation: https://pandas.pydata.org/pandas-docs/stable/user_guide/indexing.html#returning-a-view-versus-a-copy\n",
            "  result_df['Symbol'] = result_df['Ticker'].str.replace('.NS', '', regex=False).str.upper()\n"
          ]
        },
        {
          "name": "stdout",
          "output_type": "stream",
          "text": [
            "\n",
            "📌 Final Signals with Weekly View and My Thought:\n",
            "          Ticker        entry_time direction        entry  sl-m   weekly  \\\n",
            "0  LAURUSLABS.NS  2025-08-13 16:20       BUY   865.900024  2.56  Bullish   \n",
            "1       IRCTC.NS  2025-08-13 16:20       BUY   728.900024  2.00  Neutral   \n",
            "2    UNITDSPR.NS  2025-08-13 16:20       BUY  1307.500000  2.31      NaN   \n",
            "\n",
            "     my thought  \n",
            "0  full bullish  \n",
            "1         check  \n",
            "2           NaN  \n",
            "⏳ Waiting 281 seconds until next 5-min mark...\n",
            "\n"
          ]
        }
      ],
      "source": [
        "import yfinance as yf\n",
        "import pandas as pd\n",
        "from datetime import datetime, timedelta\n",
        "import pytz\n",
        "import time\n",
        "import threading\n",
        "\n",
        "# Timezone\n",
        "ist = pytz.timezone('Asia/Kolkata')\n",
        "\n",
        "\n",
        "df = pd.read_csv(\"/content/FNO Stocks - All FO Stocks List, Technical Analysis Scanner.csv\")\n",
        "tickers = df['Symbol'].tolist()\n",
        "tickers = [ticker + '.NS' for ticker in tickers]\n",
        "all_tickers=tickers\n",
        "\n",
        "# Prepare stock notes DataFrame from same CSV\n",
        "notes_df = df[['Symbol', 'weekly', 'my thought']].copy()\n",
        "notes_df['Symbol'] = notes_df['Symbol'].str.strip().str.upper()\n",
        "\n",
        "\n",
        "# ATR Calculation\n",
        "def compute_atr(df, period=14):\n",
        "    high_low = df['High'] - df['Low']\n",
        "    high_close = (df['High'] - df['Close'].shift()).abs()\n",
        "    low_close = (df['Low'] - df['Close'].shift()).abs()\n",
        "    tr = pd.concat([high_low, high_close, low_close], axis=1).max(axis=1)\n",
        "    atr = tr.rolling(window=period).mean()\n",
        "    return atr\n",
        "\n",
        "# Check if last candle is complete\n",
        "def is_last_candle_complete(last_timestamp):\n",
        "    now_ist = datetime.now(ist)\n",
        "    return (now_ist - last_timestamp) > timedelta(minutes=5)\n",
        "\n",
        "\n",
        "# Manual stop flag\n",
        "stop_flag = False\n",
        "\n",
        "# Manual Stop Handler in background\n",
        "def listen_for_stop():\n",
        "    global stop_flag\n",
        "    input(\"🛑 Press ENTER to stop the screener anytime...\\n\")\n",
        "    stop_flag = True\n",
        "\n",
        "# Screener function\n",
        "def run_screener():\n",
        "    now_ist = datetime.now(ist)\n",
        "    print(f\"\\n🕒 Running Screener at {now_ist.strftime('%Y-%m-%d %H:%M:%S')} IST\")\n",
        "\n",
        "    data = yf.download(all_tickers, period=\"7d\", interval=\"5m\", group_by='ticker', threads=True)\n",
        "\n",
        "    buy_signals = []\n",
        "    sell_signals = []\n",
        "\n",
        "    for ticker in all_tickers:\n",
        "        try:\n",
        "            df = data[ticker].copy().sort_index()\n",
        "\n",
        "            if len(df) < 241:\n",
        "                print(f\"{ticker}: Not enough data ({len(df)} rows), skipping\")\n",
        "                continue\n",
        "\n",
        "            last_timestamp = df.index[-1].to_pydatetime().astimezone(ist)\n",
        "            if not is_last_candle_complete(last_timestamp):\n",
        "                df = df.iloc[:-1]\n",
        "\n",
        "            df['ATR_14'] = compute_atr(df)\n",
        "            df.dropna(inplace=True)\n",
        "\n",
        "            if len(df) < 241:\n",
        "                print(f\"{ticker}: Not enough data after ATR, skipping\")\n",
        "                continue\n",
        "\n",
        "            current_close = df['Close'].iloc[-1]\n",
        "            current_volume = df['Volume'].iloc[-1]\n",
        "            current_atr = df['ATR_14'].iloc[-1]\n",
        "\n",
        "            prev_240 = df.iloc[-241:-1]\n",
        "            max_close_240 = prev_240['Close'].max()\n",
        "            min_close_240 = prev_240['Close'].min()\n",
        "            avg_vol_240 = prev_240['Volume'].mean()\n",
        "\n",
        "            # Buy logic\n",
        "            if (\n",
        "                current_close > max_close_240 and\n",
        "                current_volume > 2 * avg_vol_240 and\n",
        "                current_close > 5\n",
        "            ):\n",
        "                buy_signals.append({\n",
        "                    \"Ticker\": ticker,\n",
        "                    \"Current Close\": current_close,\n",
        "                    \"Prev 240 Max Close\": max_close_240,\n",
        "                    \"Current Volume\": current_volume,\n",
        "                    \"Prev 240 Avg Volume\": avg_vol_240,\n",
        "                    \"ATR(14) 5min\": current_atr\n",
        "                })\n",
        "\n",
        "            # Sell logic\n",
        "            if (\n",
        "                current_close < min_close_240 and\n",
        "                current_volume > 2 * avg_vol_240 and\n",
        "                current_close > 5\n",
        "            ):\n",
        "                sell_signals.append({\n",
        "                    \"Ticker\": ticker,\n",
        "                    \"Current Close\": current_close,\n",
        "                    \"Prev 240 Min Close\": min_close_240,\n",
        "                    \"Current Volume\": current_volume,\n",
        "                    \"Prev 240 Avg Volume\": avg_vol_240,\n",
        "                    \"ATR(14) 5min\": current_atr\n",
        "                })\n",
        "\n",
        "        except Exception as e:\n",
        "            print(f\"Error processing {ticker}: {e}\")\n",
        "\n",
        "    buy_df = pd.DataFrame(buy_signals)\n",
        "    sell_df = pd.DataFrame(sell_signals)\n",
        "\n",
        "    combined_df = pd.DataFrame()\n",
        "    if not buy_df.empty:\n",
        "        buy_df['direction'] = 'BUY'\n",
        "        combined_df = pd.concat([combined_df, buy_df], ignore_index=True)\n",
        "\n",
        "    if not sell_df.empty:\n",
        "        sell_df['direction'] = 'SELL'\n",
        "        combined_df = pd.concat([combined_df, sell_df], ignore_index=True)\n",
        "\n",
        "    if not combined_df.empty:\n",
        "        now_ist_str = now_ist.strftime(\"%Y-%m-%d %H:%M\")\n",
        "        combined_df['entry_time'] = now_ist_str\n",
        "        combined_df['entry'] = combined_df['Current Close']\n",
        "        combined_df['sl-m'] = (combined_df['ATR(14) 5min'] * 1.5).round(2)\n",
        "\n",
        "        result_df = combined_df[['Ticker', 'entry_time', 'direction', 'entry', 'sl-m']]\n",
        "\n",
        "        # Extract base symbol (without .NS) for merging\n",
        "        result_df['Symbol'] = result_df['Ticker'].str.replace('.NS', '', regex=False).str.upper()\n",
        "\n",
        "        # Merge with notes\n",
        "        enriched_df = result_df.merge(notes_df, on='Symbol', how='left')\n",
        "\n",
        "        # Reorder columns\n",
        "        enriched_df = enriched_df[['Ticker', 'entry_time', 'direction', 'entry', 'sl-m', 'weekly', 'my thought']]\n",
        "\n",
        "        print(\"\\n📌 Final Signals with Weekly View and My Thought:\")\n",
        "        print(enriched_df)\n",
        "\n",
        "    else:\n",
        "        print(\"🔍 No signals this round.\")\n",
        "\n",
        "# ====================\n",
        "# 🔁 Aligned 5-min Loop\n",
        "# ====================\n",
        "threading.Thread(target=listen_for_stop, daemon=True).start()\n",
        "\n",
        "try:\n",
        "    while not stop_flag:\n",
        "        run_screener()\n",
        "\n",
        "        # Wait till next 5-minute multiple\n",
        "        now = datetime.now(ist)\n",
        "        seconds_to_next_5min = 300 - ((now.minute * 60 + now.second) % 300)\n",
        "        print(f\"⏳ Waiting {seconds_to_next_5min} seconds until next 5-min mark...\\n\")\n",
        "        time.sleep(seconds_to_next_5min)\n",
        "\n",
        "except KeyboardInterrupt:\n",
        "    print(\"🛑 Screener manually stopped.\")\n",
        "\n"
      ]
    },
    {
      "cell_type": "code",
      "execution_count": null,
      "metadata": {
        "id": "I7yucrRKAPZ8"
      },
      "outputs": [],
      "source": []
    },
    {
      "cell_type": "code",
      "execution_count": null,
      "metadata": {
        "colab": {
          "base_uri": "https://localhost:8080/"
        },
        "id": "feeyw29vOsrP",
        "outputId": "fecf40bb-0b7e-42fc-b76f-39222dfcd6ba"
      },
      "outputs": [
        {
          "name": "stderr",
          "output_type": "stream",
          "text": [
            "/tmp/ipython-input-5-4211688728.py:1: FutureWarning: YF.download() has changed argument auto_adjust default to True\n",
            "  data = yf.download(all_tickers, period=\"7d\", interval=\"5m\", group_by='ticker', threads=True)\n",
            "[*********************100%***********************]  188 of 188 completed\n",
            "ERROR:yfinance:\n",
            "1 Failed download:\n",
            "ERROR:yfinance:['MINDTREE.NS']: YFPricesMissingError('possibly delisted; no price data found  (period=7d) (Yahoo error = \"No data found, symbol may be delisted\")')\n"
          ]
        }
      ],
      "source": [
        "data = yf.download(all_tickers, period=\"7d\", interval=\"5m\", group_by='ticker', threads=True)"
      ]
    },
    {
      "cell_type": "code",
      "execution_count": null,
      "metadata": {
        "colab": {
          "base_uri": "https://localhost:8080/",
          "height": 373
        },
        "id": "_GUMGUJT9Eu7",
        "outputId": "eea134dc-b95b-4851-d1d4-0907b8314a71"
      },
      "outputs": [
        {
          "data": {
            "text/html": [
              "\n",
              "  <div id=\"df-9914aab2-5aec-41d3-b4ce-674fb5cf6912\" class=\"colab-df-container\">\n",
              "    <div>\n",
              "<style scoped>\n",
              "    .dataframe tbody tr th:only-of-type {\n",
              "        vertical-align: middle;\n",
              "    }\n",
              "\n",
              "    .dataframe tbody tr th {\n",
              "        vertical-align: top;\n",
              "    }\n",
              "\n",
              "    .dataframe thead tr th {\n",
              "        text-align: left;\n",
              "    }\n",
              "</style>\n",
              "<table border=\"1\" class=\"dataframe\">\n",
              "  <thead>\n",
              "    <tr>\n",
              "      <th>Ticker</th>\n",
              "      <th colspan=\"5\" halign=\"left\">BRITANNIA.NS</th>\n",
              "      <th colspan=\"5\" halign=\"left\">UPL.NS</th>\n",
              "      <th>...</th>\n",
              "      <th colspan=\"5\" halign=\"left\">ULTRACEMCO.NS</th>\n",
              "      <th colspan=\"5\" halign=\"left\">COFORGE.NS</th>\n",
              "    </tr>\n",
              "    <tr>\n",
              "      <th>Price</th>\n",
              "      <th>Open</th>\n",
              "      <th>High</th>\n",
              "      <th>Low</th>\n",
              "      <th>Close</th>\n",
              "      <th>Volume</th>\n",
              "      <th>Open</th>\n",
              "      <th>High</th>\n",
              "      <th>Low</th>\n",
              "      <th>Close</th>\n",
              "      <th>Volume</th>\n",
              "      <th>...</th>\n",
              "      <th>Open</th>\n",
              "      <th>High</th>\n",
              "      <th>Low</th>\n",
              "      <th>Close</th>\n",
              "      <th>Volume</th>\n",
              "      <th>Open</th>\n",
              "      <th>High</th>\n",
              "      <th>Low</th>\n",
              "      <th>Close</th>\n",
              "      <th>Volume</th>\n",
              "    </tr>\n",
              "  </thead>\n",
              "  <tbody>\n",
              "    <tr>\n",
              "      <th>2025-07-08 08:10:00+00:00</th>\n",
              "      <td>5812.5</td>\n",
              "      <td>5821.5</td>\n",
              "      <td>5812.0</td>\n",
              "      <td>5821.0</td>\n",
              "      <td>3766</td>\n",
              "      <td>670.049988</td>\n",
              "      <td>670.099976</td>\n",
              "      <td>668.750000</td>\n",
              "      <td>669.400024</td>\n",
              "      <td>8631</td>\n",
              "      <td>...</td>\n",
              "      <td>12465.0</td>\n",
              "      <td>12467.0</td>\n",
              "      <td>12460.0</td>\n",
              "      <td>12466.0</td>\n",
              "      <td>959</td>\n",
              "      <td>1975.000000</td>\n",
              "      <td>1979.900024</td>\n",
              "      <td>1974.599976</td>\n",
              "      <td>1978.500000</td>\n",
              "      <td>14052</td>\n",
              "    </tr>\n",
              "    <tr>\n",
              "      <th>2025-07-08 08:15:00+00:00</th>\n",
              "      <td>5819.0</td>\n",
              "      <td>5821.0</td>\n",
              "      <td>5817.0</td>\n",
              "      <td>5818.5</td>\n",
              "      <td>2030</td>\n",
              "      <td>669.500000</td>\n",
              "      <td>669.599976</td>\n",
              "      <td>669.099976</td>\n",
              "      <td>669.549988</td>\n",
              "      <td>5129</td>\n",
              "      <td>...</td>\n",
              "      <td>12467.0</td>\n",
              "      <td>12473.0</td>\n",
              "      <td>12459.0</td>\n",
              "      <td>12470.0</td>\n",
              "      <td>1257</td>\n",
              "      <td>1979.000000</td>\n",
              "      <td>1979.099976</td>\n",
              "      <td>1976.599976</td>\n",
              "      <td>1978.199951</td>\n",
              "      <td>10237</td>\n",
              "    </tr>\n",
              "    <tr>\n",
              "      <th>2025-07-08 08:20:00+00:00</th>\n",
              "      <td>5818.0</td>\n",
              "      <td>5819.5</td>\n",
              "      <td>5817.5</td>\n",
              "      <td>5819.5</td>\n",
              "      <td>1342</td>\n",
              "      <td>669.299988</td>\n",
              "      <td>669.750000</td>\n",
              "      <td>669.000000</td>\n",
              "      <td>669.549988</td>\n",
              "      <td>4555</td>\n",
              "      <td>...</td>\n",
              "      <td>12470.0</td>\n",
              "      <td>12474.0</td>\n",
              "      <td>12464.0</td>\n",
              "      <td>12466.0</td>\n",
              "      <td>1271</td>\n",
              "      <td>1978.099976</td>\n",
              "      <td>1978.300049</td>\n",
              "      <td>1974.000000</td>\n",
              "      <td>1975.500000</td>\n",
              "      <td>10376</td>\n",
              "    </tr>\n",
              "    <tr>\n",
              "      <th>2025-07-08 08:25:00+00:00</th>\n",
              "      <td>5819.0</td>\n",
              "      <td>5825.0</td>\n",
              "      <td>5817.5</td>\n",
              "      <td>5824.5</td>\n",
              "      <td>2574</td>\n",
              "      <td>669.549988</td>\n",
              "      <td>670.099976</td>\n",
              "      <td>669.200012</td>\n",
              "      <td>669.849976</td>\n",
              "      <td>4675</td>\n",
              "      <td>...</td>\n",
              "      <td>12466.0</td>\n",
              "      <td>12469.0</td>\n",
              "      <td>12461.0</td>\n",
              "      <td>12467.0</td>\n",
              "      <td>1179</td>\n",
              "      <td>1975.500000</td>\n",
              "      <td>1975.800049</td>\n",
              "      <td>1970.000000</td>\n",
              "      <td>1972.000000</td>\n",
              "      <td>19062</td>\n",
              "    </tr>\n",
              "    <tr>\n",
              "      <th>2025-07-08 08:30:00+00:00</th>\n",
              "      <td>5824.5</td>\n",
              "      <td>5824.5</td>\n",
              "      <td>5824.0</td>\n",
              "      <td>5824.5</td>\n",
              "      <td>354</td>\n",
              "      <td>669.650024</td>\n",
              "      <td>671.000000</td>\n",
              "      <td>669.650024</td>\n",
              "      <td>670.799988</td>\n",
              "      <td>4134</td>\n",
              "      <td>...</td>\n",
              "      <td>12467.0</td>\n",
              "      <td>12469.0</td>\n",
              "      <td>12462.0</td>\n",
              "      <td>12464.0</td>\n",
              "      <td>147</td>\n",
              "      <td>1971.800049</td>\n",
              "      <td>1972.099976</td>\n",
              "      <td>1970.000000</td>\n",
              "      <td>1970.400024</td>\n",
              "      <td>6685</td>\n",
              "    </tr>\n",
              "  </tbody>\n",
              "</table>\n",
              "<p>5 rows × 941 columns</p>\n",
              "</div>\n",
              "    <div class=\"colab-df-buttons\">\n",
              "      \n",
              "  <div class=\"colab-df-container\">\n",
              "    <button class=\"colab-df-convert\" onclick=\"convertToInteractive('df-9914aab2-5aec-41d3-b4ce-674fb5cf6912')\"\n",
              "            title=\"Convert this dataframe to an interactive table.\"\n",
              "            style=\"display:none;\">\n",
              "      \n",
              "  <svg xmlns=\"http://www.w3.org/2000/svg\" height=\"24px\" viewBox=\"0 -960 960 960\">\n",
              "    <path d=\"M120-120v-720h720v720H120Zm60-500h600v-160H180v160Zm220 220h160v-160H400v160Zm0 220h160v-160H400v160ZM180-400h160v-160H180v160Zm440 0h160v-160H620v160ZM180-180h160v-160H180v160Zm440 0h160v-160H620v160Z\"/>\n",
              "  </svg>\n",
              "    </button>\n",
              "    \n",
              "  <style>\n",
              "    .colab-df-container {\n",
              "      display:flex;\n",
              "      gap: 12px;\n",
              "    }\n",
              "\n",
              "    .colab-df-convert {\n",
              "      background-color: #E8F0FE;\n",
              "      border: none;\n",
              "      border-radius: 50%;\n",
              "      cursor: pointer;\n",
              "      display: none;\n",
              "      fill: #1967D2;\n",
              "      height: 32px;\n",
              "      padding: 0 0 0 0;\n",
              "      width: 32px;\n",
              "    }\n",
              "\n",
              "    .colab-df-convert:hover {\n",
              "      background-color: #E2EBFA;\n",
              "      box-shadow: 0px 1px 2px rgba(60, 64, 67, 0.3), 0px 1px 3px 1px rgba(60, 64, 67, 0.15);\n",
              "      fill: #174EA6;\n",
              "    }\n",
              "\n",
              "    .colab-df-buttons div {\n",
              "      margin-bottom: 4px;\n",
              "    }\n",
              "\n",
              "    [theme=dark] .colab-df-convert {\n",
              "      background-color: #3B4455;\n",
              "      fill: #D2E3FC;\n",
              "    }\n",
              "\n",
              "    [theme=dark] .colab-df-convert:hover {\n",
              "      background-color: #434B5C;\n",
              "      box-shadow: 0px 1px 3px 1px rgba(0, 0, 0, 0.15);\n",
              "      filter: drop-shadow(0px 1px 2px rgba(0, 0, 0, 0.3));\n",
              "      fill: #FFFFFF;\n",
              "    }\n",
              "  </style>\n",
              "\n",
              "    <script>\n",
              "      const buttonEl =\n",
              "        document.querySelector('#df-9914aab2-5aec-41d3-b4ce-674fb5cf6912 button.colab-df-convert');\n",
              "      buttonEl.style.display =\n",
              "        google.colab.kernel.accessAllowed ? 'block' : 'none';\n",
              "\n",
              "      async function convertToInteractive(key) {\n",
              "        const element = document.querySelector('#df-9914aab2-5aec-41d3-b4ce-674fb5cf6912');\n",
              "        const dataTable =\n",
              "          await google.colab.kernel.invokeFunction('convertToInteractive',\n",
              "                                                    [key], {});\n",
              "        if (!dataTable) return;\n",
              "\n",
              "        const docLinkHtml = 'Like what you see? Visit the ' +\n",
              "          '<a target=\"_blank\" href=https://colab.research.google.com/notebooks/data_table.ipynb>data table notebook</a>'\n",
              "          + ' to learn more about interactive tables.';\n",
              "        element.innerHTML = '';\n",
              "        dataTable['output_type'] = 'display_data';\n",
              "        await google.colab.output.renderOutput(dataTable, element);\n",
              "        const docLink = document.createElement('div');\n",
              "        docLink.innerHTML = docLinkHtml;\n",
              "        element.appendChild(docLink);\n",
              "      }\n",
              "    </script>\n",
              "  </div>\n",
              "  \n",
              "    </div>\n",
              "  </div>\n",
              "  "
            ],
            "text/plain": [
              "Ticker                    BRITANNIA.NS                                 \\\n",
              "Price                             Open    High     Low   Close Volume   \n",
              "2025-07-08 08:10:00+00:00       5812.5  5821.5  5812.0  5821.0   3766   \n",
              "2025-07-08 08:15:00+00:00       5819.0  5821.0  5817.0  5818.5   2030   \n",
              "2025-07-08 08:20:00+00:00       5818.0  5819.5  5817.5  5819.5   1342   \n",
              "2025-07-08 08:25:00+00:00       5819.0  5825.0  5817.5  5824.5   2574   \n",
              "2025-07-08 08:30:00+00:00       5824.5  5824.5  5824.0  5824.5    354   \n",
              "\n",
              "Ticker                         UPL.NS                                      \\\n",
              "Price                            Open        High         Low       Close   \n",
              "2025-07-08 08:10:00+00:00  670.049988  670.099976  668.750000  669.400024   \n",
              "2025-07-08 08:15:00+00:00  669.500000  669.599976  669.099976  669.549988   \n",
              "2025-07-08 08:20:00+00:00  669.299988  669.750000  669.000000  669.549988   \n",
              "2025-07-08 08:25:00+00:00  669.549988  670.099976  669.200012  669.849976   \n",
              "2025-07-08 08:30:00+00:00  669.650024  671.000000  669.650024  670.799988   \n",
              "\n",
              "Ticker                            ... ULTRACEMCO.NS                    \\\n",
              "Price                     Volume  ...          Open     High      Low   \n",
              "2025-07-08 08:10:00+00:00   8631  ...       12465.0  12467.0  12460.0   \n",
              "2025-07-08 08:15:00+00:00   5129  ...       12467.0  12473.0  12459.0   \n",
              "2025-07-08 08:20:00+00:00   4555  ...       12470.0  12474.0  12464.0   \n",
              "2025-07-08 08:25:00+00:00   4675  ...       12466.0  12469.0  12461.0   \n",
              "2025-07-08 08:30:00+00:00   4134  ...       12467.0  12469.0  12462.0   \n",
              "\n",
              "Ticker                                      COFORGE.NS               \\\n",
              "Price                        Close Volume         Open         High   \n",
              "2025-07-08 08:10:00+00:00  12466.0    959  1975.000000  1979.900024   \n",
              "2025-07-08 08:15:00+00:00  12470.0   1257  1979.000000  1979.099976   \n",
              "2025-07-08 08:20:00+00:00  12466.0   1271  1978.099976  1978.300049   \n",
              "2025-07-08 08:25:00+00:00  12467.0   1179  1975.500000  1975.800049   \n",
              "2025-07-08 08:30:00+00:00  12464.0    147  1971.800049  1972.099976   \n",
              "\n",
              "Ticker                                                      \n",
              "Price                              Low        Close Volume  \n",
              "2025-07-08 08:10:00+00:00  1974.599976  1978.500000  14052  \n",
              "2025-07-08 08:15:00+00:00  1976.599976  1978.199951  10237  \n",
              "2025-07-08 08:20:00+00:00  1974.000000  1975.500000  10376  \n",
              "2025-07-08 08:25:00+00:00  1970.000000  1972.000000  19062  \n",
              "2025-07-08 08:30:00+00:00  1970.000000  1970.400024   6685  \n",
              "\n",
              "[5 rows x 941 columns]"
            ]
          },
          "execution_count": 6,
          "metadata": {},
          "output_type": "execute_result"
        }
      ],
      "source": [
        "data.tail()"
      ]
    },
    {
      "cell_type": "code",
      "execution_count": null,
      "metadata": {
        "id": "ioFCROZt9Mt_"
      },
      "outputs": [],
      "source": []
    },
    {
      "cell_type": "code",
      "execution_count": null,
      "metadata": {
        "id": "OIRjFmSzW8Qb"
      },
      "outputs": [],
      "source": []
    },
    {
      "cell_type": "code",
      "execution_count": null,
      "metadata": {
        "colab": {
          "base_uri": "https://localhost:8080/"
        },
        "id": "77LtqPv4W8ug",
        "outputId": "b127b956-e024-4e1d-a88e-469568d6c79c"
      },
      "outputs": [
        {
          "name": "stdout",
          "output_type": "stream",
          "text": [
            "📥 Downloading ATGL.NS ...\n"
          ]
        },
        {
          "name": "stderr",
          "output_type": "stream",
          "text": [
            "/tmp/ipython-input-4-2200874810.py:19: FutureWarning: YF.download() has changed argument auto_adjust default to True\n",
            "  data = yf.download(ticker, period=\"60d\", interval=\"5m\", progress=False)\n"
          ]
        },
        {
          "name": "stdout",
          "output_type": "stream",
          "text": [
            "✅ Saved: fo_5min_data/ATGL_5min.csv\n",
            "📥 Downloading MGL.NS ...\n"
          ]
        },
        {
          "name": "stderr",
          "output_type": "stream",
          "text": [
            "/tmp/ipython-input-4-2200874810.py:19: FutureWarning: YF.download() has changed argument auto_adjust default to True\n",
            "  data = yf.download(ticker, period=\"60d\", interval=\"5m\", progress=False)\n"
          ]
        },
        {
          "name": "stdout",
          "output_type": "stream",
          "text": [
            "✅ Saved: fo_5min_data/MGL_5min.csv\n",
            "📥 Downloading HINDPETRO.NS ...\n"
          ]
        },
        {
          "name": "stderr",
          "output_type": "stream",
          "text": [
            "/tmp/ipython-input-4-2200874810.py:19: FutureWarning: YF.download() has changed argument auto_adjust default to True\n",
            "  data = yf.download(ticker, period=\"60d\", interval=\"5m\", progress=False)\n"
          ]
        },
        {
          "name": "stdout",
          "output_type": "stream",
          "text": [
            "✅ Saved: fo_5min_data/HINDPETRO_5min.csv\n",
            "📥 Downloading TORNTPHARM.NS ...\n"
          ]
        },
        {
          "name": "stderr",
          "output_type": "stream",
          "text": [
            "/tmp/ipython-input-4-2200874810.py:19: FutureWarning: YF.download() has changed argument auto_adjust default to True\n",
            "  data = yf.download(ticker, period=\"60d\", interval=\"5m\", progress=False)\n"
          ]
        },
        {
          "name": "stdout",
          "output_type": "stream",
          "text": [
            "✅ Saved: fo_5min_data/TORNTPHARM_5min.csv\n",
            "📥 Downloading JIOFIN.NS ...\n"
          ]
        },
        {
          "name": "stderr",
          "output_type": "stream",
          "text": [
            "/tmp/ipython-input-4-2200874810.py:19: FutureWarning: YF.download() has changed argument auto_adjust default to True\n",
            "  data = yf.download(ticker, period=\"60d\", interval=\"5m\", progress=False)\n"
          ]
        },
        {
          "name": "stdout",
          "output_type": "stream",
          "text": [
            "✅ Saved: fo_5min_data/JIOFIN_5min.csv\n",
            "📥 Downloading BDL.NS ...\n"
          ]
        },
        {
          "name": "stderr",
          "output_type": "stream",
          "text": [
            "/tmp/ipython-input-4-2200874810.py:19: FutureWarning: YF.download() has changed argument auto_adjust default to True\n",
            "  data = yf.download(ticker, period=\"60d\", interval=\"5m\", progress=False)\n"
          ]
        },
        {
          "name": "stdout",
          "output_type": "stream",
          "text": [
            "✅ Saved: fo_5min_data/BDL_5min.csv\n",
            "📥 Downloading LAURUSLABS.NS ...\n"
          ]
        },
        {
          "name": "stderr",
          "output_type": "stream",
          "text": [
            "/tmp/ipython-input-4-2200874810.py:19: FutureWarning: YF.download() has changed argument auto_adjust default to True\n",
            "  data = yf.download(ticker, period=\"60d\", interval=\"5m\", progress=False)\n"
          ]
        },
        {
          "name": "stdout",
          "output_type": "stream",
          "text": [
            "✅ Saved: fo_5min_data/LAURUSLABS_5min.csv\n",
            "📥 Downloading SHREECEM.NS ...\n"
          ]
        },
        {
          "name": "stderr",
          "output_type": "stream",
          "text": [
            "/tmp/ipython-input-4-2200874810.py:19: FutureWarning: YF.download() has changed argument auto_adjust default to True\n",
            "  data = yf.download(ticker, period=\"60d\", interval=\"5m\", progress=False)\n"
          ]
        },
        {
          "name": "stdout",
          "output_type": "stream",
          "text": [
            "✅ Saved: fo_5min_data/SHREECEM_5min.csv\n",
            "📥 Downloading ASIANPAINT.NS ...\n"
          ]
        },
        {
          "name": "stderr",
          "output_type": "stream",
          "text": [
            "/tmp/ipython-input-4-2200874810.py:19: FutureWarning: YF.download() has changed argument auto_adjust default to True\n",
            "  data = yf.download(ticker, period=\"60d\", interval=\"5m\", progress=False)\n"
          ]
        },
        {
          "name": "stdout",
          "output_type": "stream",
          "text": [
            "✅ Saved: fo_5min_data/ASIANPAINT_5min.csv\n",
            "📥 Downloading APOLLOHOSP.NS ...\n"
          ]
        },
        {
          "name": "stderr",
          "output_type": "stream",
          "text": [
            "/tmp/ipython-input-4-2200874810.py:19: FutureWarning: YF.download() has changed argument auto_adjust default to True\n",
            "  data = yf.download(ticker, period=\"60d\", interval=\"5m\", progress=False)\n"
          ]
        },
        {
          "name": "stdout",
          "output_type": "stream",
          "text": [
            "✅ Saved: fo_5min_data/APOLLOHOSP_5min.csv\n",
            "📥 Downloading IGL.NS ...\n"
          ]
        },
        {
          "name": "stderr",
          "output_type": "stream",
          "text": [
            "/tmp/ipython-input-4-2200874810.py:19: FutureWarning: YF.download() has changed argument auto_adjust default to True\n",
            "  data = yf.download(ticker, period=\"60d\", interval=\"5m\", progress=False)\n"
          ]
        },
        {
          "name": "stdout",
          "output_type": "stream",
          "text": [
            "✅ Saved: fo_5min_data/IGL_5min.csv\n",
            "📥 Downloading UNOMINDA.NS ...\n"
          ]
        },
        {
          "name": "stderr",
          "output_type": "stream",
          "text": [
            "/tmp/ipython-input-4-2200874810.py:19: FutureWarning: YF.download() has changed argument auto_adjust default to True\n",
            "  data = yf.download(ticker, period=\"60d\", interval=\"5m\", progress=False)\n"
          ]
        },
        {
          "name": "stdout",
          "output_type": "stream",
          "text": [
            "✅ Saved: fo_5min_data/UNOMINDA_5min.csv\n",
            "📥 Downloading INDUSINDBK.NS ...\n"
          ]
        },
        {
          "name": "stderr",
          "output_type": "stream",
          "text": [
            "/tmp/ipython-input-4-2200874810.py:19: FutureWarning: YF.download() has changed argument auto_adjust default to True\n",
            "  data = yf.download(ticker, period=\"60d\", interval=\"5m\", progress=False)\n"
          ]
        },
        {
          "name": "stdout",
          "output_type": "stream",
          "text": [
            "✅ Saved: fo_5min_data/INDUSINDBK_5min.csv\n",
            "📥 Downloading TIINDIA.NS ...\n"
          ]
        },
        {
          "name": "stderr",
          "output_type": "stream",
          "text": [
            "/tmp/ipython-input-4-2200874810.py:19: FutureWarning: YF.download() has changed argument auto_adjust default to True\n",
            "  data = yf.download(ticker, period=\"60d\", interval=\"5m\", progress=False)\n"
          ]
        },
        {
          "name": "stdout",
          "output_type": "stream",
          "text": [
            "✅ Saved: fo_5min_data/TIINDIA_5min.csv\n",
            "📥 Downloading ADANIGREEN.NS ...\n"
          ]
        },
        {
          "name": "stderr",
          "output_type": "stream",
          "text": [
            "/tmp/ipython-input-4-2200874810.py:19: FutureWarning: YF.download() has changed argument auto_adjust default to True\n",
            "  data = yf.download(ticker, period=\"60d\", interval=\"5m\", progress=False)\n"
          ]
        },
        {
          "name": "stdout",
          "output_type": "stream",
          "text": [
            "✅ Saved: fo_5min_data/ADANIGREEN_5min.csv\n",
            "📥 Downloading ADANIENT.NS ...\n"
          ]
        },
        {
          "name": "stderr",
          "output_type": "stream",
          "text": [
            "/tmp/ipython-input-4-2200874810.py:19: FutureWarning: YF.download() has changed argument auto_adjust default to True\n",
            "  data = yf.download(ticker, period=\"60d\", interval=\"5m\", progress=False)\n"
          ]
        },
        {
          "name": "stdout",
          "output_type": "stream",
          "text": [
            "✅ Saved: fo_5min_data/ADANIENT_5min.csv\n",
            "📥 Downloading GAIL.NS ...\n"
          ]
        },
        {
          "name": "stderr",
          "output_type": "stream",
          "text": [
            "/tmp/ipython-input-4-2200874810.py:19: FutureWarning: YF.download() has changed argument auto_adjust default to True\n",
            "  data = yf.download(ticker, period=\"60d\", interval=\"5m\", progress=False)\n"
          ]
        },
        {
          "name": "stdout",
          "output_type": "stream",
          "text": [
            "✅ Saved: fo_5min_data/GAIL_5min.csv\n",
            "📥 Downloading ULTRACEMCO.NS ...\n"
          ]
        },
        {
          "name": "stderr",
          "output_type": "stream",
          "text": [
            "/tmp/ipython-input-4-2200874810.py:19: FutureWarning: YF.download() has changed argument auto_adjust default to True\n",
            "  data = yf.download(ticker, period=\"60d\", interval=\"5m\", progress=False)\n"
          ]
        },
        {
          "name": "stdout",
          "output_type": "stream",
          "text": [
            "✅ Saved: fo_5min_data/ULTRACEMCO_5min.csv\n",
            "📥 Downloading INDIGO.NS ...\n"
          ]
        },
        {
          "name": "stderr",
          "output_type": "stream",
          "text": [
            "/tmp/ipython-input-4-2200874810.py:19: FutureWarning: YF.download() has changed argument auto_adjust default to True\n",
            "  data = yf.download(ticker, period=\"60d\", interval=\"5m\", progress=False)\n"
          ]
        },
        {
          "name": "stdout",
          "output_type": "stream",
          "text": [
            "✅ Saved: fo_5min_data/INDIGO_5min.csv\n",
            "📥 Downloading ADANIENSOL.NS ...\n"
          ]
        },
        {
          "name": "stderr",
          "output_type": "stream",
          "text": [
            "/tmp/ipython-input-4-2200874810.py:19: FutureWarning: YF.download() has changed argument auto_adjust default to True\n",
            "  data = yf.download(ticker, period=\"60d\", interval=\"5m\", progress=False)\n"
          ]
        },
        {
          "name": "stdout",
          "output_type": "stream",
          "text": [
            "✅ Saved: fo_5min_data/ADANIENSOL_5min.csv\n",
            "📥 Downloading ACC.NS ...\n"
          ]
        },
        {
          "name": "stderr",
          "output_type": "stream",
          "text": [
            "/tmp/ipython-input-4-2200874810.py:19: FutureWarning: YF.download() has changed argument auto_adjust default to True\n",
            "  data = yf.download(ticker, period=\"60d\", interval=\"5m\", progress=False)\n"
          ]
        },
        {
          "name": "stdout",
          "output_type": "stream",
          "text": [
            "✅ Saved: fo_5min_data/ACC_5min.csv\n",
            "📥 Downloading POWERGRID.NS ...\n"
          ]
        },
        {
          "name": "stderr",
          "output_type": "stream",
          "text": [
            "/tmp/ipython-input-4-2200874810.py:19: FutureWarning: YF.download() has changed argument auto_adjust default to True\n",
            "  data = yf.download(ticker, period=\"60d\", interval=\"5m\", progress=False)\n"
          ]
        },
        {
          "name": "stdout",
          "output_type": "stream",
          "text": [
            "✅ Saved: fo_5min_data/POWERGRID_5min.csv\n",
            "📥 Downloading IDEA.NS ...\n"
          ]
        },
        {
          "name": "stderr",
          "output_type": "stream",
          "text": [
            "/tmp/ipython-input-4-2200874810.py:19: FutureWarning: YF.download() has changed argument auto_adjust default to True\n",
            "  data = yf.download(ticker, period=\"60d\", interval=\"5m\", progress=False)\n"
          ]
        },
        {
          "name": "stdout",
          "output_type": "stream",
          "text": [
            "✅ Saved: fo_5min_data/IDEA_5min.csv\n",
            "📥 Downloading CAMS.NS ...\n"
          ]
        },
        {
          "name": "stderr",
          "output_type": "stream",
          "text": [
            "/tmp/ipython-input-4-2200874810.py:19: FutureWarning: YF.download() has changed argument auto_adjust default to True\n",
            "  data = yf.download(ticker, period=\"60d\", interval=\"5m\", progress=False)\n"
          ]
        },
        {
          "name": "stdout",
          "output_type": "stream",
          "text": [
            "✅ Saved: fo_5min_data/CAMS_5min.csv\n",
            "📥 Downloading VEDL.NS ...\n"
          ]
        },
        {
          "name": "stderr",
          "output_type": "stream",
          "text": [
            "/tmp/ipython-input-4-2200874810.py:19: FutureWarning: YF.download() has changed argument auto_adjust default to True\n",
            "  data = yf.download(ticker, period=\"60d\", interval=\"5m\", progress=False)\n"
          ]
        },
        {
          "name": "stdout",
          "output_type": "stream",
          "text": [
            "✅ Saved: fo_5min_data/VEDL_5min.csv\n",
            "📥 Downloading BHARATFORG.NS ...\n"
          ]
        },
        {
          "name": "stderr",
          "output_type": "stream",
          "text": [
            "/tmp/ipython-input-4-2200874810.py:19: FutureWarning: YF.download() has changed argument auto_adjust default to True\n",
            "  data = yf.download(ticker, period=\"60d\", interval=\"5m\", progress=False)\n"
          ]
        },
        {
          "name": "stdout",
          "output_type": "stream",
          "text": [
            "✅ Saved: fo_5min_data/BHARATFORG_5min.csv\n",
            "📥 Downloading KAYNES.NS ...\n"
          ]
        },
        {
          "name": "stderr",
          "output_type": "stream",
          "text": [
            "/tmp/ipython-input-4-2200874810.py:19: FutureWarning: YF.download() has changed argument auto_adjust default to True\n",
            "  data = yf.download(ticker, period=\"60d\", interval=\"5m\", progress=False)\n"
          ]
        },
        {
          "name": "stdout",
          "output_type": "stream",
          "text": [
            "✅ Saved: fo_5min_data/KAYNES_5min.csv\n",
            "📥 Downloading HAL.NS ...\n"
          ]
        },
        {
          "name": "stderr",
          "output_type": "stream",
          "text": [
            "/tmp/ipython-input-4-2200874810.py:19: FutureWarning: YF.download() has changed argument auto_adjust default to True\n",
            "  data = yf.download(ticker, period=\"60d\", interval=\"5m\", progress=False)\n"
          ]
        },
        {
          "name": "stdout",
          "output_type": "stream",
          "text": [
            "✅ Saved: fo_5min_data/HAL_5min.csv\n",
            "📥 Downloading MAZDOCK.NS ...\n"
          ]
        },
        {
          "name": "stderr",
          "output_type": "stream",
          "text": [
            "/tmp/ipython-input-4-2200874810.py:19: FutureWarning: YF.download() has changed argument auto_adjust default to True\n",
            "  data = yf.download(ticker, period=\"60d\", interval=\"5m\", progress=False)\n"
          ]
        },
        {
          "name": "stdout",
          "output_type": "stream",
          "text": [
            "✅ Saved: fo_5min_data/MAZDOCK_5min.csv\n",
            "📥 Downloading CHOLAFIN.NS ...\n"
          ]
        },
        {
          "name": "stderr",
          "output_type": "stream",
          "text": [
            "/tmp/ipython-input-4-2200874810.py:19: FutureWarning: YF.download() has changed argument auto_adjust default to True\n",
            "  data = yf.download(ticker, period=\"60d\", interval=\"5m\", progress=False)\n"
          ]
        },
        {
          "name": "stdout",
          "output_type": "stream",
          "text": [
            "✅ Saved: fo_5min_data/CHOLAFIN_5min.csv\n",
            "📥 Downloading TATATECH.NS ...\n"
          ]
        },
        {
          "name": "stderr",
          "output_type": "stream",
          "text": [
            "/tmp/ipython-input-4-2200874810.py:19: FutureWarning: YF.download() has changed argument auto_adjust default to True\n",
            "  data = yf.download(ticker, period=\"60d\", interval=\"5m\", progress=False)\n"
          ]
        },
        {
          "name": "stdout",
          "output_type": "stream",
          "text": [
            "✅ Saved: fo_5min_data/TATATECH_5min.csv\n",
            "📥 Downloading SBICARD.NS ...\n"
          ]
        },
        {
          "name": "stderr",
          "output_type": "stream",
          "text": [
            "/tmp/ipython-input-4-2200874810.py:19: FutureWarning: YF.download() has changed argument auto_adjust default to True\n",
            "  data = yf.download(ticker, period=\"60d\", interval=\"5m\", progress=False)\n"
          ]
        },
        {
          "name": "stdout",
          "output_type": "stream",
          "text": [
            "✅ Saved: fo_5min_data/SBICARD_5min.csv\n",
            "📥 Downloading ICICIBANK.NS ...\n"
          ]
        },
        {
          "name": "stderr",
          "output_type": "stream",
          "text": [
            "/tmp/ipython-input-4-2200874810.py:19: FutureWarning: YF.download() has changed argument auto_adjust default to True\n",
            "  data = yf.download(ticker, period=\"60d\", interval=\"5m\", progress=False)\n"
          ]
        },
        {
          "name": "stdout",
          "output_type": "stream",
          "text": [
            "✅ Saved: fo_5min_data/ICICIBANK_5min.csv\n",
            "📥 Downloading IRCTC.NS ...\n"
          ]
        },
        {
          "name": "stderr",
          "output_type": "stream",
          "text": [
            "/tmp/ipython-input-4-2200874810.py:19: FutureWarning: YF.download() has changed argument auto_adjust default to True\n",
            "  data = yf.download(ticker, period=\"60d\", interval=\"5m\", progress=False)\n"
          ]
        },
        {
          "name": "stdout",
          "output_type": "stream",
          "text": [
            "✅ Saved: fo_5min_data/IRCTC_5min.csv\n",
            "📥 Downloading PAGEIND.NS ...\n"
          ]
        },
        {
          "name": "stderr",
          "output_type": "stream",
          "text": [
            "/tmp/ipython-input-4-2200874810.py:19: FutureWarning: YF.download() has changed argument auto_adjust default to True\n",
            "  data = yf.download(ticker, period=\"60d\", interval=\"5m\", progress=False)\n"
          ]
        },
        {
          "name": "stdout",
          "output_type": "stream",
          "text": [
            "✅ Saved: fo_5min_data/PAGEIND_5min.csv\n",
            "📥 Downloading HINDCOPPER.NS ...\n"
          ]
        },
        {
          "name": "stderr",
          "output_type": "stream",
          "text": [
            "/tmp/ipython-input-4-2200874810.py:19: FutureWarning: YF.download() has changed argument auto_adjust default to True\n",
            "  data = yf.download(ticker, period=\"60d\", interval=\"5m\", progress=False)\n"
          ]
        },
        {
          "name": "stdout",
          "output_type": "stream",
          "text": [
            "✅ Saved: fo_5min_data/HINDCOPPER_5min.csv\n",
            "📥 Downloading NYKAA.NS ...\n"
          ]
        },
        {
          "name": "stderr",
          "output_type": "stream",
          "text": [
            "/tmp/ipython-input-4-2200874810.py:19: FutureWarning: YF.download() has changed argument auto_adjust default to True\n",
            "  data = yf.download(ticker, period=\"60d\", interval=\"5m\", progress=False)\n"
          ]
        },
        {
          "name": "stdout",
          "output_type": "stream",
          "text": [
            "✅ Saved: fo_5min_data/NYKAA_5min.csv\n",
            "📥 Downloading HDFCAMC.NS ...\n"
          ]
        },
        {
          "name": "stderr",
          "output_type": "stream",
          "text": [
            "/tmp/ipython-input-4-2200874810.py:19: FutureWarning: YF.download() has changed argument auto_adjust default to True\n",
            "  data = yf.download(ticker, period=\"60d\", interval=\"5m\", progress=False)\n"
          ]
        },
        {
          "name": "stdout",
          "output_type": "stream",
          "text": [
            "✅ Saved: fo_5min_data/HDFCAMC_5min.csv\n",
            "📥 Downloading AMBUJACEM.NS ...\n"
          ]
        },
        {
          "name": "stderr",
          "output_type": "stream",
          "text": [
            "/tmp/ipython-input-4-2200874810.py:19: FutureWarning: YF.download() has changed argument auto_adjust default to True\n",
            "  data = yf.download(ticker, period=\"60d\", interval=\"5m\", progress=False)\n"
          ]
        },
        {
          "name": "stdout",
          "output_type": "stream",
          "text": [
            "✅ Saved: fo_5min_data/AMBUJACEM_5min.csv\n",
            "📥 Downloading M&MFIN.NS ...\n"
          ]
        },
        {
          "name": "stderr",
          "output_type": "stream",
          "text": [
            "/tmp/ipython-input-4-2200874810.py:19: FutureWarning: YF.download() has changed argument auto_adjust default to True\n",
            "  data = yf.download(ticker, period=\"60d\", interval=\"5m\", progress=False)\n"
          ]
        },
        {
          "name": "stdout",
          "output_type": "stream",
          "text": [
            "✅ Saved: fo_5min_data/M&MFIN_5min.csv\n",
            "📥 Downloading POONAWALLA.NS ...\n"
          ]
        },
        {
          "name": "stderr",
          "output_type": "stream",
          "text": [
            "/tmp/ipython-input-4-2200874810.py:19: FutureWarning: YF.download() has changed argument auto_adjust default to True\n",
            "  data = yf.download(ticker, period=\"60d\", interval=\"5m\", progress=False)\n"
          ]
        },
        {
          "name": "stdout",
          "output_type": "stream",
          "text": [
            "✅ Saved: fo_5min_data/POONAWALLA_5min.csv\n",
            "📥 Downloading ALKEM.NS ...\n"
          ]
        },
        {
          "name": "stderr",
          "output_type": "stream",
          "text": [
            "/tmp/ipython-input-4-2200874810.py:19: FutureWarning: YF.download() has changed argument auto_adjust default to True\n",
            "  data = yf.download(ticker, period=\"60d\", interval=\"5m\", progress=False)\n"
          ]
        },
        {
          "name": "stdout",
          "output_type": "stream",
          "text": [
            "✅ Saved: fo_5min_data/ALKEM_5min.csv\n",
            "📥 Downloading RELIANCE.NS ...\n"
          ]
        },
        {
          "name": "stderr",
          "output_type": "stream",
          "text": [
            "/tmp/ipython-input-4-2200874810.py:19: FutureWarning: YF.download() has changed argument auto_adjust default to True\n",
            "  data = yf.download(ticker, period=\"60d\", interval=\"5m\", progress=False)\n"
          ]
        },
        {
          "name": "stdout",
          "output_type": "stream",
          "text": [
            "✅ Saved: fo_5min_data/RELIANCE_5min.csv\n",
            "📥 Downloading UPL.NS ...\n"
          ]
        },
        {
          "name": "stderr",
          "output_type": "stream",
          "text": [
            "/tmp/ipython-input-4-2200874810.py:19: FutureWarning: YF.download() has changed argument auto_adjust default to True\n",
            "  data = yf.download(ticker, period=\"60d\", interval=\"5m\", progress=False)\n"
          ]
        },
        {
          "name": "stdout",
          "output_type": "stream",
          "text": [
            "✅ Saved: fo_5min_data/UPL_5min.csv\n",
            "📥 Downloading MANKIND.NS ...\n"
          ]
        },
        {
          "name": "stderr",
          "output_type": "stream",
          "text": [
            "/tmp/ipython-input-4-2200874810.py:19: FutureWarning: YF.download() has changed argument auto_adjust default to True\n",
            "  data = yf.download(ticker, period=\"60d\", interval=\"5m\", progress=False)\n"
          ]
        },
        {
          "name": "stdout",
          "output_type": "stream",
          "text": [
            "✅ Saved: fo_5min_data/MANKIND_5min.csv\n",
            "📥 Downloading SRF.NS ...\n"
          ]
        },
        {
          "name": "stderr",
          "output_type": "stream",
          "text": [
            "/tmp/ipython-input-4-2200874810.py:19: FutureWarning: YF.download() has changed argument auto_adjust default to True\n",
            "  data = yf.download(ticker, period=\"60d\", interval=\"5m\", progress=False)\n"
          ]
        },
        {
          "name": "stdout",
          "output_type": "stream",
          "text": [
            "✅ Saved: fo_5min_data/SRF_5min.csv\n",
            "📥 Downloading SOLARINDS.NS ...\n"
          ]
        },
        {
          "name": "stderr",
          "output_type": "stream",
          "text": [
            "/tmp/ipython-input-4-2200874810.py:19: FutureWarning: YF.download() has changed argument auto_adjust default to True\n",
            "  data = yf.download(ticker, period=\"60d\", interval=\"5m\", progress=False)\n"
          ]
        },
        {
          "name": "stdout",
          "output_type": "stream",
          "text": [
            "✅ Saved: fo_5min_data/SOLARINDS_5min.csv\n",
            "📥 Downloading BALKRISIND.NS ...\n"
          ]
        },
        {
          "name": "stderr",
          "output_type": "stream",
          "text": [
            "/tmp/ipython-input-4-2200874810.py:19: FutureWarning: YF.download() has changed argument auto_adjust default to True\n",
            "  data = yf.download(ticker, period=\"60d\", interval=\"5m\", progress=False)\n"
          ]
        },
        {
          "name": "stdout",
          "output_type": "stream",
          "text": [
            "✅ Saved: fo_5min_data/BALKRISIND_5min.csv\n",
            "📥 Downloading HINDUNILVR.NS ...\n"
          ]
        },
        {
          "name": "stderr",
          "output_type": "stream",
          "text": [
            "/tmp/ipython-input-4-2200874810.py:19: FutureWarning: YF.download() has changed argument auto_adjust default to True\n",
            "  data = yf.download(ticker, period=\"60d\", interval=\"5m\", progress=False)\n"
          ]
        },
        {
          "name": "stdout",
          "output_type": "stream",
          "text": [
            "✅ Saved: fo_5min_data/HINDUNILVR_5min.csv\n",
            "📥 Downloading TATAELXSI.NS ...\n"
          ]
        },
        {
          "name": "stderr",
          "output_type": "stream",
          "text": [
            "/tmp/ipython-input-4-2200874810.py:19: FutureWarning: YF.download() has changed argument auto_adjust default to True\n",
            "  data = yf.download(ticker, period=\"60d\", interval=\"5m\", progress=False)\n"
          ]
        },
        {
          "name": "stdout",
          "output_type": "stream",
          "text": [
            "✅ Saved: fo_5min_data/TATAELXSI_5min.csv\n",
            "📥 Downloading NESTLEIND.NS ...\n"
          ]
        },
        {
          "name": "stderr",
          "output_type": "stream",
          "text": [
            "/tmp/ipython-input-4-2200874810.py:19: FutureWarning: YF.download() has changed argument auto_adjust default to True\n",
            "  data = yf.download(ticker, period=\"60d\", interval=\"5m\", progress=False)\n"
          ]
        },
        {
          "name": "stdout",
          "output_type": "stream",
          "text": [
            "✅ Saved: fo_5min_data/NESTLEIND_5min.csv\n",
            "📥 Downloading BIOCON.NS ...\n"
          ]
        },
        {
          "name": "stderr",
          "output_type": "stream",
          "text": [
            "/tmp/ipython-input-4-2200874810.py:19: FutureWarning: YF.download() has changed argument auto_adjust default to True\n",
            "  data = yf.download(ticker, period=\"60d\", interval=\"5m\", progress=False)\n"
          ]
        },
        {
          "name": "stdout",
          "output_type": "stream",
          "text": [
            "✅ Saved: fo_5min_data/BIOCON_5min.csv\n",
            "📥 Downloading DIXON.NS ...\n"
          ]
        },
        {
          "name": "stderr",
          "output_type": "stream",
          "text": [
            "/tmp/ipython-input-4-2200874810.py:19: FutureWarning: YF.download() has changed argument auto_adjust default to True\n",
            "  data = yf.download(ticker, period=\"60d\", interval=\"5m\", progress=False)\n"
          ]
        },
        {
          "name": "stdout",
          "output_type": "stream",
          "text": [
            "✅ Saved: fo_5min_data/DIXON_5min.csv\n",
            "📥 Downloading INOXWIND.NS ...\n"
          ]
        },
        {
          "name": "stderr",
          "output_type": "stream",
          "text": [
            "/tmp/ipython-input-4-2200874810.py:19: FutureWarning: YF.download() has changed argument auto_adjust default to True\n",
            "  data = yf.download(ticker, period=\"60d\", interval=\"5m\", progress=False)\n"
          ]
        },
        {
          "name": "stdout",
          "output_type": "stream",
          "text": [
            "✅ Saved: fo_5min_data/INOXWIND_5min.csv\n",
            "📥 Downloading SUNPHARMA.NS ...\n"
          ]
        },
        {
          "name": "stderr",
          "output_type": "stream",
          "text": [
            "/tmp/ipython-input-4-2200874810.py:19: FutureWarning: YF.download() has changed argument auto_adjust default to True\n",
            "  data = yf.download(ticker, period=\"60d\", interval=\"5m\", progress=False)\n"
          ]
        },
        {
          "name": "stdout",
          "output_type": "stream",
          "text": [
            "✅ Saved: fo_5min_data/SUNPHARMA_5min.csv\n",
            "📥 Downloading JSWENERGY.NS ...\n"
          ]
        },
        {
          "name": "stderr",
          "output_type": "stream",
          "text": [
            "/tmp/ipython-input-4-2200874810.py:19: FutureWarning: YF.download() has changed argument auto_adjust default to True\n",
            "  data = yf.download(ticker, period=\"60d\", interval=\"5m\", progress=False)\n"
          ]
        },
        {
          "name": "stdout",
          "output_type": "stream",
          "text": [
            "✅ Saved: fo_5min_data/JSWENERGY_5min.csv\n",
            "📥 Downloading BEL.NS ...\n"
          ]
        },
        {
          "name": "stderr",
          "output_type": "stream",
          "text": [
            "/tmp/ipython-input-4-2200874810.py:19: FutureWarning: YF.download() has changed argument auto_adjust default to True\n",
            "  data = yf.download(ticker, period=\"60d\", interval=\"5m\", progress=False)\n"
          ]
        },
        {
          "name": "stdout",
          "output_type": "stream",
          "text": [
            "✅ Saved: fo_5min_data/BEL_5min.csv\n",
            "📥 Downloading PIDILITIND.NS ...\n"
          ]
        },
        {
          "name": "stderr",
          "output_type": "stream",
          "text": [
            "/tmp/ipython-input-4-2200874810.py:19: FutureWarning: YF.download() has changed argument auto_adjust default to True\n",
            "  data = yf.download(ticker, period=\"60d\", interval=\"5m\", progress=False)\n"
          ]
        },
        {
          "name": "stdout",
          "output_type": "stream",
          "text": [
            "✅ Saved: fo_5min_data/PIDILITIND_5min.csv\n",
            "📥 Downloading SBIN.NS ...\n"
          ]
        },
        {
          "name": "stderr",
          "output_type": "stream",
          "text": [
            "/tmp/ipython-input-4-2200874810.py:19: FutureWarning: YF.download() has changed argument auto_adjust default to True\n",
            "  data = yf.download(ticker, period=\"60d\", interval=\"5m\", progress=False)\n"
          ]
        },
        {
          "name": "stdout",
          "output_type": "stream",
          "text": [
            "✅ Saved: fo_5min_data/SBIN_5min.csv\n",
            "📥 Downloading MANAPPURAM.NS ...\n"
          ]
        },
        {
          "name": "stderr",
          "output_type": "stream",
          "text": [
            "/tmp/ipython-input-4-2200874810.py:19: FutureWarning: YF.download() has changed argument auto_adjust default to True\n",
            "  data = yf.download(ticker, period=\"60d\", interval=\"5m\", progress=False)\n"
          ]
        },
        {
          "name": "stdout",
          "output_type": "stream",
          "text": [
            "✅ Saved: fo_5min_data/MANAPPURAM_5min.csv\n",
            "📥 Downloading MAXHEALTH.NS ...\n"
          ]
        },
        {
          "name": "stderr",
          "output_type": "stream",
          "text": [
            "/tmp/ipython-input-4-2200874810.py:19: FutureWarning: YF.download() has changed argument auto_adjust default to True\n",
            "  data = yf.download(ticker, period=\"60d\", interval=\"5m\", progress=False)\n"
          ]
        },
        {
          "name": "stdout",
          "output_type": "stream",
          "text": [
            "✅ Saved: fo_5min_data/MAXHEALTH_5min.csv\n",
            "📥 Downloading DABUR.NS ...\n"
          ]
        },
        {
          "name": "stderr",
          "output_type": "stream",
          "text": [
            "/tmp/ipython-input-4-2200874810.py:19: FutureWarning: YF.download() has changed argument auto_adjust default to True\n",
            "  data = yf.download(ticker, period=\"60d\", interval=\"5m\", progress=False)\n"
          ]
        },
        {
          "name": "stdout",
          "output_type": "stream",
          "text": [
            "✅ Saved: fo_5min_data/DABUR_5min.csv\n",
            "📥 Downloading HEROMOTOCO.NS ...\n"
          ]
        },
        {
          "name": "stderr",
          "output_type": "stream",
          "text": [
            "/tmp/ipython-input-4-2200874810.py:19: FutureWarning: YF.download() has changed argument auto_adjust default to True\n",
            "  data = yf.download(ticker, period=\"60d\", interval=\"5m\", progress=False)\n"
          ]
        },
        {
          "name": "stdout",
          "output_type": "stream",
          "text": [
            "✅ Saved: fo_5min_data/HEROMOTOCO_5min.csv\n",
            "📥 Downloading BPCL.NS ...\n"
          ]
        },
        {
          "name": "stderr",
          "output_type": "stream",
          "text": [
            "/tmp/ipython-input-4-2200874810.py:19: FutureWarning: YF.download() has changed argument auto_adjust default to True\n",
            "  data = yf.download(ticker, period=\"60d\", interval=\"5m\", progress=False)\n"
          ]
        },
        {
          "name": "stdout",
          "output_type": "stream",
          "text": [
            "✅ Saved: fo_5min_data/BPCL_5min.csv\n",
            "📥 Downloading HINDALCO.NS ...\n"
          ]
        },
        {
          "name": "stderr",
          "output_type": "stream",
          "text": [
            "/tmp/ipython-input-4-2200874810.py:19: FutureWarning: YF.download() has changed argument auto_adjust default to True\n",
            "  data = yf.download(ticker, period=\"60d\", interval=\"5m\", progress=False)\n"
          ]
        },
        {
          "name": "stdout",
          "output_type": "stream",
          "text": [
            "✅ Saved: fo_5min_data/HINDALCO_5min.csv\n",
            "📥 Downloading ABB.NS ...\n"
          ]
        },
        {
          "name": "stderr",
          "output_type": "stream",
          "text": [
            "/tmp/ipython-input-4-2200874810.py:19: FutureWarning: YF.download() has changed argument auto_adjust default to True\n",
            "  data = yf.download(ticker, period=\"60d\", interval=\"5m\", progress=False)\n"
          ]
        },
        {
          "name": "stdout",
          "output_type": "stream",
          "text": [
            "✅ Saved: fo_5min_data/ABB_5min.csv\n",
            "📥 Downloading HDFCLIFE.NS ...\n"
          ]
        },
        {
          "name": "stderr",
          "output_type": "stream",
          "text": [
            "/tmp/ipython-input-4-2200874810.py:19: FutureWarning: YF.download() has changed argument auto_adjust default to True\n",
            "  data = yf.download(ticker, period=\"60d\", interval=\"5m\", progress=False)\n"
          ]
        },
        {
          "name": "stdout",
          "output_type": "stream",
          "text": [
            "✅ Saved: fo_5min_data/HDFCLIFE_5min.csv\n",
            "📥 Downloading PPLPHARMA.NS ...\n"
          ]
        },
        {
          "name": "stderr",
          "output_type": "stream",
          "text": [
            "/tmp/ipython-input-4-2200874810.py:19: FutureWarning: YF.download() has changed argument auto_adjust default to True\n",
            "  data = yf.download(ticker, period=\"60d\", interval=\"5m\", progress=False)\n"
          ]
        },
        {
          "name": "stdout",
          "output_type": "stream",
          "text": [
            "✅ Saved: fo_5min_data/PPLPHARMA_5min.csv\n",
            "📥 Downloading PETRONET.NS ...\n"
          ]
        },
        {
          "name": "stderr",
          "output_type": "stream",
          "text": [
            "/tmp/ipython-input-4-2200874810.py:19: FutureWarning: YF.download() has changed argument auto_adjust default to True\n",
            "  data = yf.download(ticker, period=\"60d\", interval=\"5m\", progress=False)\n"
          ]
        },
        {
          "name": "stdout",
          "output_type": "stream",
          "text": [
            "✅ Saved: fo_5min_data/PETRONET_5min.csv\n",
            "📥 Downloading EICHERMOT.NS ...\n"
          ]
        },
        {
          "name": "stderr",
          "output_type": "stream",
          "text": [
            "/tmp/ipython-input-4-2200874810.py:19: FutureWarning: YF.download() has changed argument auto_adjust default to True\n",
            "  data = yf.download(ticker, period=\"60d\", interval=\"5m\", progress=False)\n"
          ]
        },
        {
          "name": "stdout",
          "output_type": "stream",
          "text": [
            "✅ Saved: fo_5min_data/EICHERMOT_5min.csv\n",
            "📥 Downloading TORNTPOWER.NS ...\n"
          ]
        },
        {
          "name": "stderr",
          "output_type": "stream",
          "text": [
            "/tmp/ipython-input-4-2200874810.py:19: FutureWarning: YF.download() has changed argument auto_adjust default to True\n",
            "  data = yf.download(ticker, period=\"60d\", interval=\"5m\", progress=False)\n"
          ]
        },
        {
          "name": "stdout",
          "output_type": "stream",
          "text": [
            "✅ Saved: fo_5min_data/TORNTPOWER_5min.csv\n",
            "📥 Downloading BANKBARODA.NS ...\n"
          ]
        },
        {
          "name": "stderr",
          "output_type": "stream",
          "text": [
            "/tmp/ipython-input-4-2200874810.py:19: FutureWarning: YF.download() has changed argument auto_adjust default to True\n",
            "  data = yf.download(ticker, period=\"60d\", interval=\"5m\", progress=False)\n"
          ]
        },
        {
          "name": "stdout",
          "output_type": "stream",
          "text": [
            "✅ Saved: fo_5min_data/BANKBARODA_5min.csv\n",
            "📥 Downloading RBLBANK.NS ...\n"
          ]
        },
        {
          "name": "stderr",
          "output_type": "stream",
          "text": [
            "/tmp/ipython-input-4-2200874810.py:19: FutureWarning: YF.download() has changed argument auto_adjust default to True\n",
            "  data = yf.download(ticker, period=\"60d\", interval=\"5m\", progress=False)\n"
          ]
        },
        {
          "name": "stdout",
          "output_type": "stream",
          "text": [
            "✅ Saved: fo_5min_data/RBLBANK_5min.csv\n",
            "📥 Downloading TATAPOWER.NS ...\n"
          ]
        },
        {
          "name": "stderr",
          "output_type": "stream",
          "text": [
            "/tmp/ipython-input-4-2200874810.py:19: FutureWarning: YF.download() has changed argument auto_adjust default to True\n",
            "  data = yf.download(ticker, period=\"60d\", interval=\"5m\", progress=False)\n"
          ]
        },
        {
          "name": "stdout",
          "output_type": "stream",
          "text": [
            "✅ Saved: fo_5min_data/TATAPOWER_5min.csv\n",
            "📥 Downloading CDSL.NS ...\n"
          ]
        },
        {
          "name": "stderr",
          "output_type": "stream",
          "text": [
            "/tmp/ipython-input-4-2200874810.py:19: FutureWarning: YF.download() has changed argument auto_adjust default to True\n",
            "  data = yf.download(ticker, period=\"60d\", interval=\"5m\", progress=False)\n"
          ]
        },
        {
          "name": "stdout",
          "output_type": "stream",
          "text": [
            "✅ Saved: fo_5min_data/CDSL_5min.csv\n",
            "📥 Downloading DALBHARAT.NS ...\n"
          ]
        },
        {
          "name": "stderr",
          "output_type": "stream",
          "text": [
            "/tmp/ipython-input-4-2200874810.py:19: FutureWarning: YF.download() has changed argument auto_adjust default to True\n",
            "  data = yf.download(ticker, period=\"60d\", interval=\"5m\", progress=False)\n"
          ]
        },
        {
          "name": "stdout",
          "output_type": "stream",
          "text": [
            "✅ Saved: fo_5min_data/DALBHARAT_5min.csv\n",
            "📥 Downloading ADANIPORTS.NS ...\n"
          ]
        },
        {
          "name": "stderr",
          "output_type": "stream",
          "text": [
            "/tmp/ipython-input-4-2200874810.py:19: FutureWarning: YF.download() has changed argument auto_adjust default to True\n",
            "  data = yf.download(ticker, period=\"60d\", interval=\"5m\", progress=False)\n"
          ]
        },
        {
          "name": "stdout",
          "output_type": "stream",
          "text": [
            "✅ Saved: fo_5min_data/ADANIPORTS_5min.csv\n",
            "📥 Downloading MARICO.NS ...\n"
          ]
        },
        {
          "name": "stderr",
          "output_type": "stream",
          "text": [
            "/tmp/ipython-input-4-2200874810.py:19: FutureWarning: YF.download() has changed argument auto_adjust default to True\n",
            "  data = yf.download(ticker, period=\"60d\", interval=\"5m\", progress=False)\n"
          ]
        },
        {
          "name": "stdout",
          "output_type": "stream",
          "text": [
            "✅ Saved: fo_5min_data/MARICO_5min.csv\n",
            "📥 Downloading VBL.NS ...\n"
          ]
        },
        {
          "name": "stderr",
          "output_type": "stream",
          "text": [
            "/tmp/ipython-input-4-2200874810.py:19: FutureWarning: YF.download() has changed argument auto_adjust default to True\n",
            "  data = yf.download(ticker, period=\"60d\", interval=\"5m\", progress=False)\n"
          ]
        },
        {
          "name": "stdout",
          "output_type": "stream",
          "text": [
            "✅ Saved: fo_5min_data/VBL_5min.csv\n",
            "📥 Downloading AARTIIND.NS ...\n"
          ]
        },
        {
          "name": "stderr",
          "output_type": "stream",
          "text": [
            "/tmp/ipython-input-4-2200874810.py:19: FutureWarning: YF.download() has changed argument auto_adjust default to True\n",
            "  data = yf.download(ticker, period=\"60d\", interval=\"5m\", progress=False)\n"
          ]
        },
        {
          "name": "stdout",
          "output_type": "stream",
          "text": [
            "✅ Saved: fo_5min_data/AARTIIND_5min.csv\n",
            "📥 Downloading BHARTIARTL.NS ...\n"
          ]
        },
        {
          "name": "stderr",
          "output_type": "stream",
          "text": [
            "/tmp/ipython-input-4-2200874810.py:19: FutureWarning: YF.download() has changed argument auto_adjust default to True\n",
            "  data = yf.download(ticker, period=\"60d\", interval=\"5m\", progress=False)\n"
          ]
        },
        {
          "name": "stdout",
          "output_type": "stream",
          "text": [
            "✅ Saved: fo_5min_data/BHARTIARTL_5min.csv\n",
            "📥 Downloading IOC.NS ...\n"
          ]
        },
        {
          "name": "stderr",
          "output_type": "stream",
          "text": [
            "/tmp/ipython-input-4-2200874810.py:19: FutureWarning: YF.download() has changed argument auto_adjust default to True\n",
            "  data = yf.download(ticker, period=\"60d\", interval=\"5m\", progress=False)\n"
          ]
        },
        {
          "name": "stdout",
          "output_type": "stream",
          "text": [
            "✅ Saved: fo_5min_data/IOC_5min.csv\n",
            "📥 Downloading IDFCFIRSTB.NS ...\n"
          ]
        },
        {
          "name": "stderr",
          "output_type": "stream",
          "text": [
            "/tmp/ipython-input-4-2200874810.py:19: FutureWarning: YF.download() has changed argument auto_adjust default to True\n",
            "  data = yf.download(ticker, period=\"60d\", interval=\"5m\", progress=False)\n"
          ]
        },
        {
          "name": "stdout",
          "output_type": "stream",
          "text": [
            "✅ Saved: fo_5min_data/IDFCFIRSTB_5min.csv\n",
            "📥 Downloading DIVISLAB.NS ...\n"
          ]
        },
        {
          "name": "stderr",
          "output_type": "stream",
          "text": [
            "/tmp/ipython-input-4-2200874810.py:19: FutureWarning: YF.download() has changed argument auto_adjust default to True\n",
            "  data = yf.download(ticker, period=\"60d\", interval=\"5m\", progress=False)\n"
          ]
        },
        {
          "name": "stdout",
          "output_type": "stream",
          "text": [
            "✅ Saved: fo_5min_data/DIVISLAB_5min.csv\n",
            "📥 Downloading CYIENT.NS ...\n"
          ]
        },
        {
          "name": "stderr",
          "output_type": "stream",
          "text": [
            "/tmp/ipython-input-4-2200874810.py:19: FutureWarning: YF.download() has changed argument auto_adjust default to True\n",
            "  data = yf.download(ticker, period=\"60d\", interval=\"5m\", progress=False)\n"
          ]
        },
        {
          "name": "stdout",
          "output_type": "stream",
          "text": [
            "✅ Saved: fo_5min_data/CYIENT_5min.csv\n",
            "📥 Downloading UNIONBANK.NS ...\n"
          ]
        },
        {
          "name": "stderr",
          "output_type": "stream",
          "text": [
            "/tmp/ipython-input-4-2200874810.py:19: FutureWarning: YF.download() has changed argument auto_adjust default to True\n",
            "  data = yf.download(ticker, period=\"60d\", interval=\"5m\", progress=False)\n"
          ]
        },
        {
          "name": "stdout",
          "output_type": "stream",
          "text": [
            "✅ Saved: fo_5min_data/UNIONBANK_5min.csv\n",
            "📥 Downloading COFORGE.NS ...\n"
          ]
        },
        {
          "name": "stderr",
          "output_type": "stream",
          "text": [
            "/tmp/ipython-input-4-2200874810.py:19: FutureWarning: YF.download() has changed argument auto_adjust default to True\n",
            "  data = yf.download(ticker, period=\"60d\", interval=\"5m\", progress=False)\n"
          ]
        },
        {
          "name": "stdout",
          "output_type": "stream",
          "text": [
            "✅ Saved: fo_5min_data/COFORGE_5min.csv\n",
            "📥 Downloading TATAMOTORS.NS ...\n"
          ]
        },
        {
          "name": "stderr",
          "output_type": "stream",
          "text": [
            "/tmp/ipython-input-4-2200874810.py:19: FutureWarning: YF.download() has changed argument auto_adjust default to True\n",
            "  data = yf.download(ticker, period=\"60d\", interval=\"5m\", progress=False)\n"
          ]
        },
        {
          "name": "stdout",
          "output_type": "stream",
          "text": [
            "✅ Saved: fo_5min_data/TATAMOTORS_5min.csv\n",
            "📥 Downloading TATASTEEL.NS ...\n"
          ]
        },
        {
          "name": "stderr",
          "output_type": "stream",
          "text": [
            "/tmp/ipython-input-4-2200874810.py:19: FutureWarning: YF.download() has changed argument auto_adjust default to True\n",
            "  data = yf.download(ticker, period=\"60d\", interval=\"5m\", progress=False)\n"
          ]
        },
        {
          "name": "stdout",
          "output_type": "stream",
          "text": [
            "✅ Saved: fo_5min_data/TATASTEEL_5min.csv\n",
            "📥 Downloading LT.NS ...\n"
          ]
        },
        {
          "name": "stderr",
          "output_type": "stream",
          "text": [
            "/tmp/ipython-input-4-2200874810.py:19: FutureWarning: YF.download() has changed argument auto_adjust default to True\n",
            "  data = yf.download(ticker, period=\"60d\", interval=\"5m\", progress=False)\n"
          ]
        },
        {
          "name": "stdout",
          "output_type": "stream",
          "text": [
            "✅ Saved: fo_5min_data/LT_5min.csv\n",
            "📥 Downloading HINDZINC.NS ...\n"
          ]
        },
        {
          "name": "stderr",
          "output_type": "stream",
          "text": [
            "/tmp/ipython-input-4-2200874810.py:19: FutureWarning: YF.download() has changed argument auto_adjust default to True\n",
            "  data = yf.download(ticker, period=\"60d\", interval=\"5m\", progress=False)\n"
          ]
        },
        {
          "name": "stdout",
          "output_type": "stream",
          "text": [
            "✅ Saved: fo_5min_data/HINDZINC_5min.csv\n",
            "📥 Downloading YESBANK.NS ...\n"
          ]
        },
        {
          "name": "stderr",
          "output_type": "stream",
          "text": [
            "/tmp/ipython-input-4-2200874810.py:19: FutureWarning: YF.download() has changed argument auto_adjust default to True\n",
            "  data = yf.download(ticker, period=\"60d\", interval=\"5m\", progress=False)\n"
          ]
        },
        {
          "name": "stdout",
          "output_type": "stream",
          "text": [
            "✅ Saved: fo_5min_data/YESBANK_5min.csv\n",
            "📥 Downloading PIIND.NS ...\n"
          ]
        },
        {
          "name": "stderr",
          "output_type": "stream",
          "text": [
            "/tmp/ipython-input-4-2200874810.py:19: FutureWarning: YF.download() has changed argument auto_adjust default to True\n",
            "  data = yf.download(ticker, period=\"60d\", interval=\"5m\", progress=False)\n"
          ]
        },
        {
          "name": "stdout",
          "output_type": "stream",
          "text": [
            "✅ Saved: fo_5min_data/PIIND_5min.csv\n",
            "📥 Downloading SIEMENS.NS ...\n"
          ]
        },
        {
          "name": "stderr",
          "output_type": "stream",
          "text": [
            "/tmp/ipython-input-4-2200874810.py:19: FutureWarning: YF.download() has changed argument auto_adjust default to True\n",
            "  data = yf.download(ticker, period=\"60d\", interval=\"5m\", progress=False)\n"
          ]
        },
        {
          "name": "stdout",
          "output_type": "stream",
          "text": [
            "✅ Saved: fo_5min_data/SIEMENS_5min.csv\n",
            "📥 Downloading MFSL.NS ...\n"
          ]
        },
        {
          "name": "stderr",
          "output_type": "stream",
          "text": [
            "/tmp/ipython-input-4-2200874810.py:19: FutureWarning: YF.download() has changed argument auto_adjust default to True\n",
            "  data = yf.download(ticker, period=\"60d\", interval=\"5m\", progress=False)\n"
          ]
        },
        {
          "name": "stdout",
          "output_type": "stream",
          "text": [
            "✅ Saved: fo_5min_data/MFSL_5min.csv\n",
            "📥 Downloading CHAMBLFERT.NS ...\n"
          ]
        },
        {
          "name": "stderr",
          "output_type": "stream",
          "text": [
            "/tmp/ipython-input-4-2200874810.py:19: FutureWarning: YF.download() has changed argument auto_adjust default to True\n",
            "  data = yf.download(ticker, period=\"60d\", interval=\"5m\", progress=False)\n"
          ]
        },
        {
          "name": "stdout",
          "output_type": "stream",
          "text": [
            "✅ Saved: fo_5min_data/CHAMBLFERT_5min.csv\n",
            "📥 Downloading ABFRL.NS ...\n"
          ]
        },
        {
          "name": "stderr",
          "output_type": "stream",
          "text": [
            "/tmp/ipython-input-4-2200874810.py:19: FutureWarning: YF.download() has changed argument auto_adjust default to True\n",
            "  data = yf.download(ticker, period=\"60d\", interval=\"5m\", progress=False)\n"
          ]
        },
        {
          "name": "stdout",
          "output_type": "stream",
          "text": [
            "✅ Saved: fo_5min_data/ABFRL_5min.csv\n",
            "📥 Downloading BANKNIFTY.NS ...\n"
          ]
        },
        {
          "name": "stderr",
          "output_type": "stream",
          "text": [
            "/tmp/ipython-input-4-2200874810.py:19: FutureWarning: YF.download() has changed argument auto_adjust default to True\n",
            "  data = yf.download(ticker, period=\"60d\", interval=\"5m\", progress=False)\n",
            "ERROR:yfinance:\n",
            "1 Failed download:\n",
            "ERROR:yfinance:['BANKNIFTY.NS']: YFPricesMissingError('possibly delisted; no price data found  (period=60d) (Yahoo error = \"No data found, symbol may be delisted\")')\n",
            "/tmp/ipython-input-4-2200874810.py:19: FutureWarning: YF.download() has changed argument auto_adjust default to True\n",
            "  data = yf.download(ticker, period=\"60d\", interval=\"5m\", progress=False)\n"
          ]
        },
        {
          "name": "stdout",
          "output_type": "stream",
          "text": [
            "⚠️ No data for BANKNIFTY.NS, skipping.\n",
            "📥 Downloading PAYTM.NS ...\n",
            "✅ Saved: fo_5min_data/PAYTM_5min.csv\n",
            "📥 Downloading TVSMOTOR.NS ...\n"
          ]
        },
        {
          "name": "stderr",
          "output_type": "stream",
          "text": [
            "/tmp/ipython-input-4-2200874810.py:19: FutureWarning: YF.download() has changed argument auto_adjust default to True\n",
            "  data = yf.download(ticker, period=\"60d\", interval=\"5m\", progress=False)\n"
          ]
        },
        {
          "name": "stdout",
          "output_type": "stream",
          "text": [
            "✅ Saved: fo_5min_data/TVSMOTOR_5min.csv\n",
            "📥 Downloading NIFTY.NS ...\n"
          ]
        },
        {
          "name": "stderr",
          "output_type": "stream",
          "text": [
            "/tmp/ipython-input-4-2200874810.py:19: FutureWarning: YF.download() has changed argument auto_adjust default to True\n",
            "  data = yf.download(ticker, period=\"60d\", interval=\"5m\", progress=False)\n",
            "ERROR:yfinance:\n",
            "1 Failed download:\n",
            "ERROR:yfinance:['NIFTY.NS']: YFPricesMissingError('possibly delisted; no price data found  (period=60d) (Yahoo error = \"No data found, symbol may be delisted\")')\n",
            "/tmp/ipython-input-4-2200874810.py:19: FutureWarning: YF.download() has changed argument auto_adjust default to True\n",
            "  data = yf.download(ticker, period=\"60d\", interval=\"5m\", progress=False)\n"
          ]
        },
        {
          "name": "stdout",
          "output_type": "stream",
          "text": [
            "⚠️ No data for NIFTY.NS, skipping.\n",
            "📥 Downloading TATACOMM.NS ...\n",
            "✅ Saved: fo_5min_data/TATACOMM_5min.csv\n",
            "📥 Downloading LUPIN.NS ...\n"
          ]
        },
        {
          "name": "stderr",
          "output_type": "stream",
          "text": [
            "/tmp/ipython-input-4-2200874810.py:19: FutureWarning: YF.download() has changed argument auto_adjust default to True\n",
            "  data = yf.download(ticker, period=\"60d\", interval=\"5m\", progress=False)\n"
          ]
        },
        {
          "name": "stdout",
          "output_type": "stream",
          "text": [
            "✅ Saved: fo_5min_data/LUPIN_5min.csv\n",
            "📥 Downloading NTPC.NS ...\n"
          ]
        },
        {
          "name": "stderr",
          "output_type": "stream",
          "text": [
            "/tmp/ipython-input-4-2200874810.py:19: FutureWarning: YF.download() has changed argument auto_adjust default to True\n",
            "  data = yf.download(ticker, period=\"60d\", interval=\"5m\", progress=False)\n"
          ]
        },
        {
          "name": "stdout",
          "output_type": "stream",
          "text": [
            "✅ Saved: fo_5min_data/NTPC_5min.csv\n",
            "📥 Downloading ASHOKLEY.NS ...\n"
          ]
        },
        {
          "name": "stderr",
          "output_type": "stream",
          "text": [
            "/tmp/ipython-input-4-2200874810.py:19: FutureWarning: YF.download() has changed argument auto_adjust default to True\n",
            "  data = yf.download(ticker, period=\"60d\", interval=\"5m\", progress=False)\n"
          ]
        },
        {
          "name": "stdout",
          "output_type": "stream",
          "text": [
            "✅ Saved: fo_5min_data/ASHOKLEY_5min.csv\n",
            "📥 Downloading PFC.NS ...\n"
          ]
        },
        {
          "name": "stderr",
          "output_type": "stream",
          "text": [
            "/tmp/ipython-input-4-2200874810.py:19: FutureWarning: YF.download() has changed argument auto_adjust default to True\n",
            "  data = yf.download(ticker, period=\"60d\", interval=\"5m\", progress=False)\n"
          ]
        },
        {
          "name": "stdout",
          "output_type": "stream",
          "text": [
            "✅ Saved: fo_5min_data/PFC_5min.csv\n",
            "📥 Downloading BANDHANBNK.NS ...\n"
          ]
        },
        {
          "name": "stderr",
          "output_type": "stream",
          "text": [
            "/tmp/ipython-input-4-2200874810.py:19: FutureWarning: YF.download() has changed argument auto_adjust default to True\n",
            "  data = yf.download(ticker, period=\"60d\", interval=\"5m\", progress=False)\n"
          ]
        },
        {
          "name": "stdout",
          "output_type": "stream",
          "text": [
            "✅ Saved: fo_5min_data/BANDHANBNK_5min.csv\n",
            "📥 Downloading CONCOR.NS ...\n"
          ]
        },
        {
          "name": "stderr",
          "output_type": "stream",
          "text": [
            "/tmp/ipython-input-4-2200874810.py:19: FutureWarning: YF.download() has changed argument auto_adjust default to True\n",
            "  data = yf.download(ticker, period=\"60d\", interval=\"5m\", progress=False)\n"
          ]
        },
        {
          "name": "stdout",
          "output_type": "stream",
          "text": [
            "✅ Saved: fo_5min_data/CONCOR_5min.csv\n",
            "📥 Downloading ANGELONE.NS ...\n"
          ]
        },
        {
          "name": "stderr",
          "output_type": "stream",
          "text": [
            "/tmp/ipython-input-4-2200874810.py:19: FutureWarning: YF.download() has changed argument auto_adjust default to True\n",
            "  data = yf.download(ticker, period=\"60d\", interval=\"5m\", progress=False)\n"
          ]
        },
        {
          "name": "stdout",
          "output_type": "stream",
          "text": [
            "✅ Saved: fo_5min_data/ANGELONE_5min.csv\n",
            "📥 Downloading POLYCAB.NS ...\n"
          ]
        },
        {
          "name": "stderr",
          "output_type": "stream",
          "text": [
            "/tmp/ipython-input-4-2200874810.py:19: FutureWarning: YF.download() has changed argument auto_adjust default to True\n",
            "  data = yf.download(ticker, period=\"60d\", interval=\"5m\", progress=False)\n"
          ]
        },
        {
          "name": "stdout",
          "output_type": "stream",
          "text": [
            "✅ Saved: fo_5min_data/POLYCAB_5min.csv\n",
            "📥 Downloading MCX.NS ...\n"
          ]
        },
        {
          "name": "stderr",
          "output_type": "stream",
          "text": [
            "/tmp/ipython-input-4-2200874810.py:19: FutureWarning: YF.download() has changed argument auto_adjust default to True\n",
            "  data = yf.download(ticker, period=\"60d\", interval=\"5m\", progress=False)\n"
          ]
        },
        {
          "name": "stdout",
          "output_type": "stream",
          "text": [
            "✅ Saved: fo_5min_data/MCX_5min.csv\n",
            "📥 Downloading NHPC.NS ...\n"
          ]
        },
        {
          "name": "stderr",
          "output_type": "stream",
          "text": [
            "/tmp/ipython-input-4-2200874810.py:19: FutureWarning: YF.download() has changed argument auto_adjust default to True\n",
            "  data = yf.download(ticker, period=\"60d\", interval=\"5m\", progress=False)\n"
          ]
        },
        {
          "name": "stdout",
          "output_type": "stream",
          "text": [
            "✅ Saved: fo_5min_data/NHPC_5min.csv\n",
            "📥 Downloading KOTAKBANK.NS ...\n"
          ]
        },
        {
          "name": "stderr",
          "output_type": "stream",
          "text": [
            "/tmp/ipython-input-4-2200874810.py:19: FutureWarning: YF.download() has changed argument auto_adjust default to True\n",
            "  data = yf.download(ticker, period=\"60d\", interval=\"5m\", progress=False)\n"
          ]
        },
        {
          "name": "stdout",
          "output_type": "stream",
          "text": [
            "✅ Saved: fo_5min_data/KOTAKBANK_5min.csv\n",
            "📥 Downloading KEI.NS ...\n"
          ]
        },
        {
          "name": "stderr",
          "output_type": "stream",
          "text": [
            "/tmp/ipython-input-4-2200874810.py:19: FutureWarning: YF.download() has changed argument auto_adjust default to True\n",
            "  data = yf.download(ticker, period=\"60d\", interval=\"5m\", progress=False)\n"
          ]
        },
        {
          "name": "stdout",
          "output_type": "stream",
          "text": [
            "✅ Saved: fo_5min_data/KEI_5min.csv\n",
            "📥 Downloading COLPAL.NS ...\n"
          ]
        },
        {
          "name": "stderr",
          "output_type": "stream",
          "text": [
            "/tmp/ipython-input-4-2200874810.py:19: FutureWarning: YF.download() has changed argument auto_adjust default to True\n",
            "  data = yf.download(ticker, period=\"60d\", interval=\"5m\", progress=False)\n"
          ]
        },
        {
          "name": "stdout",
          "output_type": "stream",
          "text": [
            "✅ Saved: fo_5min_data/COLPAL_5min.csv\n",
            "📥 Downloading BOSCHLTD.NS ...\n"
          ]
        },
        {
          "name": "stderr",
          "output_type": "stream",
          "text": [
            "/tmp/ipython-input-4-2200874810.py:19: FutureWarning: YF.download() has changed argument auto_adjust default to True\n",
            "  data = yf.download(ticker, period=\"60d\", interval=\"5m\", progress=False)\n"
          ]
        },
        {
          "name": "stdout",
          "output_type": "stream",
          "text": [
            "✅ Saved: fo_5min_data/BOSCHLTD_5min.csv\n",
            "📥 Downloading ICICIPRULI.NS ...\n"
          ]
        },
        {
          "name": "stderr",
          "output_type": "stream",
          "text": [
            "/tmp/ipython-input-4-2200874810.py:19: FutureWarning: YF.download() has changed argument auto_adjust default to True\n",
            "  data = yf.download(ticker, period=\"60d\", interval=\"5m\", progress=False)\n"
          ]
        },
        {
          "name": "stdout",
          "output_type": "stream",
          "text": [
            "✅ Saved: fo_5min_data/ICICIPRULI_5min.csv\n",
            "📥 Downloading IRFC.NS ...\n"
          ]
        },
        {
          "name": "stderr",
          "output_type": "stream",
          "text": [
            "/tmp/ipython-input-4-2200874810.py:19: FutureWarning: YF.download() has changed argument auto_adjust default to True\n",
            "  data = yf.download(ticker, period=\"60d\", interval=\"5m\", progress=False)\n"
          ]
        },
        {
          "name": "stdout",
          "output_type": "stream",
          "text": [
            "✅ Saved: fo_5min_data/IRFC_5min.csv\n",
            "📥 Downloading PNB.NS ...\n"
          ]
        },
        {
          "name": "stderr",
          "output_type": "stream",
          "text": [
            "/tmp/ipython-input-4-2200874810.py:19: FutureWarning: YF.download() has changed argument auto_adjust default to True\n",
            "  data = yf.download(ticker, period=\"60d\", interval=\"5m\", progress=False)\n"
          ]
        },
        {
          "name": "stdout",
          "output_type": "stream",
          "text": [
            "✅ Saved: fo_5min_data/PNB_5min.csv\n",
            "📥 Downloading GRANULES.NS ...\n"
          ]
        },
        {
          "name": "stderr",
          "output_type": "stream",
          "text": [
            "/tmp/ipython-input-4-2200874810.py:19: FutureWarning: YF.download() has changed argument auto_adjust default to True\n",
            "  data = yf.download(ticker, period=\"60d\", interval=\"5m\", progress=False)\n"
          ]
        },
        {
          "name": "stdout",
          "output_type": "stream",
          "text": [
            "✅ Saved: fo_5min_data/GRANULES_5min.csv\n",
            "📥 Downloading BAJAJ-AUTO.NS ...\n"
          ]
        },
        {
          "name": "stderr",
          "output_type": "stream",
          "text": [
            "/tmp/ipython-input-4-2200874810.py:19: FutureWarning: YF.download() has changed argument auto_adjust default to True\n",
            "  data = yf.download(ticker, period=\"60d\", interval=\"5m\", progress=False)\n"
          ]
        },
        {
          "name": "stdout",
          "output_type": "stream",
          "text": [
            "✅ Saved: fo_5min_data/BAJAJ-AUTO_5min.csv\n",
            "📥 Downloading LICI.NS ...\n"
          ]
        },
        {
          "name": "stderr",
          "output_type": "stream",
          "text": [
            "/tmp/ipython-input-4-2200874810.py:19: FutureWarning: YF.download() has changed argument auto_adjust default to True\n",
            "  data = yf.download(ticker, period=\"60d\", interval=\"5m\", progress=False)\n"
          ]
        },
        {
          "name": "stdout",
          "output_type": "stream",
          "text": [
            "✅ Saved: fo_5min_data/LICI_5min.csv\n",
            "📥 Downloading ICICIGI.NS ...\n"
          ]
        },
        {
          "name": "stderr",
          "output_type": "stream",
          "text": [
            "/tmp/ipython-input-4-2200874810.py:19: FutureWarning: YF.download() has changed argument auto_adjust default to True\n",
            "  data = yf.download(ticker, period=\"60d\", interval=\"5m\", progress=False)\n"
          ]
        },
        {
          "name": "stdout",
          "output_type": "stream",
          "text": [
            "✅ Saved: fo_5min_data/ICICIGI_5min.csv\n",
            "📥 Downloading COALINDIA.NS ...\n"
          ]
        },
        {
          "name": "stderr",
          "output_type": "stream",
          "text": [
            "/tmp/ipython-input-4-2200874810.py:19: FutureWarning: YF.download() has changed argument auto_adjust default to True\n",
            "  data = yf.download(ticker, period=\"60d\", interval=\"5m\", progress=False)\n"
          ]
        },
        {
          "name": "stdout",
          "output_type": "stream",
          "text": [
            "✅ Saved: fo_5min_data/COALINDIA_5min.csv\n",
            "📥 Downloading TCS.NS ...\n"
          ]
        },
        {
          "name": "stderr",
          "output_type": "stream",
          "text": [
            "/tmp/ipython-input-4-2200874810.py:19: FutureWarning: YF.download() has changed argument auto_adjust default to True\n",
            "  data = yf.download(ticker, period=\"60d\", interval=\"5m\", progress=False)\n"
          ]
        },
        {
          "name": "stdout",
          "output_type": "stream",
          "text": [
            "✅ Saved: fo_5min_data/TCS_5min.csv\n",
            "📥 Downloading ZYDUSLIFE.NS ...\n"
          ]
        },
        {
          "name": "stderr",
          "output_type": "stream",
          "text": [
            "/tmp/ipython-input-4-2200874810.py:19: FutureWarning: YF.download() has changed argument auto_adjust default to True\n",
            "  data = yf.download(ticker, period=\"60d\", interval=\"5m\", progress=False)\n"
          ]
        },
        {
          "name": "stdout",
          "output_type": "stream",
          "text": [
            "✅ Saved: fo_5min_data/ZYDUSLIFE_5min.csv\n",
            "📥 Downloading DMART.NS ...\n"
          ]
        },
        {
          "name": "stderr",
          "output_type": "stream",
          "text": [
            "/tmp/ipython-input-4-2200874810.py:19: FutureWarning: YF.download() has changed argument auto_adjust default to True\n",
            "  data = yf.download(ticker, period=\"60d\", interval=\"5m\", progress=False)\n"
          ]
        },
        {
          "name": "stdout",
          "output_type": "stream",
          "text": [
            "✅ Saved: fo_5min_data/DMART_5min.csv\n",
            "📥 Downloading HCLTECH.NS ...\n"
          ]
        },
        {
          "name": "stderr",
          "output_type": "stream",
          "text": [
            "/tmp/ipython-input-4-2200874810.py:19: FutureWarning: YF.download() has changed argument auto_adjust default to True\n",
            "  data = yf.download(ticker, period=\"60d\", interval=\"5m\", progress=False)\n"
          ]
        },
        {
          "name": "stdout",
          "output_type": "stream",
          "text": [
            "✅ Saved: fo_5min_data/HCLTECH_5min.csv\n",
            "📥 Downloading CANBK.NS ...\n"
          ]
        },
        {
          "name": "stderr",
          "output_type": "stream",
          "text": [
            "/tmp/ipython-input-4-2200874810.py:19: FutureWarning: YF.download() has changed argument auto_adjust default to True\n",
            "  data = yf.download(ticker, period=\"60d\", interval=\"5m\", progress=False)\n"
          ]
        },
        {
          "name": "stdout",
          "output_type": "stream",
          "text": [
            "✅ Saved: fo_5min_data/CANBK_5min.csv\n",
            "📥 Downloading MPHASIS.NS ...\n"
          ]
        },
        {
          "name": "stderr",
          "output_type": "stream",
          "text": [
            "/tmp/ipython-input-4-2200874810.py:19: FutureWarning: YF.download() has changed argument auto_adjust default to True\n",
            "  data = yf.download(ticker, period=\"60d\", interval=\"5m\", progress=False)\n"
          ]
        },
        {
          "name": "stdout",
          "output_type": "stream",
          "text": [
            "✅ Saved: fo_5min_data/MPHASIS_5min.csv\n",
            "📥 Downloading EXIDEIND.NS ...\n"
          ]
        },
        {
          "name": "stderr",
          "output_type": "stream",
          "text": [
            "/tmp/ipython-input-4-2200874810.py:19: FutureWarning: YF.download() has changed argument auto_adjust default to True\n",
            "  data = yf.download(ticker, period=\"60d\", interval=\"5m\", progress=False)\n"
          ]
        },
        {
          "name": "stdout",
          "output_type": "stream",
          "text": [
            "✅ Saved: fo_5min_data/EXIDEIND_5min.csv\n",
            "📥 Downloading PEL.NS ...\n"
          ]
        },
        {
          "name": "stderr",
          "output_type": "stream",
          "text": [
            "/tmp/ipython-input-4-2200874810.py:19: FutureWarning: YF.download() has changed argument auto_adjust default to True\n",
            "  data = yf.download(ticker, period=\"60d\", interval=\"5m\", progress=False)\n"
          ]
        },
        {
          "name": "stdout",
          "output_type": "stream",
          "text": [
            "✅ Saved: fo_5min_data/PEL_5min.csv\n",
            "📥 Downloading BHEL.NS ...\n"
          ]
        },
        {
          "name": "stderr",
          "output_type": "stream",
          "text": [
            "/tmp/ipython-input-4-2200874810.py:19: FutureWarning: YF.download() has changed argument auto_adjust default to True\n",
            "  data = yf.download(ticker, period=\"60d\", interval=\"5m\", progress=False)\n"
          ]
        },
        {
          "name": "stdout",
          "output_type": "stream",
          "text": [
            "✅ Saved: fo_5min_data/BHEL_5min.csv\n",
            "📥 Downloading GMRAIRPORT.NS ...\n"
          ]
        },
        {
          "name": "stderr",
          "output_type": "stream",
          "text": [
            "/tmp/ipython-input-4-2200874810.py:19: FutureWarning: YF.download() has changed argument auto_adjust default to True\n",
            "  data = yf.download(ticker, period=\"60d\", interval=\"5m\", progress=False)\n"
          ]
        },
        {
          "name": "stdout",
          "output_type": "stream",
          "text": [
            "✅ Saved: fo_5min_data/GMRAIRPORT_5min.csv\n",
            "📥 Downloading DLF.NS ...\n"
          ]
        },
        {
          "name": "stderr",
          "output_type": "stream",
          "text": [
            "/tmp/ipython-input-4-2200874810.py:19: FutureWarning: YF.download() has changed argument auto_adjust default to True\n",
            "  data = yf.download(ticker, period=\"60d\", interval=\"5m\", progress=False)\n"
          ]
        },
        {
          "name": "stdout",
          "output_type": "stream",
          "text": [
            "✅ Saved: fo_5min_data/DLF_5min.csv\n",
            "📥 Downloading BANKINDIA.NS ...\n"
          ]
        },
        {
          "name": "stderr",
          "output_type": "stream",
          "text": [
            "/tmp/ipython-input-4-2200874810.py:19: FutureWarning: YF.download() has changed argument auto_adjust default to True\n",
            "  data = yf.download(ticker, period=\"60d\", interval=\"5m\", progress=False)\n"
          ]
        },
        {
          "name": "stdout",
          "output_type": "stream",
          "text": [
            "✅ Saved: fo_5min_data/BANKINDIA_5min.csv\n",
            "📥 Downloading UNITDSPR.NS ...\n"
          ]
        },
        {
          "name": "stderr",
          "output_type": "stream",
          "text": [
            "/tmp/ipython-input-4-2200874810.py:19: FutureWarning: YF.download() has changed argument auto_adjust default to True\n",
            "  data = yf.download(ticker, period=\"60d\", interval=\"5m\", progress=False)\n"
          ]
        },
        {
          "name": "stdout",
          "output_type": "stream",
          "text": [
            "✅ Saved: fo_5min_data/UNITDSPR_5min.csv\n",
            "📥 Downloading RECLTD.NS ...\n"
          ]
        },
        {
          "name": "stderr",
          "output_type": "stream",
          "text": [
            "/tmp/ipython-input-4-2200874810.py:19: FutureWarning: YF.download() has changed argument auto_adjust default to True\n",
            "  data = yf.download(ticker, period=\"60d\", interval=\"5m\", progress=False)\n"
          ]
        },
        {
          "name": "stdout",
          "output_type": "stream",
          "text": [
            "✅ Saved: fo_5min_data/RECLTD_5min.csv\n",
            "📥 Downloading TATACHEM.NS ...\n"
          ]
        },
        {
          "name": "stderr",
          "output_type": "stream",
          "text": [
            "/tmp/ipython-input-4-2200874810.py:19: FutureWarning: YF.download() has changed argument auto_adjust default to True\n",
            "  data = yf.download(ticker, period=\"60d\", interval=\"5m\", progress=False)\n"
          ]
        },
        {
          "name": "stdout",
          "output_type": "stream",
          "text": [
            "✅ Saved: fo_5min_data/TATACHEM_5min.csv\n",
            "📥 Downloading JUBLFOOD.NS ...\n"
          ]
        },
        {
          "name": "stderr",
          "output_type": "stream",
          "text": [
            "/tmp/ipython-input-4-2200874810.py:19: FutureWarning: YF.download() has changed argument auto_adjust default to True\n",
            "  data = yf.download(ticker, period=\"60d\", interval=\"5m\", progress=False)\n"
          ]
        },
        {
          "name": "stdout",
          "output_type": "stream",
          "text": [
            "✅ Saved: fo_5min_data/JUBLFOOD_5min.csv\n",
            "📥 Downloading CROMPTON.NS ...\n"
          ]
        },
        {
          "name": "stderr",
          "output_type": "stream",
          "text": [
            "/tmp/ipython-input-4-2200874810.py:19: FutureWarning: YF.download() has changed argument auto_adjust default to True\n",
            "  data = yf.download(ticker, period=\"60d\", interval=\"5m\", progress=False)\n"
          ]
        },
        {
          "name": "stdout",
          "output_type": "stream",
          "text": [
            "✅ Saved: fo_5min_data/CROMPTON_5min.csv\n",
            "📥 Downloading MOTHERSON.NS ...\n"
          ]
        },
        {
          "name": "stderr",
          "output_type": "stream",
          "text": [
            "/tmp/ipython-input-4-2200874810.py:19: FutureWarning: YF.download() has changed argument auto_adjust default to True\n",
            "  data = yf.download(ticker, period=\"60d\", interval=\"5m\", progress=False)\n"
          ]
        },
        {
          "name": "stdout",
          "output_type": "stream",
          "text": [
            "✅ Saved: fo_5min_data/MOTHERSON_5min.csv\n",
            "📥 Downloading AUROPHARMA.NS ...\n"
          ]
        },
        {
          "name": "stderr",
          "output_type": "stream",
          "text": [
            "/tmp/ipython-input-4-2200874810.py:19: FutureWarning: YF.download() has changed argument auto_adjust default to True\n",
            "  data = yf.download(ticker, period=\"60d\", interval=\"5m\", progress=False)\n"
          ]
        },
        {
          "name": "stdout",
          "output_type": "stream",
          "text": [
            "✅ Saved: fo_5min_data/AUROPHARMA_5min.csv\n",
            "📥 Downloading TITAGARH.NS ...\n"
          ]
        },
        {
          "name": "stderr",
          "output_type": "stream",
          "text": [
            "/tmp/ipython-input-4-2200874810.py:19: FutureWarning: YF.download() has changed argument auto_adjust default to True\n",
            "  data = yf.download(ticker, period=\"60d\", interval=\"5m\", progress=False)\n"
          ]
        },
        {
          "name": "stdout",
          "output_type": "stream",
          "text": [
            "✅ Saved: fo_5min_data/TITAGARH_5min.csv\n",
            "📥 Downloading PATANJALI.NS ...\n"
          ]
        },
        {
          "name": "stderr",
          "output_type": "stream",
          "text": [
            "/tmp/ipython-input-4-2200874810.py:19: FutureWarning: YF.download() has changed argument auto_adjust default to True\n",
            "  data = yf.download(ticker, period=\"60d\", interval=\"5m\", progress=False)\n"
          ]
        },
        {
          "name": "stdout",
          "output_type": "stream",
          "text": [
            "✅ Saved: fo_5min_data/PATANJALI_5min.csv\n",
            "📥 Downloading PNBHOUSING.NS ...\n"
          ]
        },
        {
          "name": "stderr",
          "output_type": "stream",
          "text": [
            "/tmp/ipython-input-4-2200874810.py:19: FutureWarning: YF.download() has changed argument auto_adjust default to True\n",
            "  data = yf.download(ticker, period=\"60d\", interval=\"5m\", progress=False)\n"
          ]
        },
        {
          "name": "stdout",
          "output_type": "stream",
          "text": [
            "✅ Saved: fo_5min_data/PNBHOUSING_5min.csv\n",
            "📥 Downloading SONACOMS.NS ...\n"
          ]
        },
        {
          "name": "stderr",
          "output_type": "stream",
          "text": [
            "/tmp/ipython-input-4-2200874810.py:19: FutureWarning: YF.download() has changed argument auto_adjust default to True\n",
            "  data = yf.download(ticker, period=\"60d\", interval=\"5m\", progress=False)\n"
          ]
        },
        {
          "name": "stdout",
          "output_type": "stream",
          "text": [
            "✅ Saved: fo_5min_data/SONACOMS_5min.csv\n",
            "📥 Downloading HDFCBANK.NS ...\n"
          ]
        },
        {
          "name": "stderr",
          "output_type": "stream",
          "text": [
            "/tmp/ipython-input-4-2200874810.py:19: FutureWarning: YF.download() has changed argument auto_adjust default to True\n",
            "  data = yf.download(ticker, period=\"60d\", interval=\"5m\", progress=False)\n"
          ]
        },
        {
          "name": "stdout",
          "output_type": "stream",
          "text": [
            "✅ Saved: fo_5min_data/HDFCBANK_5min.csv\n",
            "📥 Downloading JSWSTEEL.NS ...\n"
          ]
        },
        {
          "name": "stderr",
          "output_type": "stream",
          "text": [
            "/tmp/ipython-input-4-2200874810.py:19: FutureWarning: YF.download() has changed argument auto_adjust default to True\n",
            "  data = yf.download(ticker, period=\"60d\", interval=\"5m\", progress=False)\n"
          ]
        },
        {
          "name": "stdout",
          "output_type": "stream",
          "text": [
            "✅ Saved: fo_5min_data/JSWSTEEL_5min.csv\n",
            "📥 Downloading CGPOWER.NS ...\n"
          ]
        },
        {
          "name": "stderr",
          "output_type": "stream",
          "text": [
            "/tmp/ipython-input-4-2200874810.py:19: FutureWarning: YF.download() has changed argument auto_adjust default to True\n",
            "  data = yf.download(ticker, period=\"60d\", interval=\"5m\", progress=False)\n"
          ]
        },
        {
          "name": "stdout",
          "output_type": "stream",
          "text": [
            "✅ Saved: fo_5min_data/CGPOWER_5min.csv\n",
            "📥 Downloading M&M.NS ...\n"
          ]
        },
        {
          "name": "stderr",
          "output_type": "stream",
          "text": [
            "/tmp/ipython-input-4-2200874810.py:19: FutureWarning: YF.download() has changed argument auto_adjust default to True\n",
            "  data = yf.download(ticker, period=\"60d\", interval=\"5m\", progress=False)\n"
          ]
        },
        {
          "name": "stdout",
          "output_type": "stream",
          "text": [
            "✅ Saved: fo_5min_data/M&M_5min.csv\n",
            "📥 Downloading ITC.NS ...\n"
          ]
        },
        {
          "name": "stderr",
          "output_type": "stream",
          "text": [
            "/tmp/ipython-input-4-2200874810.py:19: FutureWarning: YF.download() has changed argument auto_adjust default to True\n",
            "  data = yf.download(ticker, period=\"60d\", interval=\"5m\", progress=False)\n"
          ]
        },
        {
          "name": "stdout",
          "output_type": "stream",
          "text": [
            "✅ Saved: fo_5min_data/ITC_5min.csv\n",
            "📥 Downloading SJVN.NS ...\n"
          ]
        },
        {
          "name": "stderr",
          "output_type": "stream",
          "text": [
            "/tmp/ipython-input-4-2200874810.py:19: FutureWarning: YF.download() has changed argument auto_adjust default to True\n",
            "  data = yf.download(ticker, period=\"60d\", interval=\"5m\", progress=False)\n"
          ]
        },
        {
          "name": "stdout",
          "output_type": "stream",
          "text": [
            "✅ Saved: fo_5min_data/SJVN_5min.csv\n",
            "📥 Downloading IEX.NS ...\n"
          ]
        },
        {
          "name": "stderr",
          "output_type": "stream",
          "text": [
            "/tmp/ipython-input-4-2200874810.py:19: FutureWarning: YF.download() has changed argument auto_adjust default to True\n",
            "  data = yf.download(ticker, period=\"60d\", interval=\"5m\", progress=False)\n"
          ]
        },
        {
          "name": "stdout",
          "output_type": "stream",
          "text": [
            "✅ Saved: fo_5min_data/IEX_5min.csv\n",
            "📥 Downloading HAVELLS.NS ...\n"
          ]
        },
        {
          "name": "stderr",
          "output_type": "stream",
          "text": [
            "/tmp/ipython-input-4-2200874810.py:19: FutureWarning: YF.download() has changed argument auto_adjust default to True\n",
            "  data = yf.download(ticker, period=\"60d\", interval=\"5m\", progress=False)\n"
          ]
        },
        {
          "name": "stdout",
          "output_type": "stream",
          "text": [
            "✅ Saved: fo_5min_data/HAVELLS_5min.csv\n",
            "📥 Downloading SHRIRAMFIN.NS ...\n"
          ]
        },
        {
          "name": "stderr",
          "output_type": "stream",
          "text": [
            "/tmp/ipython-input-4-2200874810.py:19: FutureWarning: YF.download() has changed argument auto_adjust default to True\n",
            "  data = yf.download(ticker, period=\"60d\", interval=\"5m\", progress=False)\n"
          ]
        },
        {
          "name": "stdout",
          "output_type": "stream",
          "text": [
            "✅ Saved: fo_5min_data/SHRIRAMFIN_5min.csv\n",
            "📥 Downloading BAJAJFINSV.NS ...\n"
          ]
        },
        {
          "name": "stderr",
          "output_type": "stream",
          "text": [
            "/tmp/ipython-input-4-2200874810.py:19: FutureWarning: YF.download() has changed argument auto_adjust default to True\n",
            "  data = yf.download(ticker, period=\"60d\", interval=\"5m\", progress=False)\n"
          ]
        },
        {
          "name": "stdout",
          "output_type": "stream",
          "text": [
            "✅ Saved: fo_5min_data/BAJAJFINSV_5min.csv\n",
            "📥 Downloading BAJFINANCE.NS ...\n"
          ]
        },
        {
          "name": "stderr",
          "output_type": "stream",
          "text": [
            "/tmp/ipython-input-4-2200874810.py:19: FutureWarning: YF.download() has changed argument auto_adjust default to True\n",
            "  data = yf.download(ticker, period=\"60d\", interval=\"5m\", progress=False)\n"
          ]
        },
        {
          "name": "stdout",
          "output_type": "stream",
          "text": [
            "✅ Saved: fo_5min_data/BAJFINANCE_5min.csv\n",
            "📥 Downloading SYNGENE.NS ...\n"
          ]
        },
        {
          "name": "stderr",
          "output_type": "stream",
          "text": [
            "/tmp/ipython-input-4-2200874810.py:19: FutureWarning: YF.download() has changed argument auto_adjust default to True\n",
            "  data = yf.download(ticker, period=\"60d\", interval=\"5m\", progress=False)\n"
          ]
        },
        {
          "name": "stdout",
          "output_type": "stream",
          "text": [
            "✅ Saved: fo_5min_data/SYNGENE_5min.csv\n",
            "📥 Downloading MUTHOOTFIN.NS ...\n"
          ]
        },
        {
          "name": "stderr",
          "output_type": "stream",
          "text": [
            "/tmp/ipython-input-4-2200874810.py:19: FutureWarning: YF.download() has changed argument auto_adjust default to True\n",
            "  data = yf.download(ticker, period=\"60d\", interval=\"5m\", progress=False)\n"
          ]
        },
        {
          "name": "stdout",
          "output_type": "stream",
          "text": [
            "✅ Saved: fo_5min_data/MUTHOOTFIN_5min.csv\n",
            "📥 Downloading INFY.NS ...\n"
          ]
        },
        {
          "name": "stderr",
          "output_type": "stream",
          "text": [
            "/tmp/ipython-input-4-2200874810.py:19: FutureWarning: YF.download() has changed argument auto_adjust default to True\n",
            "  data = yf.download(ticker, period=\"60d\", interval=\"5m\", progress=False)\n"
          ]
        },
        {
          "name": "stdout",
          "output_type": "stream",
          "text": [
            "✅ Saved: fo_5min_data/INFY_5min.csv\n",
            "📥 Downloading NCC.NS ...\n"
          ]
        },
        {
          "name": "stderr",
          "output_type": "stream",
          "text": [
            "/tmp/ipython-input-4-2200874810.py:19: FutureWarning: YF.download() has changed argument auto_adjust default to True\n",
            "  data = yf.download(ticker, period=\"60d\", interval=\"5m\", progress=False)\n"
          ]
        },
        {
          "name": "stdout",
          "output_type": "stream",
          "text": [
            "✅ Saved: fo_5min_data/NCC_5min.csv\n",
            "📥 Downloading CESC.NS ...\n"
          ]
        },
        {
          "name": "stderr",
          "output_type": "stream",
          "text": [
            "/tmp/ipython-input-4-2200874810.py:19: FutureWarning: YF.download() has changed argument auto_adjust default to True\n",
            "  data = yf.download(ticker, period=\"60d\", interval=\"5m\", progress=False)\n"
          ]
        },
        {
          "name": "stdout",
          "output_type": "stream",
          "text": [
            "✅ Saved: fo_5min_data/CESC_5min.csv\n",
            "📥 Downloading SBILIFE.NS ...\n"
          ]
        },
        {
          "name": "stderr",
          "output_type": "stream",
          "text": [
            "/tmp/ipython-input-4-2200874810.py:19: FutureWarning: YF.download() has changed argument auto_adjust default to True\n",
            "  data = yf.download(ticker, period=\"60d\", interval=\"5m\", progress=False)\n"
          ]
        },
        {
          "name": "stdout",
          "output_type": "stream",
          "text": [
            "✅ Saved: fo_5min_data/SBILIFE_5min.csv\n",
            "📥 Downloading NAUKRI.NS ...\n"
          ]
        },
        {
          "name": "stderr",
          "output_type": "stream",
          "text": [
            "/tmp/ipython-input-4-2200874810.py:19: FutureWarning: YF.download() has changed argument auto_adjust default to True\n",
            "  data = yf.download(ticker, period=\"60d\", interval=\"5m\", progress=False)\n"
          ]
        },
        {
          "name": "stdout",
          "output_type": "stream",
          "text": [
            "✅ Saved: fo_5min_data/NAUKRI_5min.csv\n",
            "📥 Downloading DELHIVERY.NS ...\n"
          ]
        },
        {
          "name": "stderr",
          "output_type": "stream",
          "text": [
            "/tmp/ipython-input-4-2200874810.py:19: FutureWarning: YF.download() has changed argument auto_adjust default to True\n",
            "  data = yf.download(ticker, period=\"60d\", interval=\"5m\", progress=False)\n"
          ]
        },
        {
          "name": "stdout",
          "output_type": "stream",
          "text": [
            "✅ Saved: fo_5min_data/DELHIVERY_5min.csv\n",
            "📥 Downloading MARUTI.NS ...\n"
          ]
        },
        {
          "name": "stderr",
          "output_type": "stream",
          "text": [
            "/tmp/ipython-input-4-2200874810.py:19: FutureWarning: YF.download() has changed argument auto_adjust default to True\n",
            "  data = yf.download(ticker, period=\"60d\", interval=\"5m\", progress=False)\n"
          ]
        },
        {
          "name": "stdout",
          "output_type": "stream",
          "text": [
            "✅ Saved: fo_5min_data/MARUTI_5min.csv\n",
            "📥 Downloading BRITANNIA.NS ...\n"
          ]
        },
        {
          "name": "stderr",
          "output_type": "stream",
          "text": [
            "/tmp/ipython-input-4-2200874810.py:19: FutureWarning: YF.download() has changed argument auto_adjust default to True\n",
            "  data = yf.download(ticker, period=\"60d\", interval=\"5m\", progress=False)\n"
          ]
        },
        {
          "name": "stdout",
          "output_type": "stream",
          "text": [
            "✅ Saved: fo_5min_data/BRITANNIA_5min.csv\n",
            "📥 Downloading NBCC.NS ...\n"
          ]
        },
        {
          "name": "stderr",
          "output_type": "stream",
          "text": [
            "/tmp/ipython-input-4-2200874810.py:19: FutureWarning: YF.download() has changed argument auto_adjust default to True\n",
            "  data = yf.download(ticker, period=\"60d\", interval=\"5m\", progress=False)\n"
          ]
        },
        {
          "name": "stdout",
          "output_type": "stream",
          "text": [
            "✅ Saved: fo_5min_data/NBCC_5min.csv\n",
            "📥 Downloading JSL.NS ...\n"
          ]
        },
        {
          "name": "stderr",
          "output_type": "stream",
          "text": [
            "/tmp/ipython-input-4-2200874810.py:19: FutureWarning: YF.download() has changed argument auto_adjust default to True\n",
            "  data = yf.download(ticker, period=\"60d\", interval=\"5m\", progress=False)\n"
          ]
        },
        {
          "name": "stdout",
          "output_type": "stream",
          "text": [
            "✅ Saved: fo_5min_data/JSL_5min.csv\n",
            "📥 Downloading HFCL.NS ...\n"
          ]
        },
        {
          "name": "stderr",
          "output_type": "stream",
          "text": [
            "/tmp/ipython-input-4-2200874810.py:19: FutureWarning: YF.download() has changed argument auto_adjust default to True\n",
            "  data = yf.download(ticker, period=\"60d\", interval=\"5m\", progress=False)\n"
          ]
        },
        {
          "name": "stdout",
          "output_type": "stream",
          "text": [
            "✅ Saved: fo_5min_data/HFCL_5min.csv\n",
            "📥 Downloading GODREJCP.NS ...\n"
          ]
        },
        {
          "name": "stderr",
          "output_type": "stream",
          "text": [
            "/tmp/ipython-input-4-2200874810.py:19: FutureWarning: YF.download() has changed argument auto_adjust default to True\n",
            "  data = yf.download(ticker, period=\"60d\", interval=\"5m\", progress=False)\n"
          ]
        },
        {
          "name": "stdout",
          "output_type": "stream",
          "text": [
            "✅ Saved: fo_5min_data/GODREJCP_5min.csv\n",
            "📥 Downloading AXISBANK.NS ...\n"
          ]
        },
        {
          "name": "stderr",
          "output_type": "stream",
          "text": [
            "/tmp/ipython-input-4-2200874810.py:19: FutureWarning: YF.download() has changed argument auto_adjust default to True\n",
            "  data = yf.download(ticker, period=\"60d\", interval=\"5m\", progress=False)\n"
          ]
        },
        {
          "name": "stdout",
          "output_type": "stream",
          "text": [
            "✅ Saved: fo_5min_data/AXISBANK_5min.csv\n",
            "📥 Downloading KPITTECH.NS ...\n"
          ]
        },
        {
          "name": "stderr",
          "output_type": "stream",
          "text": [
            "/tmp/ipython-input-4-2200874810.py:19: FutureWarning: YF.download() has changed argument auto_adjust default to True\n",
            "  data = yf.download(ticker, period=\"60d\", interval=\"5m\", progress=False)\n"
          ]
        },
        {
          "name": "stdout",
          "output_type": "stream",
          "text": [
            "✅ Saved: fo_5min_data/KPITTECH_5min.csv\n",
            "📥 Downloading PERSISTENT.NS ...\n"
          ]
        },
        {
          "name": "stderr",
          "output_type": "stream",
          "text": [
            "/tmp/ipython-input-4-2200874810.py:19: FutureWarning: YF.download() has changed argument auto_adjust default to True\n",
            "  data = yf.download(ticker, period=\"60d\", interval=\"5m\", progress=False)\n"
          ]
        },
        {
          "name": "stdout",
          "output_type": "stream",
          "text": [
            "✅ Saved: fo_5min_data/PERSISTENT_5min.csv\n",
            "📥 Downloading SUPREMEIND.NS ...\n"
          ]
        },
        {
          "name": "stderr",
          "output_type": "stream",
          "text": [
            "/tmp/ipython-input-4-2200874810.py:19: FutureWarning: YF.download() has changed argument auto_adjust default to True\n",
            "  data = yf.download(ticker, period=\"60d\", interval=\"5m\", progress=False)\n"
          ]
        },
        {
          "name": "stdout",
          "output_type": "stream",
          "text": [
            "✅ Saved: fo_5min_data/SUPREMEIND_5min.csv\n",
            "📥 Downloading CIPLA.NS ...\n"
          ]
        },
        {
          "name": "stderr",
          "output_type": "stream",
          "text": [
            "/tmp/ipython-input-4-2200874810.py:19: FutureWarning: YF.download() has changed argument auto_adjust default to True\n",
            "  data = yf.download(ticker, period=\"60d\", interval=\"5m\", progress=False)\n"
          ]
        },
        {
          "name": "stdout",
          "output_type": "stream",
          "text": [
            "✅ Saved: fo_5min_data/CIPLA_5min.csv\n",
            "📥 Downloading INDUSTOWER.NS ...\n"
          ]
        },
        {
          "name": "stderr",
          "output_type": "stream",
          "text": [
            "/tmp/ipython-input-4-2200874810.py:19: FutureWarning: YF.download() has changed argument auto_adjust default to True\n",
            "  data = yf.download(ticker, period=\"60d\", interval=\"5m\", progress=False)\n"
          ]
        },
        {
          "name": "stdout",
          "output_type": "stream",
          "text": [
            "✅ Saved: fo_5min_data/INDUSTOWER_5min.csv\n",
            "📥 Downloading TITAN.NS ...\n"
          ]
        },
        {
          "name": "stderr",
          "output_type": "stream",
          "text": [
            "/tmp/ipython-input-4-2200874810.py:19: FutureWarning: YF.download() has changed argument auto_adjust default to True\n",
            "  data = yf.download(ticker, period=\"60d\", interval=\"5m\", progress=False)\n"
          ]
        },
        {
          "name": "stdout",
          "output_type": "stream",
          "text": [
            "✅ Saved: fo_5min_data/TITAN_5min.csv\n",
            "📥 Downloading GRASIM.NS ...\n"
          ]
        },
        {
          "name": "stderr",
          "output_type": "stream",
          "text": [
            "/tmp/ipython-input-4-2200874810.py:19: FutureWarning: YF.download() has changed argument auto_adjust default to True\n",
            "  data = yf.download(ticker, period=\"60d\", interval=\"5m\", progress=False)\n"
          ]
        },
        {
          "name": "stdout",
          "output_type": "stream",
          "text": [
            "✅ Saved: fo_5min_data/GRASIM_5min.csv\n",
            "📥 Downloading POLICYBZR.NS ...\n"
          ]
        },
        {
          "name": "stderr",
          "output_type": "stream",
          "text": [
            "/tmp/ipython-input-4-2200874810.py:19: FutureWarning: YF.download() has changed argument auto_adjust default to True\n",
            "  data = yf.download(ticker, period=\"60d\", interval=\"5m\", progress=False)\n"
          ]
        },
        {
          "name": "stdout",
          "output_type": "stream",
          "text": [
            "✅ Saved: fo_5min_data/POLICYBZR_5min.csv\n",
            "📥 Downloading ONGC.NS ...\n"
          ]
        },
        {
          "name": "stderr",
          "output_type": "stream",
          "text": [
            "/tmp/ipython-input-4-2200874810.py:19: FutureWarning: YF.download() has changed argument auto_adjust default to True\n",
            "  data = yf.download(ticker, period=\"60d\", interval=\"5m\", progress=False)\n"
          ]
        },
        {
          "name": "stdout",
          "output_type": "stream",
          "text": [
            "✅ Saved: fo_5min_data/ONGC_5min.csv\n",
            "📥 Downloading FEDERALBNK.NS ...\n"
          ]
        },
        {
          "name": "stderr",
          "output_type": "stream",
          "text": [
            "/tmp/ipython-input-4-2200874810.py:19: FutureWarning: YF.download() has changed argument auto_adjust default to True\n",
            "  data = yf.download(ticker, period=\"60d\", interval=\"5m\", progress=False)\n"
          ]
        },
        {
          "name": "stdout",
          "output_type": "stream",
          "text": [
            "✅ Saved: fo_5min_data/FEDERALBNK_5min.csv\n",
            "📥 Downloading CUMMINSIND.NS ...\n"
          ]
        },
        {
          "name": "stderr",
          "output_type": "stream",
          "text": [
            "/tmp/ipython-input-4-2200874810.py:19: FutureWarning: YF.download() has changed argument auto_adjust default to True\n",
            "  data = yf.download(ticker, period=\"60d\", interval=\"5m\", progress=False)\n"
          ]
        },
        {
          "name": "stdout",
          "output_type": "stream",
          "text": [
            "✅ Saved: fo_5min_data/CUMMINSIND_5min.csv\n",
            "📥 Downloading IREDA.NS ...\n"
          ]
        },
        {
          "name": "stderr",
          "output_type": "stream",
          "text": [
            "/tmp/ipython-input-4-2200874810.py:19: FutureWarning: YF.download() has changed argument auto_adjust default to True\n",
            "  data = yf.download(ticker, period=\"60d\", interval=\"5m\", progress=False)\n"
          ]
        },
        {
          "name": "stdout",
          "output_type": "stream",
          "text": [
            "✅ Saved: fo_5min_data/IREDA_5min.csv\n",
            "📥 Downloading FORTIS.NS ...\n"
          ]
        },
        {
          "name": "stderr",
          "output_type": "stream",
          "text": [
            "/tmp/ipython-input-4-2200874810.py:19: FutureWarning: YF.download() has changed argument auto_adjust default to True\n",
            "  data = yf.download(ticker, period=\"60d\", interval=\"5m\", progress=False)\n"
          ]
        },
        {
          "name": "stdout",
          "output_type": "stream",
          "text": [
            "✅ Saved: fo_5min_data/FORTIS_5min.csv\n",
            "📥 Downloading VOLTAS.NS ...\n"
          ]
        },
        {
          "name": "stderr",
          "output_type": "stream",
          "text": [
            "/tmp/ipython-input-4-2200874810.py:19: FutureWarning: YF.download() has changed argument auto_adjust default to True\n",
            "  data = yf.download(ticker, period=\"60d\", interval=\"5m\", progress=False)\n"
          ]
        },
        {
          "name": "stdout",
          "output_type": "stream",
          "text": [
            "✅ Saved: fo_5min_data/VOLTAS_5min.csv\n",
            "📥 Downloading NMDC.NS ...\n"
          ]
        },
        {
          "name": "stderr",
          "output_type": "stream",
          "text": [
            "/tmp/ipython-input-4-2200874810.py:19: FutureWarning: YF.download() has changed argument auto_adjust default to True\n",
            "  data = yf.download(ticker, period=\"60d\", interval=\"5m\", progress=False)\n"
          ]
        },
        {
          "name": "stdout",
          "output_type": "stream",
          "text": [
            "✅ Saved: fo_5min_data/NMDC_5min.csv\n",
            "📥 Downloading OFSS.NS ...\n"
          ]
        },
        {
          "name": "stderr",
          "output_type": "stream",
          "text": [
            "/tmp/ipython-input-4-2200874810.py:19: FutureWarning: YF.download() has changed argument auto_adjust default to True\n",
            "  data = yf.download(ticker, period=\"60d\", interval=\"5m\", progress=False)\n"
          ]
        },
        {
          "name": "stdout",
          "output_type": "stream",
          "text": [
            "✅ Saved: fo_5min_data/OFSS_5min.csv\n",
            "📥 Downloading TECHM.NS ...\n"
          ]
        },
        {
          "name": "stderr",
          "output_type": "stream",
          "text": [
            "/tmp/ipython-input-4-2200874810.py:19: FutureWarning: YF.download() has changed argument auto_adjust default to True\n",
            "  data = yf.download(ticker, period=\"60d\", interval=\"5m\", progress=False)\n"
          ]
        },
        {
          "name": "stdout",
          "output_type": "stream",
          "text": [
            "✅ Saved: fo_5min_data/TECHM_5min.csv\n",
            "📥 Downloading BSE.NS ...\n"
          ]
        },
        {
          "name": "stderr",
          "output_type": "stream",
          "text": [
            "/tmp/ipython-input-4-2200874810.py:19: FutureWarning: YF.download() has changed argument auto_adjust default to True\n",
            "  data = yf.download(ticker, period=\"60d\", interval=\"5m\", progress=False)\n"
          ]
        },
        {
          "name": "stdout",
          "output_type": "stream",
          "text": [
            "✅ Saved: fo_5min_data/BSE_5min.csv\n",
            "📥 Downloading IRB.NS ...\n"
          ]
        },
        {
          "name": "stderr",
          "output_type": "stream",
          "text": [
            "/tmp/ipython-input-4-2200874810.py:19: FutureWarning: YF.download() has changed argument auto_adjust default to True\n",
            "  data = yf.download(ticker, period=\"60d\", interval=\"5m\", progress=False)\n"
          ]
        },
        {
          "name": "stdout",
          "output_type": "stream",
          "text": [
            "✅ Saved: fo_5min_data/IRB_5min.csv\n",
            "📥 Downloading RVNL.NS ...\n"
          ]
        },
        {
          "name": "stderr",
          "output_type": "stream",
          "text": [
            "/tmp/ipython-input-4-2200874810.py:19: FutureWarning: YF.download() has changed argument auto_adjust default to True\n",
            "  data = yf.download(ticker, period=\"60d\", interval=\"5m\", progress=False)\n"
          ]
        },
        {
          "name": "stdout",
          "output_type": "stream",
          "text": [
            "✅ Saved: fo_5min_data/RVNL_5min.csv\n",
            "📥 Downloading GLENMARK.NS ...\n"
          ]
        },
        {
          "name": "stderr",
          "output_type": "stream",
          "text": [
            "/tmp/ipython-input-4-2200874810.py:19: FutureWarning: YF.download() has changed argument auto_adjust default to True\n",
            "  data = yf.download(ticker, period=\"60d\", interval=\"5m\", progress=False)\n"
          ]
        },
        {
          "name": "stdout",
          "output_type": "stream",
          "text": [
            "✅ Saved: fo_5min_data/GLENMARK_5min.csv\n",
            "📥 Downloading GODREJPROP.NS ...\n"
          ]
        },
        {
          "name": "stderr",
          "output_type": "stream",
          "text": [
            "/tmp/ipython-input-4-2200874810.py:19: FutureWarning: YF.download() has changed argument auto_adjust default to True\n",
            "  data = yf.download(ticker, period=\"60d\", interval=\"5m\", progress=False)\n"
          ]
        },
        {
          "name": "stdout",
          "output_type": "stream",
          "text": [
            "✅ Saved: fo_5min_data/GODREJPROP_5min.csv\n",
            "📥 Downloading ETERNAL.NS ...\n"
          ]
        },
        {
          "name": "stderr",
          "output_type": "stream",
          "text": [
            "/tmp/ipython-input-4-2200874810.py:19: FutureWarning: YF.download() has changed argument auto_adjust default to True\n",
            "  data = yf.download(ticker, period=\"60d\", interval=\"5m\", progress=False)\n"
          ]
        },
        {
          "name": "stdout",
          "output_type": "stream",
          "text": [
            "✅ Saved: fo_5min_data/ETERNAL_5min.csv\n",
            "📥 Downloading WIPRO.NS ...\n"
          ]
        },
        {
          "name": "stderr",
          "output_type": "stream",
          "text": [
            "/tmp/ipython-input-4-2200874810.py:19: FutureWarning: YF.download() has changed argument auto_adjust default to True\n",
            "  data = yf.download(ticker, period=\"60d\", interval=\"5m\", progress=False)\n"
          ]
        },
        {
          "name": "stdout",
          "output_type": "stream",
          "text": [
            "✅ Saved: fo_5min_data/WIPRO_5min.csv\n",
            "📥 Downloading AUBANK.NS ...\n"
          ]
        },
        {
          "name": "stderr",
          "output_type": "stream",
          "text": [
            "/tmp/ipython-input-4-2200874810.py:19: FutureWarning: YF.download() has changed argument auto_adjust default to True\n",
            "  data = yf.download(ticker, period=\"60d\", interval=\"5m\", progress=False)\n"
          ]
        },
        {
          "name": "stdout",
          "output_type": "stream",
          "text": [
            "✅ Saved: fo_5min_data/AUBANK_5min.csv\n",
            "📥 Downloading LODHA.NS ...\n"
          ]
        },
        {
          "name": "stderr",
          "output_type": "stream",
          "text": [
            "/tmp/ipython-input-4-2200874810.py:19: FutureWarning: YF.download() has changed argument auto_adjust default to True\n",
            "  data = yf.download(ticker, period=\"60d\", interval=\"5m\", progress=False)\n"
          ]
        },
        {
          "name": "stdout",
          "output_type": "stream",
          "text": [
            "✅ Saved: fo_5min_data/LODHA_5min.csv\n",
            "📥 Downloading TRENT.NS ...\n"
          ]
        },
        {
          "name": "stderr",
          "output_type": "stream",
          "text": [
            "/tmp/ipython-input-4-2200874810.py:19: FutureWarning: YF.download() has changed argument auto_adjust default to True\n",
            "  data = yf.download(ticker, period=\"60d\", interval=\"5m\", progress=False)\n"
          ]
        },
        {
          "name": "stdout",
          "output_type": "stream",
          "text": [
            "✅ Saved: fo_5min_data/TRENT_5min.csv\n",
            "📥 Downloading NATIONALUM.NS ...\n"
          ]
        },
        {
          "name": "stderr",
          "output_type": "stream",
          "text": [
            "/tmp/ipython-input-4-2200874810.py:19: FutureWarning: YF.download() has changed argument auto_adjust default to True\n",
            "  data = yf.download(ticker, period=\"60d\", interval=\"5m\", progress=False)\n"
          ]
        },
        {
          "name": "stdout",
          "output_type": "stream",
          "text": [
            "✅ Saved: fo_5min_data/NATIONALUM_5min.csv\n",
            "📥 Downloading ASTRAL.NS ...\n"
          ]
        },
        {
          "name": "stderr",
          "output_type": "stream",
          "text": [
            "/tmp/ipython-input-4-2200874810.py:19: FutureWarning: YF.download() has changed argument auto_adjust default to True\n",
            "  data = yf.download(ticker, period=\"60d\", interval=\"5m\", progress=False)\n"
          ]
        },
        {
          "name": "stdout",
          "output_type": "stream",
          "text": [
            "✅ Saved: fo_5min_data/ASTRAL_5min.csv\n",
            "📥 Downloading INDIANB.NS ...\n"
          ]
        },
        {
          "name": "stderr",
          "output_type": "stream",
          "text": [
            "/tmp/ipython-input-4-2200874810.py:19: FutureWarning: YF.download() has changed argument auto_adjust default to True\n",
            "  data = yf.download(ticker, period=\"60d\", interval=\"5m\", progress=False)\n"
          ]
        },
        {
          "name": "stdout",
          "output_type": "stream",
          "text": [
            "✅ Saved: fo_5min_data/INDIANB_5min.csv\n",
            "📥 Downloading SAIL.NS ...\n"
          ]
        },
        {
          "name": "stderr",
          "output_type": "stream",
          "text": [
            "/tmp/ipython-input-4-2200874810.py:19: FutureWarning: YF.download() has changed argument auto_adjust default to True\n",
            "  data = yf.download(ticker, period=\"60d\", interval=\"5m\", progress=False)\n"
          ]
        },
        {
          "name": "stdout",
          "output_type": "stream",
          "text": [
            "✅ Saved: fo_5min_data/SAIL_5min.csv\n",
            "📥 Downloading LTIM.NS ...\n"
          ]
        },
        {
          "name": "stderr",
          "output_type": "stream",
          "text": [
            "/tmp/ipython-input-4-2200874810.py:19: FutureWarning: YF.download() has changed argument auto_adjust default to True\n",
            "  data = yf.download(ticker, period=\"60d\", interval=\"5m\", progress=False)\n"
          ]
        },
        {
          "name": "stdout",
          "output_type": "stream",
          "text": [
            "✅ Saved: fo_5min_data/LTIM_5min.csv\n",
            "📥 Downloading LICHSGFIN.NS ...\n"
          ]
        },
        {
          "name": "stderr",
          "output_type": "stream",
          "text": [
            "/tmp/ipython-input-4-2200874810.py:19: FutureWarning: YF.download() has changed argument auto_adjust default to True\n",
            "  data = yf.download(ticker, period=\"60d\", interval=\"5m\", progress=False)\n"
          ]
        },
        {
          "name": "stdout",
          "output_type": "stream",
          "text": [
            "✅ Saved: fo_5min_data/LICHSGFIN_5min.csv\n",
            "📥 Downloading IIFL.NS ...\n"
          ]
        },
        {
          "name": "stderr",
          "output_type": "stream",
          "text": [
            "/tmp/ipython-input-4-2200874810.py:19: FutureWarning: YF.download() has changed argument auto_adjust default to True\n",
            "  data = yf.download(ticker, period=\"60d\", interval=\"5m\", progress=False)\n"
          ]
        },
        {
          "name": "stdout",
          "output_type": "stream",
          "text": [
            "✅ Saved: fo_5min_data/IIFL_5min.csv\n",
            "📥 Downloading LTF.NS ...\n"
          ]
        },
        {
          "name": "stderr",
          "output_type": "stream",
          "text": [
            "/tmp/ipython-input-4-2200874810.py:19: FutureWarning: YF.download() has changed argument auto_adjust default to True\n",
            "  data = yf.download(ticker, period=\"60d\", interval=\"5m\", progress=False)\n"
          ]
        },
        {
          "name": "stdout",
          "output_type": "stream",
          "text": [
            "✅ Saved: fo_5min_data/LTF_5min.csv\n",
            "📥 Downloading DRREDDY.NS ...\n"
          ]
        },
        {
          "name": "stderr",
          "output_type": "stream",
          "text": [
            "/tmp/ipython-input-4-2200874810.py:19: FutureWarning: YF.download() has changed argument auto_adjust default to True\n",
            "  data = yf.download(ticker, period=\"60d\", interval=\"5m\", progress=False)\n"
          ]
        },
        {
          "name": "stdout",
          "output_type": "stream",
          "text": [
            "✅ Saved: fo_5min_data/DRREDDY_5min.csv\n",
            "📥 Downloading KALYANKJIL.NS ...\n"
          ]
        },
        {
          "name": "stderr",
          "output_type": "stream",
          "text": [
            "/tmp/ipython-input-4-2200874810.py:19: FutureWarning: YF.download() has changed argument auto_adjust default to True\n",
            "  data = yf.download(ticker, period=\"60d\", interval=\"5m\", progress=False)\n"
          ]
        },
        {
          "name": "stdout",
          "output_type": "stream",
          "text": [
            "✅ Saved: fo_5min_data/KALYANKJIL_5min.csv\n",
            "📥 Downloading JINDALSTEL.NS ...\n"
          ]
        },
        {
          "name": "stderr",
          "output_type": "stream",
          "text": [
            "/tmp/ipython-input-4-2200874810.py:19: FutureWarning: YF.download() has changed argument auto_adjust default to True\n",
            "  data = yf.download(ticker, period=\"60d\", interval=\"5m\", progress=False)\n"
          ]
        },
        {
          "name": "stdout",
          "output_type": "stream",
          "text": [
            "✅ Saved: fo_5min_data/JINDALSTEL_5min.csv\n",
            "📥 Downloading HUDCO.NS ...\n"
          ]
        },
        {
          "name": "stderr",
          "output_type": "stream",
          "text": [
            "/tmp/ipython-input-4-2200874810.py:19: FutureWarning: YF.download() has changed argument auto_adjust default to True\n",
            "  data = yf.download(ticker, period=\"60d\", interval=\"5m\", progress=False)\n"
          ]
        },
        {
          "name": "stdout",
          "output_type": "stream",
          "text": [
            "✅ Saved: fo_5min_data/HUDCO_5min.csv\n",
            "📥 Downloading TATACONSUM.NS ...\n"
          ]
        },
        {
          "name": "stderr",
          "output_type": "stream",
          "text": [
            "/tmp/ipython-input-4-2200874810.py:19: FutureWarning: YF.download() has changed argument auto_adjust default to True\n",
            "  data = yf.download(ticker, period=\"60d\", interval=\"5m\", progress=False)\n"
          ]
        },
        {
          "name": "stdout",
          "output_type": "stream",
          "text": [
            "✅ Saved: fo_5min_data/TATACONSUM_5min.csv\n",
            "📥 Downloading PRESTIGE.NS ...\n"
          ]
        },
        {
          "name": "stderr",
          "output_type": "stream",
          "text": [
            "/tmp/ipython-input-4-2200874810.py:19: FutureWarning: YF.download() has changed argument auto_adjust default to True\n",
            "  data = yf.download(ticker, period=\"60d\", interval=\"5m\", progress=False)\n"
          ]
        },
        {
          "name": "stdout",
          "output_type": "stream",
          "text": [
            "✅ Saved: fo_5min_data/PRESTIGE_5min.csv\n",
            "📥 Downloading INDHOTEL.NS ...\n"
          ]
        },
        {
          "name": "stderr",
          "output_type": "stream",
          "text": [
            "/tmp/ipython-input-4-2200874810.py:19: FutureWarning: YF.download() has changed argument auto_adjust default to True\n",
            "  data = yf.download(ticker, period=\"60d\", interval=\"5m\", progress=False)\n"
          ]
        },
        {
          "name": "stdout",
          "output_type": "stream",
          "text": [
            "✅ Saved: fo_5min_data/INDHOTEL_5min.csv\n",
            "📥 Downloading OIL.NS ...\n"
          ]
        },
        {
          "name": "stderr",
          "output_type": "stream",
          "text": [
            "/tmp/ipython-input-4-2200874810.py:19: FutureWarning: YF.download() has changed argument auto_adjust default to True\n",
            "  data = yf.download(ticker, period=\"60d\", interval=\"5m\", progress=False)\n"
          ]
        },
        {
          "name": "stdout",
          "output_type": "stream",
          "text": [
            "✅ Saved: fo_5min_data/OIL_5min.csv\n",
            "📥 Downloading BLUESTARCO.NS ...\n"
          ]
        },
        {
          "name": "stderr",
          "output_type": "stream",
          "text": [
            "/tmp/ipython-input-4-2200874810.py:19: FutureWarning: YF.download() has changed argument auto_adjust default to True\n",
            "  data = yf.download(ticker, period=\"60d\", interval=\"5m\", progress=False)\n"
          ]
        },
        {
          "name": "stdout",
          "output_type": "stream",
          "text": [
            "✅ Saved: fo_5min_data/BLUESTARCO_5min.csv\n",
            "📥 Downloading APLAPOLLO.NS ...\n"
          ]
        },
        {
          "name": "stderr",
          "output_type": "stream",
          "text": [
            "/tmp/ipython-input-4-2200874810.py:19: FutureWarning: YF.download() has changed argument auto_adjust default to True\n",
            "  data = yf.download(ticker, period=\"60d\", interval=\"5m\", progress=False)\n"
          ]
        },
        {
          "name": "stdout",
          "output_type": "stream",
          "text": [
            "✅ Saved: fo_5min_data/APLAPOLLO_5min.csv\n",
            "📥 Downloading BSOFT.NS ...\n"
          ]
        },
        {
          "name": "stderr",
          "output_type": "stream",
          "text": [
            "/tmp/ipython-input-4-2200874810.py:19: FutureWarning: YF.download() has changed argument auto_adjust default to True\n",
            "  data = yf.download(ticker, period=\"60d\", interval=\"5m\", progress=False)\n"
          ]
        },
        {
          "name": "stdout",
          "output_type": "stream",
          "text": [
            "✅ Saved: fo_5min_data/BSOFT_5min.csv\n",
            "📥 Downloading ABCAPITAL.NS ...\n"
          ]
        },
        {
          "name": "stderr",
          "output_type": "stream",
          "text": [
            "/tmp/ipython-input-4-2200874810.py:19: FutureWarning: YF.download() has changed argument auto_adjust default to True\n",
            "  data = yf.download(ticker, period=\"60d\", interval=\"5m\", progress=False)\n"
          ]
        },
        {
          "name": "stdout",
          "output_type": "stream",
          "text": [
            "✅ Saved: fo_5min_data/ABCAPITAL_5min.csv\n",
            "📥 Downloading OBEROIRLTY.NS ...\n"
          ]
        },
        {
          "name": "stderr",
          "output_type": "stream",
          "text": [
            "/tmp/ipython-input-4-2200874810.py:19: FutureWarning: YF.download() has changed argument auto_adjust default to True\n",
            "  data = yf.download(ticker, period=\"60d\", interval=\"5m\", progress=False)\n"
          ]
        },
        {
          "name": "stdout",
          "output_type": "stream",
          "text": [
            "✅ Saved: fo_5min_data/OBEROIRLTY_5min.csv\n",
            "📥 Downloading PHOENIXLTD.NS ...\n"
          ]
        },
        {
          "name": "stderr",
          "output_type": "stream",
          "text": [
            "/tmp/ipython-input-4-2200874810.py:19: FutureWarning: YF.download() has changed argument auto_adjust default to True\n",
            "  data = yf.download(ticker, period=\"60d\", interval=\"5m\", progress=False)\n"
          ]
        },
        {
          "name": "stdout",
          "output_type": "stream",
          "text": [
            "✅ Saved: fo_5min_data/PHOENIXLTD_5min.csv\n"
          ]
        }
      ],
      "source": [
        "import yfinance as yf\n",
        "import pandas as pd\n",
        "import os\n",
        "from datetime import datetime\n",
        "\n",
        "# Load F&O Tickers\n",
        "df = pd.read_csv(\"/content/FNO Stocks - All FO Stocks List, Technical Analysis Scanner.csv\")\n",
        "tickers = df['Symbol'].str.strip().str.upper().tolist()\n",
        "tickers = [ticker + '.NS' for ticker in tickers]\n",
        "\n",
        "# Output folder\n",
        "output_folder = \"fo_5min_data\"\n",
        "os.makedirs(output_folder, exist_ok=True)\n",
        "\n",
        "# Download 5-min data for last 60 days\n",
        "for ticker in tickers:\n",
        "    try:\n",
        "        print(f\"📥 Downloading {ticker} ...\")\n",
        "        data = yf.download(ticker, period=\"60d\", interval=\"5m\", progress=False)\n",
        "\n",
        "        if data.empty:\n",
        "            print(f\"⚠️ No data for {ticker}, skipping.\")\n",
        "            continue\n",
        "\n",
        "        # Save as CSV\n",
        "        filename = os.path.join(output_folder, f\"{ticker.replace('.NS','')}_5min.csv\")\n",
        "        data.to_csv(filename)\n",
        "        print(f\"✅ Saved: {filename}\")\n",
        "\n",
        "    except Exception as e:\n",
        "        print(f\"❌ Error with {ticker}: {e}\")\n"
      ]
    },
    {
      "cell_type": "code",
      "execution_count": null,
      "metadata": {
        "id": "edki9aVRW9-C"
      },
      "outputs": [],
      "source": []
    }
  ],
  "metadata": {
    "colab": {
      "provenance": [],
      "authorship_tag": "ABX9TyMKecdT4+IBRLAYEhIZvEaX",
      "include_colab_link": true
    },
    "kernelspec": {
      "display_name": "Python 3",
      "name": "python3"
    },
    "language_info": {
      "name": "python"
    }
  },
  "nbformat": 4,
  "nbformat_minor": 0
}